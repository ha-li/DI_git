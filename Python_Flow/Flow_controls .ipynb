{
 "cells": [
  {
   "cell_type": "code",
   "execution_count": 1,
   "metadata": {},
   "outputs": [
    {
     "name": "stdout",
     "output_type": "stream",
     "text": [
      "this number is -->\n",
      "bigger than 5\n"
     ]
    }
   ],
   "source": [
    "a=5\n",
    "print('this number is -->')\n",
    "if a>=5:\n",
    "    print('bigger than 5')\n",
    "elif a==5:\n",
    "    print('its exactly 5')\n",
    "else:\n",
    "    print('its smaller than 5')"
   ]
  },
  {
   "cell_type": "code",
   "execution_count": 48,
   "metadata": {},
   "outputs": [
    {
     "name": "stdout",
     "output_type": "stream",
     "text": [
      "1\n",
      "2\n",
      "4\n",
      "7\n",
      "6\n",
      "2\n"
     ]
    }
   ],
   "source": [
    "for item in [1,2,4,7,6,2]:\n",
    "    print(item)"
   ]
  },
  {
   "cell_type": "code",
   "execution_count": 49,
   "metadata": {},
   "outputs": [
    {
     "name": "stdout",
     "output_type": "stream",
     "text": [
      "7\n",
      "6\n"
     ]
    }
   ],
   "source": [
    "for item in [1,2,4,7,6,2]:\n",
    "    if item>4:\n",
    "        print(item)"
   ]
  },
  {
   "cell_type": "code",
   "execution_count": 50,
   "metadata": {},
   "outputs": [
    {
     "name": "stdout",
     "output_type": "stream",
     "text": [
      "7\n",
      "6\n"
     ]
    }
   ],
   "source": [
    "for thing in [1,2,4,7,6,2]:\n",
    "    if thing>4:\n",
    "        print(thing)"
   ]
  },
  {
   "cell_type": "code",
   "execution_count": 51,
   "metadata": {},
   "outputs": [
    {
     "name": "stdout",
     "output_type": "stream",
     "text": [
      "dj\n",
      "ringo\n",
      "gabe\n",
      "Hi Gabe\n",
      "etc\n"
     ]
    }
   ],
   "source": [
    "for student in ['dj','ringo','gabe','etc']:\n",
    "    print(student)\n",
    "    if student == 'gabe':\n",
    "        print('Hi Gabe')"
   ]
  },
  {
   "cell_type": "code",
   "execution_count": 52,
   "metadata": {},
   "outputs": [],
   "source": [
    "lis=[5,7,4,2,3,9,10,45,17,-100,-4,-5]"
   ]
  },
  {
   "cell_type": "code",
   "execution_count": 53,
   "metadata": {},
   "outputs": [
    {
     "name": "stdout",
     "output_type": "stream",
     "text": [
      "the max is->  45\n",
      "the min is->  -100\n"
     ]
    }
   ],
   "source": [
    "maxx=lis[0]\n",
    "minn=lis[0]\n",
    "for item in lis:\n",
    "    #print('the item is: ',item)\n",
    "    if item>maxx:\n",
    "        #print(item , 'is bigger than the current max of /, max , 'so max=', item)\n",
    "        maxx=item\n",
    "    if item<minn:\n",
    "        minn=item\n",
    "print('the max is-> ',maxx)\n",
    "print('the min is-> ',minn)"
   ]
  },
  {
   "cell_type": "code",
   "execution_count": 54,
   "metadata": {},
   "outputs": [
    {
     "data": {
      "text/plain": [
       "-7"
      ]
     },
     "execution_count": 54,
     "metadata": {},
     "output_type": "execute_result"
    }
   ],
   "source": [
    "# do not use this when doing the AVG homework\n",
    "# only use for and if\n",
    "sum(lis)"
   ]
  },
  {
   "cell_type": "code",
   "execution_count": 55,
   "metadata": {},
   "outputs": [],
   "source": [
    "# How to write a function\n",
    "# lets write a function that calculates max of lists\n",
    "\n",
    "def max_lis(input):\n",
    "    maxx=input[0]\n",
    "    for item in input:\n",
    "        if item>maxx:\n",
    "            maxx=item \n",
    "    return(maxx)"
   ]
  },
  {
   "cell_type": "code",
   "execution_count": 56,
   "metadata": {},
   "outputs": [
    {
     "data": {
      "text/plain": [
       "10"
      ]
     },
     "execution_count": 56,
     "metadata": {},
     "output_type": "execute_result"
    }
   ],
   "source": [
    "max_lis([1,2,5,8,10,3])"
   ]
  },
  {
   "cell_type": "code",
   "execution_count": 57,
   "metadata": {},
   "outputs": [
    {
     "name": "stdout",
     "output_type": "stream",
     "text": [
      "a is:  5\n",
      "a is:  4\n",
      "a is:  3\n",
      "a is:  2\n",
      "a is:  1\n",
      "a is:  0\n",
      "a is:  -1\n",
      "a is:  -2\n",
      "a is:  -3\n",
      "a is:  -4\n",
      "a is:  -5\n",
      "a is:  -6\n",
      "a is:  -7\n",
      "a is:  -8\n",
      "a is:  -9\n",
      "a is:  -10\n"
     ]
    }
   ],
   "source": [
    "# what does while do? it does what it says\n",
    "\n",
    "a=5\n",
    "while a>=-10:\n",
    "    print('a is: ', a)\n",
    "    a=a-1"
   ]
  },
  {
   "cell_type": "code",
   "execution_count": null,
   "metadata": {},
   "outputs": [],
   "source": []
  }
 ],
 "metadata": {
  "kernelspec": {
   "display_name": "Python 3",
   "language": "python",
   "name": "python3"
  },
  "language_info": {
   "codemirror_mode": {
    "name": "ipython",
    "version": 3
   },
   "file_extension": ".py",
   "mimetype": "text/x-python",
   "name": "python",
   "nbconvert_exporter": "python",
   "pygments_lexer": "ipython3",
   "version": "3.6.5"
  }
 },
 "nbformat": 4,
 "nbformat_minor": 2
}
