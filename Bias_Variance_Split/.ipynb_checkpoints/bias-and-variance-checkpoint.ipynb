{
 "cells": [
  {
   "cell_type": "markdown",
   "metadata": {},
   "source": [
    "<img src=\"https://imgur.com/WafvawM.png\" style=\"float: left; margin: 30px; height: 55px\">\n",
    "\n",
    "\n",
    "# Train/Test Split and Bias and Variance\n",
    "\n",
    "---"
   ]
  },
  {
   "cell_type": "markdown",
   "metadata": {},
   "source": [
    "<a id=\"learning-objectives\"></a>\n",
    "<a id=\"learning-objectives\"></a>\n",
    "<a id=\"learning-objectives\"></a>\n",
    "### Learning Objectives\n",
    "- Define error due to bias and error due to variance.\n",
    "- Identify the bias-variance trade-off.\n",
    "- Describe what overfitting and underfitting means in the context of model building.\n",
    "- Explain problems associated with over- and underfitting.\n",
    "- Grasp why train/test split is necessary.\n",
    "- Explore k-folds, LOOCV, and three split methods."
   ]
  },
  {
   "cell_type": "markdown",
   "metadata": {},
   "source": [
    "### Lesson Guide\n",
    "- [Bias and Variance Trade-Off](#bias-and-variance-trade-off)\n",
    "\t- [Bias? Variance?](#bias-variance)\n",
    "\t- [Exploring the Bias-Variance Trade-Off](#exploring-the-bias-variance-tradeoff)\n",
    "\t- [Brain and Body Weight Mammal Data Set](#brain-and-body-weight-mammal-dataset)\n",
    "\t- [Making a Prediction](#making-a-prediction)\n",
    "- [Making a Prediction From a Sample](#making-a-prediction-from-a-sample)\n",
    "\t- [Let's Try Something Completely Different](#lets-try-something-completely-different)\n",
    "- [Balancing Bias and Variance](#balancing-bias-and-variance)\n",
    "- [Train/Test Split](#train-test-split)\n",
    "\t- [Evaluation Procedure #1: Train and Test on the Entire Data Set (Do Not Do This)](#evaluation-procedure--train-and-test-on-the-entire-dataset-do-not-do-this)\n",
    "\t- [Problems With Training and Testing on the Same Data](#problems-with-training-and-testing-on-the-same-data)\n",
    "\t- [Evaluation Procedure #2: Train/Test Split](#evaluation-procedure--traintest-split)\n",
    "\t- [Comparing Test Performance With a Null Baseline](#comparing-test-performance-with-a-null-baseline)\n",
    "- [K-Folds Cross-Validation](#k-folds-cross-validation)\n",
    "\t- [Leave-One-Out Cross-Validation](#leave-one-out-cross-validation)\n",
    "\t- [Intro to Cross-Validation With the Boston Data](#intro-to-cross-validation-with-the-boston-data)\n",
    "- [Three-Way Data Split](#three-way-data-split)\n",
    "\t- [Additional Resources](#additional-resources)\n",
    "- [Summary](#summary)"
   ]
  },
  {
   "cell_type": "markdown",
   "metadata": {},
   "source": [
    "<a id=\"bias-and-variance-trade-off\"></a>\n",
    "## Bias and Variance Trade-Off\n",
    "---\n",
    "\n",
    "The **bias-variance tradeoff** is widely used in machine learning as a conceptual way of comparing and contrasting different models. We only have a few methods that are able to compare all machine learning models. The others are more mathematical.\n",
    "\n",
    "**Bias** is error stemming from incorrect model assumptions.\n",
    "- Example: Assuming data is linear when it has a more complicated structure.\n",
    "\n",
    "**Variance** is error stemming from being overly sensitive from changes to the training data.\n",
    "- Example: Using the training set exactly (e.g. 1-NN) for a model results in a completely different model -- even if the training set differs only slightly.\n",
    "\n",
    "\n",
    "As model complexity **increases**:\n",
    "- Bias **decreases**. (The model can more accurately model complex structure in data.)\n",
    "- Variance **increases**. (The model identifies more complex structures, making it more sensitive to small changes in the training data.)"
   ]
  },
  {
   "cell_type": "markdown",
   "metadata": {},
   "source": [
    "<a id=\"bias-variance\"></a>\n",
    "### Bias? Variance?"
   ]
  },
  {
   "cell_type": "markdown",
   "metadata": {
    "collapsed": true
   },
   "source": [
    "**Conceptual Definitions**\n",
    "- **Bias**: How close are predictions to the actual values?\n",
    "  - Roughly, whether or not our model aims on target.\n",
    "  - If the model cannot represent the data's structure, our predictions could be consistent, but will not be accurate.\n",
    "- **Variance**: How variable are our predictions?\n",
    "  - Roughly, whether or not our model is reliable.\n",
    "  - We will make slightly different predictions given slightly different training sets."
   ]
  },
  {
   "cell_type": "markdown",
   "metadata": {},
   "source": [
    "![](./assets/biasVsVarianceImage.png)"
   ]
  },
  {
   "cell_type": "markdown",
   "metadata": {
    "collapsed": true
   },
   "source": [
    "- Visually, we are building a model where the bulls-eye is the goal.\n",
    "- Each individual hit is one prediction based on our model.\n",
    "- Critically, the success of our model (low variance, low bias) depends on the training data present."
   ]
  },
  {
   "cell_type": "markdown",
   "metadata": {},
   "source": [
    "**Examples:**\n",
    "\n",
    "- **Linear regression:** Low variance, High bias.\n",
    "    - If we train with a different subset of the training set, the model will be about the same. Hence, the model has low variance.\n",
    "    - The resulting model will predict the training points incorrectly (unless they happen to be perfectly linear). Hence, it has high bias.\n",
    "   \n",
    "\n",
    "- **Nearest neighbor:** High variance, Low bias.\n",
    "    - If we train with a different subset of the training set, the model will make predictions very differently. Hence, the model is highly variable.\n",
    "    - The resulting model will predict every training point perfectly. Hence, it has low bias.\n",
    "\n",
    "- **K-Nearest neightbor:** Med-high variance, Med-low bias.\n",
    "    - The model itself is more robust to outliers, so it will make more predictions the same than before. Hence, it has lower variance than 1-NN.\n",
    "    - The resulting model no longer predicts every point perfectly, since outliers will be mispredicted. So, the bias will be higher than before.\n",
    "\n",
    "\n",
    "See if you can figure out:\n",
    "\n",
    "- **High-order polynomial (as compared to linear regression)**"
   ]
  },
  {
   "cell_type": "markdown",
   "metadata": {},
   "source": [
    "**Expressing bias and variance mathematically:**\n",
    "\n",
    "It can be helpful understanding these terms by looking at how we can decompose the total error into them mathematically. (We will skip the derivations for now!)\n",
    "\n",
    "Let's define the error of our predictor as the expected value of our squared error. Note this error is not based on any particular fitted model, but on the family of potential models given a dataset (i.e. all fitted models made from all possible subsets of data).\n",
    "\n",
    "$$E[(y - \\hat{f}(x))^2] = Bias[\\hat{f}(x)]^2 + Var[\\hat{f}(x)] + \\sigma^2$$\n",
    "\n",
    "This states the expected error is based on only three components: **bias**, **variance**, and **irreducible error**.\n",
    "\n",
    "Breaking the bias and variance down further:\n",
    "\n",
    "$$Bias[\\hat{f}(x)] = E[\\hat{f}(x) - f(x)].$$\n",
    "\n",
    "- The bias is just the average expected distance between our predictor and actual values.\n",
    "\n",
    "$$Var[\\hat{f}(x)] = E[\\hat{f}(x)^2] - E[\\hat{f}(x)]^2.$$\n",
    "\n",
    "- The variance is how much our predictions vary about the mean. ($E[\\hat{f}(x)]$ is our predictor's mean prediction.)\n",
    "\n",
    "- The irreducible error stems from noise in the problem itself.\n",
    "\n",
    "**Some common questions:**\n",
    "\n",
    "From the math above, we can answer a few common questions:\n",
    "\n",
    "Can a model have high bias given one dataset and low bias for another?\n",
    "- Yes. If our data is linearly related, for example, it will have low bias on a linear model! However, in general across all datasets very few are accurately described with a linear model. So, in general we say a linear model has high bias and low variance.\n",
    "\n",
    "Is the MSE for a fitted linear regression the same thing as the bias?\n",
    "- It's close, but bias does not apply to a specific fitted model. Bias is the expected error of a model no matter what subset of the data it is fit on. This way, if we happen to get a lucky MSE fitting a model on a particular subset of our data, this does not mean we will have a low bias overall."
   ]
  },
  {
   "cell_type": "markdown",
   "metadata": {},
   "source": [
    "<a id=\"exploring-the-bias-variance-tradeoff\"></a>\n",
    "### Exploring the Bias-Variance Trade-Off"
   ]
  },
  {
   "cell_type": "code",
   "execution_count": 11,
   "metadata": {},
   "outputs": [],
   "source": [
    "import pandas as pd\n",
    "import numpy as np\n",
    "import seaborn as sns\n",
    "import matplotlib.pyplot as plt\n",
    "\n",
    "# Allow plots to appear in the notebook.\n",
    "%matplotlib inline"
   ]
  },
  {
   "cell_type": "markdown",
   "metadata": {},
   "source": [
    "<a id=\"brain-and-body-weight-mammal-dataset\"></a>\n",
    "### Brain and Body Weight Mammal Data Set"
   ]
  },
  {
   "cell_type": "markdown",
   "metadata": {
    "collapsed": true
   },
   "source": [
    "This is a [data set](http://people.sc.fsu.edu/~jburkardt/datasets/regression/x01.txt) of the average weight of the body (in kg) and the brain (in g) for 62 mammal species. We'll use this dataset to investigate bias vs. variance. Let's read it into Pandas and take a quick look:"
   ]
  },
  {
   "cell_type": "code",
   "execution_count": 12,
   "metadata": {},
   "outputs": [
    {
     "data": {
      "text/html": [
       "<div>\n",
       "<style scoped>\n",
       "    .dataframe tbody tr th:only-of-type {\n",
       "        vertical-align: middle;\n",
       "    }\n",
       "\n",
       "    .dataframe tbody tr th {\n",
       "        vertical-align: top;\n",
       "    }\n",
       "\n",
       "    .dataframe thead th {\n",
       "        text-align: right;\n",
       "    }\n",
       "</style>\n",
       "<table border=\"1\" class=\"dataframe\">\n",
       "  <thead>\n",
       "    <tr style=\"text-align: right;\">\n",
       "      <th></th>\n",
       "      <th>brain</th>\n",
       "      <th>body</th>\n",
       "    </tr>\n",
       "  </thead>\n",
       "  <tbody>\n",
       "    <tr>\n",
       "      <th>0</th>\n",
       "      <td>3.385</td>\n",
       "      <td>44.5</td>\n",
       "    </tr>\n",
       "    <tr>\n",
       "      <th>1</th>\n",
       "      <td>0.480</td>\n",
       "      <td>15.5</td>\n",
       "    </tr>\n",
       "    <tr>\n",
       "      <th>2</th>\n",
       "      <td>1.350</td>\n",
       "      <td>8.1</td>\n",
       "    </tr>\n",
       "    <tr>\n",
       "      <th>3</th>\n",
       "      <td>465.000</td>\n",
       "      <td>423.0</td>\n",
       "    </tr>\n",
       "    <tr>\n",
       "      <th>4</th>\n",
       "      <td>36.330</td>\n",
       "      <td>119.5</td>\n",
       "    </tr>\n",
       "  </tbody>\n",
       "</table>\n",
       "</div>"
      ],
      "text/plain": [
       "     brain   body\n",
       "0    3.385   44.5\n",
       "1    0.480   15.5\n",
       "2    1.350    8.1\n",
       "3  465.000  423.0\n",
       "4   36.330  119.5"
      ]
     },
     "execution_count": 12,
     "metadata": {},
     "output_type": "execute_result"
    }
   ],
   "source": [
    "path = 'data/mammals.txt'\n",
    "cols = ['brain','body']\n",
    "mammals = pd.read_table(path, sep='\\t', names=cols, header=0)\n",
    "mammals.head()"
   ]
  },
  {
   "cell_type": "code",
   "execution_count": 13,
   "metadata": {},
   "outputs": [
    {
     "data": {
      "text/html": [
       "<div>\n",
       "<style scoped>\n",
       "    .dataframe tbody tr th:only-of-type {\n",
       "        vertical-align: middle;\n",
       "    }\n",
       "\n",
       "    .dataframe tbody tr th {\n",
       "        vertical-align: top;\n",
       "    }\n",
       "\n",
       "    .dataframe thead th {\n",
       "        text-align: right;\n",
       "    }\n",
       "</style>\n",
       "<table border=\"1\" class=\"dataframe\">\n",
       "  <thead>\n",
       "    <tr style=\"text-align: right;\">\n",
       "      <th></th>\n",
       "      <th>brain</th>\n",
       "      <th>body</th>\n",
       "    </tr>\n",
       "  </thead>\n",
       "  <tbody>\n",
       "    <tr>\n",
       "      <th>count</th>\n",
       "      <td>62.000000</td>\n",
       "      <td>62.000000</td>\n",
       "    </tr>\n",
       "    <tr>\n",
       "      <th>mean</th>\n",
       "      <td>198.789984</td>\n",
       "      <td>283.134194</td>\n",
       "    </tr>\n",
       "    <tr>\n",
       "      <th>std</th>\n",
       "      <td>899.158011</td>\n",
       "      <td>930.278942</td>\n",
       "    </tr>\n",
       "    <tr>\n",
       "      <th>min</th>\n",
       "      <td>0.005000</td>\n",
       "      <td>0.140000</td>\n",
       "    </tr>\n",
       "    <tr>\n",
       "      <th>25%</th>\n",
       "      <td>0.600000</td>\n",
       "      <td>4.250000</td>\n",
       "    </tr>\n",
       "    <tr>\n",
       "      <th>50%</th>\n",
       "      <td>3.342500</td>\n",
       "      <td>17.250000</td>\n",
       "    </tr>\n",
       "    <tr>\n",
       "      <th>75%</th>\n",
       "      <td>48.202500</td>\n",
       "      <td>166.000000</td>\n",
       "    </tr>\n",
       "    <tr>\n",
       "      <th>max</th>\n",
       "      <td>6654.000000</td>\n",
       "      <td>5712.000000</td>\n",
       "    </tr>\n",
       "  </tbody>\n",
       "</table>\n",
       "</div>"
      ],
      "text/plain": [
       "             brain         body\n",
       "count    62.000000    62.000000\n",
       "mean    198.789984   283.134194\n",
       "std     899.158011   930.278942\n",
       "min       0.005000     0.140000\n",
       "25%       0.600000     4.250000\n",
       "50%       3.342500    17.250000\n",
       "75%      48.202500   166.000000\n",
       "max    6654.000000  5712.000000"
      ]
     },
     "execution_count": 13,
     "metadata": {},
     "output_type": "execute_result"
    }
   ],
   "source": [
    "mammals.describe()"
   ]
  },
  {
   "cell_type": "markdown",
   "metadata": {},
   "source": [
    "We're going to focus on a smaller subset in which the body weight is less than 200 kg."
   ]
  },
  {
   "cell_type": "code",
   "execution_count": 14,
   "metadata": {},
   "outputs": [
    {
     "data": {
      "text/plain": [
       "(51, 2)"
      ]
     },
     "execution_count": 14,
     "metadata": {},
     "output_type": "execute_result"
    }
   ],
   "source": [
    "# Only keep rows in which the body weight is less than 200 kg.\n",
    "mammals = mammals[mammals.body < 200]\n",
    "mammals.shape"
   ]
  },
  {
   "cell_type": "markdown",
   "metadata": {
    "collapsed": true
   },
   "source": [
    "We're now going to pretend that there are only 51 mammal species in existence. In other words, we are pretending that this is the entire data set of brain and body weights for **every known mammal species**.\n",
    "\n",
    "Let's create a scatterplot (using [Seaborn](http://stanford.edu/~mwaskom/software/seaborn/)) to visualize the relationship between brain and body weight:"
   ]
  },
  {
   "cell_type": "code",
   "execution_count": 15,
   "metadata": {},
   "outputs": [
    {
     "data": {
      "image/png": "[encoded data removed]",
      "text/plain": [
       "<Figure size 360x360 with 1 Axes>"
      ]
     },
     "metadata": {},
     "output_type": "display_data"
    }
   ],
   "source": [
    "sns.lmplot(x='body', y='brain', data=mammals, ci=None, fit_reg=False);\n",
    "plt.xlim(-10, 200);\n",
    "plt.ylim(-10, 250);"
   ]
  },
  {
   "cell_type": "markdown",
   "metadata": {
    "collapsed": true
   },
   "source": [
    "There appears to be a relationship between brain and body weight for mammals."
   ]
  },
  {
   "cell_type": "markdown",
   "metadata": {},
   "source": [
    "<a id=\"making-a-prediction\"></a>\n",
    "### Making a Prediction"
   ]
  },
  {
   "cell_type": "markdown",
   "metadata": {},
   "source": [
    "<a id=\"linear-regression-quick-review\"></a>\n",
    "#### Linear Regression: A Quick Review\n",
    "\n",
    "![](./assets/linear-residuals.png)"
   ]
  },
  {
   "cell_type": "markdown",
   "metadata": {
    "collapsed": true
   },
   "source": [
    "Now let's pretend that a **new mammal species** is discovered. We measure the body weight of every member of this species we can find and calculate an **average body weight of 100 kgs**. We want to **predict the average brain weight** of this species (rather than measuring it directly). How might we do this?"
   ]
  },
  {
   "cell_type": "code",
   "execution_count": 16,
   "metadata": {},
   "outputs": [
    {
     "data": {
      "image/png": "[encoded data removed]",
      "text/plain": [
       "<Figure size 360x360 with 1 Axes>"
      ]
     },
     "metadata": {},
     "output_type": "display_data"
    }
   ],
   "source": [
    "sns.lmplot(x='body', y='brain', data=mammals, ci=None);\n",
    "plt.xlim(-10, 200);\n",
    "plt.ylim(-10, 250);"
   ]
  },
  {
   "cell_type": "markdown",
   "metadata": {
    "collapsed": true
   },
   "source": [
    "We drew a straight line that appears to best capture the relationship between brain and body weight. So, we might predict that our new species has a brain weight of about 45 g, as that's the approximate y value when x=100.\n",
    "\n",
    "This is known as a \"linear model\" or a \"linear regression model.\""
   ]
  },
  {
   "cell_type": "markdown",
   "metadata": {
    "collapsed": true
   },
   "source": [
    "<a id=\"making-a-prediction-from-a-sample\"></a>\n",
    "## Making a Prediction From a Sample"
   ]
  },
  {
   "cell_type": "markdown",
   "metadata": {
    "collapsed": true
   },
   "source": [
    "Earlier, we assumed that this dataset contained every known mammal species. That's very convenient, but **in the real world, all you ever have is a sample of data**. This may sound like a contentious statement, but the point of machine learning is to generalize from a sample to the population. If you already have data for the entire population, then you have no need for machine learning -- you can apply statistics directly and get optimal answers!\n",
    "\n",
    "Here, a more realistic situation would be to only have brain and body weights for (let's say) half of the 51 known mammals.\n",
    "\n",
    "When that new mammal species (with a body weight of 100 kg) is discovered, we still want to make an accurate prediction for its brain weight, but this task might be more difficult, as we don't have all of the data we would ideally like to have.\n",
    "\n",
    "Let's simulate this situation by assigning each of the 51 observations to **either universe 1 or universe 2**:"
   ]
  },
  {
   "cell_type": "code",
   "execution_count": 17,
   "metadata": {},
   "outputs": [
    {
     "data": {
      "text/html": [
       "<div>\n",
       "<style scoped>\n",
       "    .dataframe tbody tr th:only-of-type {\n",
       "        vertical-align: middle;\n",
       "    }\n",
       "\n",
       "    .dataframe tbody tr th {\n",
       "        vertical-align: top;\n",
       "    }\n",
       "\n",
       "    .dataframe thead th {\n",
       "        text-align: right;\n",
       "    }\n",
       "</style>\n",
       "<table border=\"1\" class=\"dataframe\">\n",
       "  <thead>\n",
       "    <tr style=\"text-align: right;\">\n",
       "      <th></th>\n",
       "      <th>brain</th>\n",
       "      <th>body</th>\n",
       "      <th>universe</th>\n",
       "    </tr>\n",
       "  </thead>\n",
       "  <tbody>\n",
       "    <tr>\n",
       "      <th>0</th>\n",
       "      <td>3.385</td>\n",
       "      <td>44.5</td>\n",
       "      <td>1</td>\n",
       "    </tr>\n",
       "    <tr>\n",
       "      <th>1</th>\n",
       "      <td>0.480</td>\n",
       "      <td>15.5</td>\n",
       "      <td>2</td>\n",
       "    </tr>\n",
       "    <tr>\n",
       "      <th>2</th>\n",
       "      <td>1.350</td>\n",
       "      <td>8.1</td>\n",
       "      <td>2</td>\n",
       "    </tr>\n",
       "    <tr>\n",
       "      <th>4</th>\n",
       "      <td>36.330</td>\n",
       "      <td>119.5</td>\n",
       "      <td>2</td>\n",
       "    </tr>\n",
       "    <tr>\n",
       "      <th>5</th>\n",
       "      <td>27.660</td>\n",
       "      <td>115.0</td>\n",
       "      <td>1</td>\n",
       "    </tr>\n",
       "  </tbody>\n",
       "</table>\n",
       "</div>"
      ],
      "text/plain": [
       "    brain   body  universe\n",
       "0   3.385   44.5         1\n",
       "1   0.480   15.5         2\n",
       "2   1.350    8.1         2\n",
       "4  36.330  119.5         2\n",
       "5  27.660  115.0         1"
      ]
     },
     "execution_count": 17,
     "metadata": {},
     "output_type": "execute_result"
    }
   ],
   "source": [
    "# Set a random seed for reproducibility.\n",
    "np.random.seed(12345)\n",
    "\n",
    "# Randomly assign every observation to either universe 1 or universe 2.\n",
    "mammals['universe'] = np.random.randint(1, 3, len(mammals))\n",
    "mammals.head()"
   ]
  },
  {
   "cell_type": "markdown",
   "metadata": {
    "collapsed": true
   },
   "source": [
    "**Important:** We only live in one of the two universes. Both universes have 51 known mammal species, but each universe knows the brain and body weight for different species.\n",
    "\n",
    "We can now tell Seaborn to create two plots in which the left plot only uses the data from **universe 1** and the right plot only uses the data from **universe 2**:"
   ]
  },
  {
   "cell_type": "code",
   "execution_count": 18,
   "metadata": {},
   "outputs": [
    {
     "data": {
      "image/png": "[encoded data removed]",
      "text/plain": [
       "<Figure size 720x360 with 2 Axes>"
      ]
     },
     "metadata": {},
     "output_type": "display_data"
    }
   ],
   "source": [
    "# col='universe' subsets the data by universe and creates two separate plots.\n",
    "sns.lmplot(x='body', y='brain', data=mammals, ci=None, col='universe');\n",
    "plt.xlim(-10, 200);\n",
    "plt.ylim(-10, 250);"
   ]
  },
  {
   "cell_type": "markdown",
   "metadata": {
    "collapsed": true
   },
   "source": [
    "The line looks pretty similar between the two plots, despite the fact that they used separate samples of data. In both cases, we would predict a brain weight of about 45 g.\n",
    "\n",
    "It's easier to see the degree of similarity by placing them on the same plot:"
   ]
  },
  {
   "cell_type": "code",
   "execution_count": 19,
   "metadata": {},
   "outputs": [
    {
     "data": {
      "image/png": "[encoded data removed]",
      "text/plain": [
       "<Figure size 411.125x360 with 1 Axes>"
      ]
     },
     "metadata": {},
     "output_type": "display_data"
    }
   ],
   "source": [
    "# hue='universe' subsets the data by universe and creates a single plot.\n",
    "sns.lmplot(x='body', y='brain', data=mammals, ci=None, hue='universe');\n",
    "plt.xlim(-10, 200);\n",
    "plt.ylim(-10, 250);"
   ]
  },
  {
   "cell_type": "markdown",
   "metadata": {
    "collapsed": true
   },
   "source": [
    "So, what was the point of this exercise? This was a visual demonstration of a high-bias, low-variance model.\n",
    "\n",
    "- It's **high bias** because it doesn't fit the data particularly well.\n",
    "- It's **low variance** because it doesn't change much depending on which observations happen to be available in that universe."
   ]
  },
  {
   "cell_type": "markdown",
   "metadata": {
    "collapsed": true
   },
   "source": [
    "<a id=\"lets-try-something-completely-different\"></a>\n",
    "### Let's Try Something Completely Different"
   ]
  },
  {
   "cell_type": "markdown",
   "metadata": {
    "collapsed": true
   },
   "source": [
    "What would a **low bias, high variance** model look like? Let's try polynomial regression with an eighth-order polynomial."
   ]
  },
  {
   "cell_type": "code",
   "execution_count": 20,
   "metadata": {},
   "outputs": [
    {
     "data": {
      "image/png": "[encoded data removed]",
      "text/plain": [
       "<Figure size 720x360 with 2 Axes>"
      ]
     },
     "metadata": {},
     "output_type": "display_data"
    }
   ],
   "source": [
    "sns.lmplot(x='body', y='brain', data=mammals, ci=None, col='universe', order=8);\n",
    "plt.xlim(-10, 200);\n",
    "plt.ylim(-10, 250);"
   ]
  },
  {
   "cell_type": "markdown",
   "metadata": {
    "collapsed": true
   },
   "source": [
    "- It's **low bias** because the models match the data effectively.\n",
    "- It's **high variance** because the models are widely different, depending on which observations happen to be available in that universe. (For a body weight of 100 kg, the brain weight prediction would be 40 kg in one universe and 0 kg in the other!)"
   ]
  },
  {
   "cell_type": "code",
   "execution_count": 11,
   "metadata": {
    "scrolled": true
   },
   "outputs": [
    {
     "data": {
      "image/png": "[encoded data removed]",
      "text/plain": [
       "<matplotlib.figure.Figure at 0x10d628cf8>"
      ]
     },
     "metadata": {},
     "output_type": "display_data"
    }
   ],
   "source": [
    "sns.lmplot(x='body', y='brain', data=mammals, ci=None, hue='universe', order=8);\n",
    "plt.xlim(-10, 200);\n",
    "plt.ylim(-10, 250);"
   ]
  },
  {
   "cell_type": "markdown",
   "metadata": {
    "collapsed": true
   },
   "source": [
    "<a id=\"balancing-bias-and-variance\"></a>\n",
    "## Balancing Bias and Variance\n",
    "Can we find a middle ground?"
   ]
  },
  {
   "cell_type": "markdown",
   "metadata": {
    "collapsed": true
   },
   "source": [
    "Perhaps we can create a model that has **less bias than the linear model** and **less variance than the eighth order polynomial**?\n",
    "\n",
    "Let's try a second order polynomial instead:"
   ]
  },
  {
   "cell_type": "code",
   "execution_count": 12,
   "metadata": {},
   "outputs": [
    {
     "data": {
      "image/png": "[encoded data removed]",
      "text/plain": [
       "<matplotlib.figure.Figure at 0x10d3e5ba8>"
      ]
     },
     "metadata": {},
     "output_type": "display_data"
    }
   ],
   "source": [
    "sns.lmplot(x='body', y='brain', data=mammals, ci=None, col='universe', order=2);\n",
    "plt.xlim(-10, 200);\n",
    "plt.ylim(-10, 250);"
   ]
  },
  {
   "cell_type": "markdown",
   "metadata": {
    "collapsed": true
   },
   "source": [
    "This seems better. In both the left and right plots, **it fits the data well, but not too well**.\n",
    "\n",
    "This is the essence of the **bias-variance trade-off**: You are seeking a model that appropriately balances bias and variance and thus will generalize to new data (known as \"out-of-sample\" data)."
   ]
  },
  {
   "cell_type": "markdown",
   "metadata": {
    "collapsed": true
   },
   "source": [
    "We want a model that best balances bias and variance. It\n",
    "should match our training data well (moderate bias) yet be low variance for out-of-sample data (moderate variance)."
   ]
  },
  {
   "cell_type": "markdown",
   "metadata": {
    "collapsed": true
   },
   "source": [
    "- Training error as a function of\n",
    "complexity.\n",
    "- Question: Why do we even\n",
    "care about variance if we\n",
    "know we can generate a\n",
    "more accurate model with\n",
    "higher complexity?"
   ]
  },
  {
   "cell_type": "markdown",
   "metadata": {},
   "source": [
    "### Can we obtain a zero-bias, zero-variance model?\n",
    "\n",
    "No! If there is any noise in the data-generating process, then a zero-variance model would not be learning from the data. Additionally, a model only has zero bias if the true relationship between the target and the features is hard-coded into it. If that were the case, you wouldn't be doing machine learning -- it would be similar to trying to predict today's temperature by using today's temperature!"
   ]
  },
  {
   "cell_type": "markdown",
   "metadata": {},
   "source": [
    "---\n",
    "\n",
    "<a id=\"train-test-split\"></a>\n",
    "## Train-test-split"
   ]
  },
  {
   "cell_type": "markdown",
   "metadata": {},
   "source": [
    "For the rest of the lab, we will look at three evaluation procedures for predicting model out-of-sample accuracy:\n",
    "\n",
    "1. **Train on the entire dataset** should never be done to estimate model accuracy on out-of-sample data! After all, training error can be made arbitrarily small or large. You might train on the entire dataset as the very last step when a model is chosen, hoping to make the final model as accurate as possible. Or, you could use this to estimate the degree of overfitting.\n",
    "2. **Train-test-split** is useful if cross-validation is not practical (e.g. it takes too long to train). It is also useful for computing a quick confusion matrix. You could also use this as a final step after the model is finalized (often called evaluating the model against a **validation set**).\n",
    "3. **Cross-validation** is the gold standard for estimating accuracy and comparing accuracy across models.\n",
    "4. **Three-way split** combines cross-validation and the train-test-split. It takes an initial split to be used as a final validation set, then uses cross-validation on the rest."
   ]
  },
  {
   "cell_type": "markdown",
   "metadata": {},
   "source": [
    "We run into a problem when powerful models can perfectly fit the data on which they are trained. These models are **low bias** and **high variance**. However, we can't observe the variance of a model directly, because we only know how it fits the data we have rather than all potential samples.\n",
    "\n",
    "**Solution:** Create a procedure that **estimates** how well a model is likely to perform on out-of-sample data and use that to choose between models.\n",
    "\n",
    "- Before, we have been splitting the data into a **single training group** and a **single test group**.\n",
    "\n",
    "- Now, to estimate how well the model is likely to perform on out-of-sample data, we will create **many training groups** and **many test groups** then fit **many models**.\n",
    "\n",
    "**Note:** These procedures can be used with **any machine learning model**.\n"
   ]
  },
  {
   "cell_type": "markdown",
   "metadata": {
    "collapsed": true
   },
   "source": [
    "**The Holdout Method: Train/Test Split**\n",
    "- **Training set**: Used to train the classifier.\n",
    "- **Testing set**: Used to estimate the error rate of the trained classifier.\n",
    "- **Advantages**: Fast, simple, computationally inexpensive.\n",
    "- **Disadvantages** Eliminates data, imperfectly splits."
   ]
  },
  {
   "cell_type": "markdown",
   "metadata": {
    "collapsed": true
   },
   "source": [
    "<a id=\"evaluation-procedure--train-and-test-on-the-entire-dataset-do-not-do-this\"></a>\n",
    "### Evaluation Procedure #1: Train and Test on the Entire Data Set (Do Not Do This)"
   ]
  },
  {
   "cell_type": "markdown",
   "metadata": {
    "collapsed": true
   },
   "source": [
    "1. Train the model on the **entire data set**.\n",
    "2. Test the model on the **same data set** and evaluate how well we did by comparing the **predicted** response values with the **true** response values."
   ]
  },
  {
   "cell_type": "markdown",
   "metadata": {},
   "source": [
    "#### Load in the Boston data."
   ]
  },
  {
   "cell_type": "code",
   "execution_count": 21,
   "metadata": {},
   "outputs": [],
   "source": [
    "import pandas as pd\n",
    "import numpy as np\n",
    "from sklearn.datasets import load_boston\n",
    "\n",
    "boston = load_boston()"
   ]
  },
  {
   "cell_type": "code",
   "execution_count": 22,
   "metadata": {},
   "outputs": [
    {
     "name": "stdout",
     "output_type": "stream",
     "text": [
      "Boston House Prices dataset\n",
      "===========================\n",
      "\n",
      "Notes\n",
      "------\n",
      "Data Set Characteristics:  \n",
      "\n",
      "    :Number of Instances: 506 \n",
      "\n",
      "    :Number of Attributes: 13 numeric/categorical predictive\n",
      "    \n",
      "    :Median Value (attribute 14) is usually the target\n",
      "\n",
      "    :Attribute Information (in order):\n",
      "        - CRIM     per capita crime rate by town\n",
      "        - ZN       proportion of residential land zoned for lots over 25,000 sq.ft.\n",
      "        - INDUS    proportion of non-retail business acres per town\n",
      "        - CHAS     Charles River dummy variable (= 1 if tract bounds river; 0 otherwise)\n",
      "        - NOX      nitric oxides concentration (parts per 10 million)\n",
      "        - RM       average number of rooms per dwelling\n",
      "        - AGE      proportion of owner-occupied units built prior to 1940\n",
      "        - DIS      weighted distances to five Boston employment centres\n",
      "        - RAD      index of accessibility to radial highways\n",
      "        - TAX      full-value property-tax rate per $10,000\n",
      "        - PTRATIO  pupil-teacher ratio by town\n",
      "        - B        1000(Bk - 0.63)^2 where Bk is the proportion of blacks by town\n",
      "        - LSTAT    % lower status of the population\n",
      "        - MEDV     Median value of owner-occupied homes in $1000's\n",
      "\n",
      "    :Missing Attribute Values: None\n",
      "\n",
      "    :Creator: Harrison, D. and Rubinfeld, D.L.\n",
      "\n",
      "This is a copy of UCI ML housing dataset.\n",
      "http://archive.ics.uci.edu/ml/datasets/Housing\n",
      "\n",
      "\n",
      "This dataset was taken from the StatLib library which is maintained at Carnegie Mellon University.\n",
      "\n",
      "The Boston house-price data of Harrison, D. and Rubinfeld, D.L. 'Hedonic\n",
      "prices and the demand for clean air', J. Environ. Economics & Management,\n",
      "vol.5, 81-102, 1978.   Used in Belsley, Kuh & Welsch, 'Regression diagnostics\n",
      "...', Wiley, 1980.   N.B. Various transformations are used in the table on\n",
      "pages 244-261 of the latter.\n",
      "\n",
      "The Boston house-price data has been used in many machine learning papers that address regression\n",
      "problems.   \n",
      "     \n",
      "**References**\n",
      "\n",
      "   - Belsley, Kuh & Welsch, 'Regression diagnostics: Identifying Influential Data and Sources of Collinearity', Wiley, 1980. 244-261.\n",
      "   - Quinlan,R. (1993). Combining Instance-Based and Model-Based Learning. In Proceedings on the Tenth International Conference of Machine Learning, 236-243, University of Massachusetts, Amherst. Morgan Kaufmann.\n",
      "   - many more! (see http://archive.ics.uci.edu/ml/datasets/Housing)\n",
      "\n"
     ]
    }
   ],
   "source": [
    "print(boston.DESCR)"
   ]
  },
  {
   "cell_type": "markdown",
   "metadata": {},
   "source": [
    "#### Create X and y variable to stores the feature matrix and response from the Boston data."
   ]
  },
  {
   "cell_type": "code",
   "execution_count": 24,
   "metadata": {},
   "outputs": [],
   "source": [
    "# Create a DataFrame for both parts of data; don't forget to assign column names.\n",
    "X = pd.DataFrame(boston.data, columns=boston.feature_names)\n",
    "y = pd.DataFrame(boston.target, columns=['MEDV'])"
   ]
  },
  {
   "cell_type": "markdown",
   "metadata": {},
   "source": [
    "#### Concatenate y and X, then overwrite the Boston variable."
   ]
  },
  {
   "cell_type": "code",
   "execution_count": 25,
   "metadata": {},
   "outputs": [],
   "source": [
    "boston = pd.concat([y, X], axis=1)"
   ]
  },
  {
   "cell_type": "markdown",
   "metadata": {},
   "source": [
    "#### Perform basic EDA to make sure the data are in order."
   ]
  },
  {
   "cell_type": "code",
   "execution_count": 26,
   "metadata": {},
   "outputs": [
    {
     "data": {
      "text/plain": [
       "MEDV       0\n",
       "CRIM       0\n",
       "ZN         0\n",
       "INDUS      0\n",
       "CHAS       0\n",
       "NOX        0\n",
       "RM         0\n",
       "AGE        0\n",
       "DIS        0\n",
       "RAD        0\n",
       "TAX        0\n",
       "PTRATIO    0\n",
       "B          0\n",
       "LSTAT      0\n",
       "dtype: int64"
      ]
     },
     "execution_count": 26,
     "metadata": {},
     "output_type": "execute_result"
    }
   ],
   "source": [
    "boston.isnull().sum()"
   ]
  },
  {
   "cell_type": "code",
   "execution_count": 27,
   "metadata": {},
   "outputs": [
    {
     "data": {
      "text/plain": [
       "MEDV       float64\n",
       "CRIM       float64\n",
       "ZN         float64\n",
       "INDUS      float64\n",
       "CHAS       float64\n",
       "NOX        float64\n",
       "RM         float64\n",
       "AGE        float64\n",
       "DIS        float64\n",
       "RAD        float64\n",
       "TAX        float64\n",
       "PTRATIO    float64\n",
       "B          float64\n",
       "LSTAT      float64\n",
       "dtype: object"
      ]
     },
     "execution_count": 27,
     "metadata": {},
     "output_type": "execute_result"
    }
   ],
   "source": [
    "boston.dtypes"
   ]
  },
  {
   "cell_type": "code",
   "execution_count": 28,
   "metadata": {},
   "outputs": [
    {
     "data": {
      "text/html": [
       "<div>\n",
       "<style scoped>\n",
       "    .dataframe tbody tr th:only-of-type {\n",
       "        vertical-align: middle;\n",
       "    }\n",
       "\n",
       "    .dataframe tbody tr th {\n",
       "        vertical-align: top;\n",
       "    }\n",
       "\n",
       "    .dataframe thead th {\n",
       "        text-align: right;\n",
       "    }\n",
       "</style>\n",
       "<table border=\"1\" class=\"dataframe\">\n",
       "  <thead>\n",
       "    <tr style=\"text-align: right;\">\n",
       "      <th></th>\n",
       "      <th>MEDV</th>\n",
       "      <th>CRIM</th>\n",
       "      <th>ZN</th>\n",
       "      <th>INDUS</th>\n",
       "      <th>CHAS</th>\n",
       "      <th>NOX</th>\n",
       "      <th>RM</th>\n",
       "      <th>AGE</th>\n",
       "      <th>DIS</th>\n",
       "      <th>RAD</th>\n",
       "      <th>TAX</th>\n",
       "      <th>PTRATIO</th>\n",
       "      <th>B</th>\n",
       "      <th>LSTAT</th>\n",
       "    </tr>\n",
       "  </thead>\n",
       "  <tbody>\n",
       "    <tr>\n",
       "      <th>count</th>\n",
       "      <td>506.000000</td>\n",
       "      <td>506.000000</td>\n",
       "      <td>506.000000</td>\n",
       "      <td>506.000000</td>\n",
       "      <td>506.000000</td>\n",
       "      <td>506.000000</td>\n",
       "      <td>506.000000</td>\n",
       "      <td>506.000000</td>\n",
       "      <td>506.000000</td>\n",
       "      <td>506.000000</td>\n",
       "      <td>506.000000</td>\n",
       "      <td>506.000000</td>\n",
       "      <td>506.000000</td>\n",
       "      <td>506.000000</td>\n",
       "    </tr>\n",
       "    <tr>\n",
       "      <th>mean</th>\n",
       "      <td>22.532806</td>\n",
       "      <td>3.593761</td>\n",
       "      <td>11.363636</td>\n",
       "      <td>11.136779</td>\n",
       "      <td>0.069170</td>\n",
       "      <td>0.554695</td>\n",
       "      <td>6.284634</td>\n",
       "      <td>68.574901</td>\n",
       "      <td>3.795043</td>\n",
       "      <td>9.549407</td>\n",
       "      <td>408.237154</td>\n",
       "      <td>18.455534</td>\n",
       "      <td>356.674032</td>\n",
       "      <td>12.653063</td>\n",
       "    </tr>\n",
       "    <tr>\n",
       "      <th>std</th>\n",
       "      <td>9.197104</td>\n",
       "      <td>8.596783</td>\n",
       "      <td>23.322453</td>\n",
       "      <td>6.860353</td>\n",
       "      <td>0.253994</td>\n",
       "      <td>0.115878</td>\n",
       "      <td>0.702617</td>\n",
       "      <td>28.148861</td>\n",
       "      <td>2.105710</td>\n",
       "      <td>8.707259</td>\n",
       "      <td>168.537116</td>\n",
       "      <td>2.164946</td>\n",
       "      <td>91.294864</td>\n",
       "      <td>7.141062</td>\n",
       "    </tr>\n",
       "    <tr>\n",
       "      <th>min</th>\n",
       "      <td>5.000000</td>\n",
       "      <td>0.006320</td>\n",
       "      <td>0.000000</td>\n",
       "      <td>0.460000</td>\n",
       "      <td>0.000000</td>\n",
       "      <td>0.385000</td>\n",
       "      <td>3.561000</td>\n",
       "      <td>2.900000</td>\n",
       "      <td>1.129600</td>\n",
       "      <td>1.000000</td>\n",
       "      <td>187.000000</td>\n",
       "      <td>12.600000</td>\n",
       "      <td>0.320000</td>\n",
       "      <td>1.730000</td>\n",
       "    </tr>\n",
       "    <tr>\n",
       "      <th>25%</th>\n",
       "      <td>17.025000</td>\n",
       "      <td>0.082045</td>\n",
       "      <td>0.000000</td>\n",
       "      <td>5.190000</td>\n",
       "      <td>0.000000</td>\n",
       "      <td>0.449000</td>\n",
       "      <td>5.885500</td>\n",
       "      <td>45.025000</td>\n",
       "      <td>2.100175</td>\n",
       "      <td>4.000000</td>\n",
       "      <td>279.000000</td>\n",
       "      <td>17.400000</td>\n",
       "      <td>375.377500</td>\n",
       "      <td>6.950000</td>\n",
       "    </tr>\n",
       "    <tr>\n",
       "      <th>50%</th>\n",
       "      <td>21.200000</td>\n",
       "      <td>0.256510</td>\n",
       "      <td>0.000000</td>\n",
       "      <td>9.690000</td>\n",
       "      <td>0.000000</td>\n",
       "      <td>0.538000</td>\n",
       "      <td>6.208500</td>\n",
       "      <td>77.500000</td>\n",
       "      <td>3.207450</td>\n",
       "      <td>5.000000</td>\n",
       "      <td>330.000000</td>\n",
       "      <td>19.050000</td>\n",
       "      <td>391.440000</td>\n",
       "      <td>11.360000</td>\n",
       "    </tr>\n",
       "    <tr>\n",
       "      <th>75%</th>\n",
       "      <td>25.000000</td>\n",
       "      <td>3.647423</td>\n",
       "      <td>12.500000</td>\n",
       "      <td>18.100000</td>\n",
       "      <td>0.000000</td>\n",
       "      <td>0.624000</td>\n",
       "      <td>6.623500</td>\n",
       "      <td>94.075000</td>\n",
       "      <td>5.188425</td>\n",
       "      <td>24.000000</td>\n",
       "      <td>666.000000</td>\n",
       "      <td>20.200000</td>\n",
       "      <td>396.225000</td>\n",
       "      <td>16.955000</td>\n",
       "    </tr>\n",
       "    <tr>\n",
       "      <th>max</th>\n",
       "      <td>50.000000</td>\n",
       "      <td>88.976200</td>\n",
       "      <td>100.000000</td>\n",
       "      <td>27.740000</td>\n",
       "      <td>1.000000</td>\n",
       "      <td>0.871000</td>\n",
       "      <td>8.780000</td>\n",
       "      <td>100.000000</td>\n",
       "      <td>12.126500</td>\n",
       "      <td>24.000000</td>\n",
       "      <td>711.000000</td>\n",
       "      <td>22.000000</td>\n",
       "      <td>396.900000</td>\n",
       "      <td>37.970000</td>\n",
       "    </tr>\n",
       "  </tbody>\n",
       "</table>\n",
       "</div>"
      ],
      "text/plain": [
       "             MEDV        CRIM          ZN       INDUS        CHAS         NOX  \\\n",
       "count  506.000000  506.000000  506.000000  506.000000  506.000000  506.000000   \n",
       "mean    22.532806    3.593761   11.363636   11.136779    0.069170    0.554695   \n",
       "std      9.197104    8.596783   23.322453    6.860353    0.253994    0.115878   \n",
       "min      5.000000    0.006320    0.000000    0.460000    0.000000    0.385000   \n",
       "25%     17.025000    0.082045    0.000000    5.190000    0.000000    0.449000   \n",
       "50%     21.200000    0.256510    0.000000    9.690000    0.000000    0.538000   \n",
       "75%     25.000000    3.647423   12.500000   18.100000    0.000000    0.624000   \n",
       "max     50.000000   88.976200  100.000000   27.740000    1.000000    0.871000   \n",
       "\n",
       "               RM         AGE         DIS         RAD         TAX     PTRATIO  \\\n",
       "count  506.000000  506.000000  506.000000  506.000000  506.000000  506.000000   \n",
       "mean     6.284634   68.574901    3.795043    9.549407  408.237154   18.455534   \n",
       "std      0.702617   28.148861    2.105710    8.707259  168.537116    2.164946   \n",
       "min      3.561000    2.900000    1.129600    1.000000  187.000000   12.600000   \n",
       "25%      5.885500   45.025000    2.100175    4.000000  279.000000   17.400000   \n",
       "50%      6.208500   77.500000    3.207450    5.000000  330.000000   19.050000   \n",
       "75%      6.623500   94.075000    5.188425   24.000000  666.000000   20.200000   \n",
       "max      8.780000  100.000000   12.126500   24.000000  711.000000   22.000000   \n",
       "\n",
       "                B       LSTAT  \n",
       "count  506.000000  506.000000  \n",
       "mean   356.674032   12.653063  \n",
       "std     91.294864    7.141062  \n",
       "min      0.320000    1.730000  \n",
       "25%    375.377500    6.950000  \n",
       "50%    391.440000   11.360000  \n",
       "75%    396.225000   16.955000  \n",
       "max    396.900000   37.970000  "
      ]
     },
     "execution_count": 28,
     "metadata": {},
     "output_type": "execute_result"
    }
   ],
   "source": [
    "boston.describe()"
   ]
  },
  {
   "cell_type": "markdown",
   "metadata": {},
   "source": [
    "#### Prepare a feature matrix (X) and response (y)  for scikit-learn."
   ]
  },
  {
   "cell_type": "code",
   "execution_count": 29,
   "metadata": {},
   "outputs": [],
   "source": [
    "# create feature matrix (X)\n",
    "feature_cols = boston.columns.drop(['MEDV'])\n",
    "X = boston[feature_cols]\n",
    "\n",
    "# create response vector (y)\n",
    "y = boston.MEDV"
   ]
  },
  {
   "cell_type": "code",
   "execution_count": 30,
   "metadata": {},
   "outputs": [
    {
     "data": {
      "text/html": [
       "<div>\n",
       "<style scoped>\n",
       "    .dataframe tbody tr th:only-of-type {\n",
       "        vertical-align: middle;\n",
       "    }\n",
       "\n",
       "    .dataframe tbody tr th {\n",
       "        vertical-align: top;\n",
       "    }\n",
       "\n",
       "    .dataframe thead th {\n",
       "        text-align: right;\n",
       "    }\n",
       "</style>\n",
       "<table border=\"1\" class=\"dataframe\">\n",
       "  <thead>\n",
       "    <tr style=\"text-align: right;\">\n",
       "      <th></th>\n",
       "      <th>CRIM</th>\n",
       "      <th>ZN</th>\n",
       "      <th>INDUS</th>\n",
       "      <th>CHAS</th>\n",
       "      <th>NOX</th>\n",
       "      <th>RM</th>\n",
       "      <th>AGE</th>\n",
       "      <th>DIS</th>\n",
       "      <th>RAD</th>\n",
       "      <th>TAX</th>\n",
       "      <th>PTRATIO</th>\n",
       "      <th>B</th>\n",
       "      <th>LSTAT</th>\n",
       "    </tr>\n",
       "  </thead>\n",
       "  <tbody>\n",
       "    <tr>\n",
       "      <th>0</th>\n",
       "      <td>0.00632</td>\n",
       "      <td>18.0</td>\n",
       "      <td>2.31</td>\n",
       "      <td>0.0</td>\n",
       "      <td>0.538</td>\n",
       "      <td>6.575</td>\n",
       "      <td>65.2</td>\n",
       "      <td>4.0900</td>\n",
       "      <td>1.0</td>\n",
       "      <td>296.0</td>\n",
       "      <td>15.3</td>\n",
       "      <td>396.90</td>\n",
       "      <td>4.98</td>\n",
       "    </tr>\n",
       "    <tr>\n",
       "      <th>1</th>\n",
       "      <td>0.02731</td>\n",
       "      <td>0.0</td>\n",
       "      <td>7.07</td>\n",
       "      <td>0.0</td>\n",
       "      <td>0.469</td>\n",
       "      <td>6.421</td>\n",
       "      <td>78.9</td>\n",
       "      <td>4.9671</td>\n",
       "      <td>2.0</td>\n",
       "      <td>242.0</td>\n",
       "      <td>17.8</td>\n",
       "      <td>396.90</td>\n",
       "      <td>9.14</td>\n",
       "    </tr>\n",
       "    <tr>\n",
       "      <th>2</th>\n",
       "      <td>0.02729</td>\n",
       "      <td>0.0</td>\n",
       "      <td>7.07</td>\n",
       "      <td>0.0</td>\n",
       "      <td>0.469</td>\n",
       "      <td>7.185</td>\n",
       "      <td>61.1</td>\n",
       "      <td>4.9671</td>\n",
       "      <td>2.0</td>\n",
       "      <td>242.0</td>\n",
       "      <td>17.8</td>\n",
       "      <td>392.83</td>\n",
       "      <td>4.03</td>\n",
       "    </tr>\n",
       "    <tr>\n",
       "      <th>3</th>\n",
       "      <td>0.03237</td>\n",
       "      <td>0.0</td>\n",
       "      <td>2.18</td>\n",
       "      <td>0.0</td>\n",
       "      <td>0.458</td>\n",
       "      <td>6.998</td>\n",
       "      <td>45.8</td>\n",
       "      <td>6.0622</td>\n",
       "      <td>3.0</td>\n",
       "      <td>222.0</td>\n",
       "      <td>18.7</td>\n",
       "      <td>394.63</td>\n",
       "      <td>2.94</td>\n",
       "    </tr>\n",
       "    <tr>\n",
       "      <th>4</th>\n",
       "      <td>0.06905</td>\n",
       "      <td>0.0</td>\n",
       "      <td>2.18</td>\n",
       "      <td>0.0</td>\n",
       "      <td>0.458</td>\n",
       "      <td>7.147</td>\n",
       "      <td>54.2</td>\n",
       "      <td>6.0622</td>\n",
       "      <td>3.0</td>\n",
       "      <td>222.0</td>\n",
       "      <td>18.7</td>\n",
       "      <td>396.90</td>\n",
       "      <td>5.33</td>\n",
       "    </tr>\n",
       "  </tbody>\n",
       "</table>\n",
       "</div>"
      ],
      "text/plain": [
       "      CRIM    ZN  INDUS  CHAS    NOX     RM   AGE     DIS  RAD    TAX  \\\n",
       "0  0.00632  18.0   2.31   0.0  0.538  6.575  65.2  4.0900  1.0  296.0   \n",
       "1  0.02731   0.0   7.07   0.0  0.469  6.421  78.9  4.9671  2.0  242.0   \n",
       "2  0.02729   0.0   7.07   0.0  0.469  7.185  61.1  4.9671  2.0  242.0   \n",
       "3  0.03237   0.0   2.18   0.0  0.458  6.998  45.8  6.0622  3.0  222.0   \n",
       "4  0.06905   0.0   2.18   0.0  0.458  7.147  54.2  6.0622  3.0  222.0   \n",
       "\n",
       "   PTRATIO       B  LSTAT  \n",
       "0     15.3  396.90   4.98  \n",
       "1     17.8  396.90   9.14  \n",
       "2     17.8  392.83   4.03  \n",
       "3     18.7  394.63   2.94  \n",
       "4     18.7  396.90   5.33  "
      ]
     },
     "execution_count": 30,
     "metadata": {},
     "output_type": "execute_result"
    }
   ],
   "source": [
    "X.head()"
   ]
  },
  {
   "cell_type": "code",
   "execution_count": 32,
   "metadata": {},
   "outputs": [
    {
     "data": {
      "text/plain": [
       "0    24.0\n",
       "1    21.6\n",
       "2    34.7\n",
       "3    33.4\n",
       "4    36.2\n",
       "Name: MEDV, dtype: float64"
      ]
     },
     "execution_count": 32,
     "metadata": {},
     "output_type": "execute_result"
    }
   ],
   "source": [
    "y.head()"
   ]
  },
  {
   "cell_type": "markdown",
   "metadata": {},
   "source": [
    "#### Import linear regression, instantiate, fit, and preview predictions."
   ]
  },
  {
   "cell_type": "code",
   "execution_count": 34,
   "metadata": {},
   "outputs": [
    {
     "data": {
      "text/plain": [
       "array([30.00821269, 25.0298606 , 30.5702317 , 28.60814055, 27.94288232,\n",
       "       25.25940048, 23.00433994, 19.5347558 , 11.51696539, 18.91981483,\n",
       "       18.9958266 , 21.58970854, 20.90534851, 19.55535931, 19.2837957 ,\n",
       "       19.30000174, 20.52889993, 16.9096749 , 16.17067411, 18.40781636,\n",
       "       12.52040454, 17.67104565, 15.82934891, 13.80368317, 15.67708138,\n",
       "       13.3791645 , 15.46258829, 14.69863607, 19.54518512, 20.87309945,\n",
       "       11.44806825, 18.05900412,  8.78841666, 14.27882319, 13.69097132,\n",
       "       23.81755469, 22.34216285, 23.11123204, 22.91494157, 31.35826216,\n",
       "       34.21485385, 28.0207132 , 25.20646572, 24.61192851, 22.94438953,\n",
       "       22.10150945, 20.42467417, 18.03614022,  9.10176198, 17.20856571,\n",
       "       21.28259372, 23.97621248, 27.65853521, 24.0521088 , 15.35989132,\n",
       "       31.14817003, 24.85878746, 33.11017111, 21.77458036, 21.08526739,\n",
       "       17.87203538, 18.50881381, 23.9879809 , 22.54944098, 23.37068403,\n",
       "       30.36557584, 25.53407332, 21.11758504, 17.42468223, 20.7893086 ,\n",
       "       25.20349174, 21.74490595, 24.56275612, 24.04479519, 25.5091157 ,\n",
       "       23.97076758, 22.94823519, 23.36106095, 21.26432549, 22.4345376 ,\n",
       "       28.40699937, 26.99734716, 26.03807246, 25.06152125, 24.7858613 ,\n",
       "       27.79291889, 22.16927073, 25.89685664, 30.67771522, 30.83225886,\n",
       "       27.12127354, 27.41597825, 28.9456478 , 29.08668003, 27.04501726,\n",
       "       28.62506705, 24.73038218, 35.78062378, 35.11269515, 32.25115468,\n",
       "       24.57946786, 25.59386215, 19.76439137, 20.31157117, 21.4353635 ,\n",
       "       18.53971968, 17.18572611, 20.74934949, 22.64791346, 19.77000977,\n",
       "       20.64745349, 26.52652691, 20.77440554, 20.71546432, 25.17461484,\n",
       "       20.4273652 , 23.37862521, 23.69454145, 20.33202239, 20.79378139,\n",
       "       21.92024414, 22.47432006, 20.55884635, 16.36300764, 20.56342111,\n",
       "       22.48570454, 14.61264839, 15.1802607 , 18.93828443, 14.0574955 ,\n",
       "       20.03651959, 19.41306288, 20.06401034, 15.76005772, 13.24771577,\n",
       "       17.26167729, 15.87759672, 19.36145104, 13.81270814, 16.44782934,\n",
       "       13.56511101,  3.98343974, 14.59241207, 12.14503093,  8.72407108,\n",
       "       12.00815659, 15.80308586,  8.50963929,  9.70965512, 14.79848067,\n",
       "       20.83598096, 18.30017013, 20.12575267, 17.27585681, 22.35997992,\n",
       "       20.07985184, 13.59903744, 33.26635221, 29.03938379, 25.56694529,\n",
       "       32.71732164, 36.78111388, 40.56615533, 41.85122271, 24.79875684,\n",
       "       25.3771545 , 37.20662185, 23.08244608, 26.40326834, 26.65647433,\n",
       "       22.55412919, 24.2970948 , 22.98024802, 29.07488389, 26.52620066,\n",
       "       30.72351225, 25.61835359, 29.14203283, 31.43690634, 32.9232938 ,\n",
       "       34.72096487, 27.76792733, 33.88992899, 30.99725805, 22.72124288,\n",
       "       24.76567683, 35.88131719, 33.42696242, 32.41513625, 34.51611818,\n",
       "       30.76057666, 30.29169893, 32.92040221, 32.11459912, 31.56133385,\n",
       "       40.84274603, 36.13046343, 32.66639271, 34.70558647, 30.09276228,\n",
       "       30.64139724, 29.29189704, 37.07062623, 42.02879611, 43.18582722,\n",
       "       22.6923888 , 23.68420569, 17.85435295, 23.49543857, 17.00872418,\n",
       "       22.39535066, 17.06152243, 22.74106824, 25.21974252, 11.10601161,\n",
       "       24.51300617, 26.60749026, 28.35802444, 24.91860458, 29.69254951,\n",
       "       33.18492755, 23.77145523, 32.14086508, 29.74802362, 38.36605632,\n",
       "       39.80716458, 37.58362546, 32.39769704, 35.45048257, 31.23446481,\n",
       "       24.48478321, 33.28615723, 38.04368164, 37.15737267, 31.71297469,\n",
       "       25.26658017, 30.101515  , 32.71897655, 28.42735376, 28.42999168,\n",
       "       27.2913215 , 23.74446671, 24.11878941, 27.40241209, 16.32993575,\n",
       "       13.39695213, 20.01655581, 19.86205904, 21.28604604, 24.07796482,\n",
       "       24.20603792, 25.04201534, 24.91709097, 29.93762975, 23.97709054,\n",
       "       21.69931969, 37.51051381, 43.29459357, 36.48121427, 34.99129701,\n",
       "       34.80865729, 37.16296374, 40.9823638 , 34.44211691, 35.83178068,\n",
       "       28.24913647, 31.22022312, 40.83256202, 39.31768808, 25.71099424,\n",
       "       22.30344878, 27.20551341, 28.51386352, 35.47494122, 36.11110647,\n",
       "       33.80004807, 35.61141951, 34.84311742, 30.35359323, 35.31260262,\n",
       "       38.79684808, 34.33296541, 40.34038636, 44.67339923, 31.5955473 ,\n",
       "       27.35994642, 20.09520596, 27.04518524, 27.21674397, 26.91105226,\n",
       "       33.43602979, 34.40228785, 31.83374181, 25.82416035, 24.43687139,\n",
       "       28.46348891, 27.36916176, 19.54441878, 29.11480679, 31.90852699,\n",
       "       30.77325183, 28.9430835 , 28.88108106, 32.79876794, 33.20356949,\n",
       "       30.76568546, 35.55843485, 32.70725436, 28.64759861, 23.59388439,\n",
       "       18.5461558 , 26.88429024, 23.28485442, 25.55002201, 25.48337323,\n",
       "       20.54343769, 17.61406384, 18.37627933, 24.29187594, 21.3257202 ,\n",
       "       24.88826131, 24.87143049, 22.87255605, 19.4540234 , 25.11948741,\n",
       "       24.66816374, 23.68209656, 19.33951725, 21.17636041, 24.25306588,\n",
       "       21.59311197, 19.98766667, 23.34079584, 22.13973959, 21.55349196,\n",
       "       20.61808868, 20.1607571 , 19.28455466, 22.16593919, 21.24893735,\n",
       "       21.42985456, 30.32874523, 22.04915396, 27.70610125, 28.54595004,\n",
       "       16.54657063, 14.78278261, 25.27336772, 27.54088054, 22.14633467,\n",
       "       20.46081206, 20.54472332, 16.88194391, 25.40066956, 14.32299547,\n",
       "       16.5927403 , 19.63224597, 22.7117302 , 22.19946949, 19.1989151 ,\n",
       "       22.66091019, 18.92059374, 18.22715359, 20.22444386, 37.47946099,\n",
       "       14.29172583, 15.53697148, 10.82825817, 23.81134987, 32.64787163,\n",
       "       34.61163401, 24.94604102, 26.00259724,  6.12085728,  0.78021126,\n",
       "       25.311373  , 17.73465914, 20.22593282, 15.83834861, 16.83742401,\n",
       "       14.43123608, 18.47647773, 13.42427933, 13.05677824,  3.27646485,\n",
       "        8.05936467,  6.13903114,  5.62271213,  6.44935154, 14.20597451,\n",
       "       17.21022671, 17.29035065,  9.89064351, 20.21972222, 17.94511052,\n",
       "       20.30017588, 19.28790318, 16.33300008,  6.56843662, 10.87541577,\n",
       "       11.88704097, 17.81098929, 18.25461066, 12.99282707,  7.39319053,\n",
       "        8.25609561,  8.07899971, 19.98563715, 13.69651744, 19.83511412,\n",
       "       15.2345378 , 16.93112419,  1.69347406, 11.81116263, -4.28300934,\n",
       "        9.55007844, 13.32635521,  6.88351077,  6.16827417, 14.56933235,\n",
       "       19.59292932, 18.1151686 , 18.52011987, 13.13707457, 14.59662601,\n",
       "        9.8923749 , 16.31998048, 14.06750301, 14.22573568, 13.00752251,\n",
       "       18.13277547, 18.66645496, 21.50283795, 17.00039379, 15.93926602,\n",
       "       13.32952716, 14.48949211,  8.78366731,  4.8300317 , 13.06115528,\n",
       "       12.71101472, 17.2887624 , 18.73424906, 18.05271013, 11.49855612,\n",
       "       13.00841512, 17.66975577, 18.12342294, 17.51503231, 17.21307203,\n",
       "       16.48238543, 19.40079737, 18.57392951, 22.47833186, 15.24179836,\n",
       "       15.78327609, 12.64853778, 12.84121049, 17.17173661, 18.50906858,\n",
       "       19.02803874, 20.16441773, 19.76975335, 22.42614937, 20.31750314,\n",
       "       17.87618837, 14.3391341 , 16.93715603, 16.98716629, 18.59431701,\n",
       "       20.16395155, 22.97743546, 22.45110639, 25.5707207 , 16.39091112,\n",
       "       16.09765427, 20.52835689, 11.5429045 , 19.20387482, 21.86820603,\n",
       "       23.47052203, 27.10034494, 28.57064813, 21.0839881 , 19.4490529 ,\n",
       "       22.2189221 , 19.65423066, 21.324671  , 11.86231364,  8.22260592,\n",
       "        3.65825168, 13.76275951, 15.93780944, 20.62730097, 20.61035443,\n",
       "       16.88048035, 14.01017244, 19.10825534, 21.29720741, 18.45524217,\n",
       "       20.46764235, 23.53261729, 22.37869798, 27.62934247, 26.12983844,\n",
       "       22.34870269])"
      ]
     },
     "execution_count": 34,
     "metadata": {},
     "output_type": "execute_result"
    }
   ],
   "source": [
    "# Import the class.\n",
    "from sklearn.linear_model import LinearRegression\n",
    "\n",
    "# Instantiate the model.\n",
    "lr = LinearRegression()\n",
    "\n",
    "# Train the model on the entire data set.\n",
    "lr.fit(X, y)\n",
    "\n",
    "# Predict the response values for the observations in X (\"test the model\").\n",
    "lr.predict(X)"
   ]
  },
  {
   "cell_type": "markdown",
   "metadata": {},
   "source": [
    "#### Store the predicted response values."
   ]
  },
  {
   "cell_type": "code",
   "execution_count": 35,
   "metadata": {},
   "outputs": [],
   "source": [
    "y_pred = lr.predict(X)"
   ]
  },
  {
   "cell_type": "markdown",
   "metadata": {
    "collapsed": true
   },
   "source": [
    "To evaluate a model, we also need an **evaluation metric:**\n",
    "\n",
    "- A numeric calculation used to **quantify** the performance of a model.\n",
    "- The appropriate metric depends on the **goals** of your problem.\n",
    "\n",
    "The most common choices for regression problems are:\n",
    "\n",
    "- **R-squared**: The percentage of variation explained by the model (a \"reward function,\" as higher is better).\n",
    "- **Mean squared error**: The average squared distance between the prediction and the correct answer (a \"loss function,\" as lower is better).\n",
    "\n",
    "In this case, we'll use mean squared error because it is more interpretable in a predictive context."
   ]
  },
  {
   "cell_type": "markdown",
   "metadata": {},
   "source": [
    "#### Compute mean squared error using a function from `metrics`."
   ]
  },
  {
   "cell_type": "code",
   "execution_count": 23,
   "metadata": {},
   "outputs": [
    {
     "name": "stdout",
     "output_type": "stream",
     "text": [
      "21.897779217687496\n"
     ]
    }
   ],
   "source": [
    "from sklearn import metrics\n",
    "\n",
    "print(metrics.mean_squared_error(y, y_pred))"
   ]
  },
  {
   "cell_type": "markdown",
   "metadata": {
    "collapsed": true
   },
   "source": [
    "This is known as the **training mean squared error** because we are evaluating the model based on the same data we used to train the model."
   ]
  },
  {
   "cell_type": "markdown",
   "metadata": {},
   "source": [
    "<a id=\"problems-with-training-and-testing-on-the-same-data\"></a>\n",
    "### Problems With Training and Testing on the Same Data\n",
    "\n",
    "- Our goal is to estimate likely performance of a model on **out-of-sample data**.\n",
    "- But, maximizing the training mean squared error rewards **overly complex models** that won't necessarily generalize.\n",
    "- Unnecessarily complex models **overfit** the training data.\n",
    "    - They will do well when tested using the in-sample data.\n",
    "    - They may do poorly with out-of-sample data.\n",
    "    - They learn the \"noise\" in the data rather than the \"signal.\"\n",
    "    - From Quora: [What is an intuitive explanation of overfitting?](http://www.quora.com/What-is-an-intuitive-explanation-of-overfitting/answer/Jessica-Su)\n",
    "\n",
    "**Thus, the training MSE is not a good estimate of the out-of-sample MSE.**"
   ]
  },
  {
   "cell_type": "markdown",
   "metadata": {},
   "source": [
    "<a id=\"evaluation-procedure--traintest-split\"></a>\n",
    "### Evaluation procedure #2: Train/Test Split"
   ]
  },
  {
   "cell_type": "markdown",
   "metadata": {
    "collapsed": true
   },
   "source": [
    "1. Split the data set into two pieces: a **training set** and a **testing set**.\n",
    "2. Train the model on the **training set**.\n",
    "3. Test the model on the **testing set** and evaluate how well we did.\n",
    "\n",
    "Often a good rule-of-thumb is 70% training/30% test, but this can vary based on the size of your dataset. For example, with a small dataset you would need to use as much training data as possible (in return, your test accuracy will be more variable).\n",
    "\n",
    "What does this accomplish?\n",
    "\n",
    "- Models can be trained and tested on **different data** (We treat testing data like out-of-sample data).\n",
    "- Response values are known for the testing set and thus **predictions can be evaluated**.\n",
    "\n",
    "This is known as the **testing mean squared error** because we are evaluating the model on an independent \"test set\" that was not used during model training.\n",
    "\n",
    "**The testing MSE is a better estimate of out-of-sample performance than the training MSE.**"
   ]
  },
  {
   "cell_type": "markdown",
   "metadata": {},
   "source": [
    "#### Before We Dive Into Train/Test Split, Let's Understand \"Unpacking\" Syntax\n",
    "\n",
    "Unpacking in itself allows us to break down the contents of an object and assign it equally to several variables simultaneously.\n",
    "\n",
    "Let's create a packed object (boxed), then unpack it using a `for` loop."
   ]
  },
  {
   "cell_type": "code",
   "execution_count": 24,
   "metadata": {},
   "outputs": [
    {
     "name": "stdout",
     "output_type": "stream",
     "text": [
      "Shipment: package_1 | Shipment Contents: directions_1\n",
      "Shipment: package_2 | Shipment Contents: directions_2\n",
      "Shipment: package_3 | Shipment Contents: directions_3\n",
      "Shipment: package_4 | Shipment Contents: directions_4\n"
     ]
    }
   ],
   "source": [
    "# Let's start with two lists that are related in some manner.\n",
    "package = ['package_1','package_2','package_3','package_4']\n",
    "directions = ['directions_1','directions_2','directions_3','directions_4']\n",
    "\n",
    "# we'll zip them together to form the associate combos\n",
    "# We can then use `for Obj-1, Obj-2 in` to isolate the values we need.\n",
    "for p, d in zip(package, directions):\n",
    "    print('Shipment: {} | Shipment Contents: {}'.format(p,d))"
   ]
  },
  {
   "cell_type": "markdown",
   "metadata": {},
   "source": [
    "Rather than using a `for` loop to unpack an output, we can simply assign the results, assuming we know exactly how many results need to be assigned. We can think of the result of `zip` as comprising four subcomponents; we can use a `for` loop to help us break the subcomponents out OR use the unpacking method."
   ]
  },
  {
   "cell_type": "code",
   "execution_count": 25,
   "metadata": {},
   "outputs": [],
   "source": [
    "box1, box2, box3, box4 = zip(package, directions)"
   ]
  },
  {
   "cell_type": "code",
   "execution_count": 26,
   "metadata": {},
   "outputs": [
    {
     "name": "stdout",
     "output_type": "stream",
     "text": [
      "('package_1', 'directions_1')\n",
      "('package_3', 'directions_3')\n"
     ]
    }
   ],
   "source": [
    "print(box1)\n",
    "print(box3)"
   ]
  },
  {
   "cell_type": "markdown",
   "metadata": {},
   "source": [
    "In the case of train/test split, we add an unpackaging assignment to the return value of a function, as exemplified by the code below:"
   ]
  },
  {
   "cell_type": "code",
   "execution_count": 27,
   "metadata": {},
   "outputs": [],
   "source": [
    "# Create a function that takes an argument to act up. \n",
    "def min_max(nums):\n",
    "    smallest = min(nums)\n",
    "    largest = max(nums)\n",
    "    \n",
    "    # The function returns a list in the order below.\n",
    "    return [smallest, largest, 5]"
   ]
  },
  {
   "cell_type": "code",
   "execution_count": 28,
   "metadata": {},
   "outputs": [
    {
     "name": "stdout",
     "output_type": "stream",
     "text": [
      "[1, 3, 5]\n",
      "<class 'list'>\n"
     ]
    }
   ],
   "source": [
    "# We can assign the returned list to a single variable,\n",
    "min_and_max = min_max([1, 2, 3])\n",
    "\n",
    "print(min_and_max)\n",
    "print(type(min_and_max))"
   ]
  },
  {
   "cell_type": "code",
   "execution_count": 29,
   "metadata": {},
   "outputs": [
    {
     "name": "stdout",
     "output_type": "stream",
     "text": [
      "3\n",
      "1\n",
      "5\n"
     ]
    }
   ],
   "source": [
    "# OR, because we know the list is composed of three elements, \n",
    "# assign each element to its own variable.\n",
    "the_min, the_max, five = min_max([1, 2, 3])\n",
    "\n",
    "print(the_max)\n",
    "print(the_min)\n",
    "print(five)"
   ]
  },
  {
   "cell_type": "markdown",
   "metadata": {
    "collapsed": true
   },
   "source": [
    "#### Understanding the `train_test_split` Function"
   ]
  },
  {
   "cell_type": "code",
   "execution_count": 37,
   "metadata": {},
   "outputs": [],
   "source": [
    "from sklearn.model_selection import train_test_split\n",
    "\n",
    "X_train, X_test, y_train, y_test = train_test_split(X, y)"
   ]
  },
  {
   "cell_type": "code",
   "execution_count": 38,
   "metadata": {},
   "outputs": [
    {
     "name": "stdout",
     "output_type": "stream",
     "text": [
      "(506, 13)\n",
      "(379, 13)\n",
      "(127, 13)\n"
     ]
    }
   ],
   "source": [
    "# Before splitting\n",
    "print(X.shape)\n",
    "\n",
    "# After splitting\n",
    "print(X_train.shape)\n",
    "print(X_test.shape)"
   ]
  },
  {
   "cell_type": "code",
   "execution_count": 39,
   "metadata": {},
   "outputs": [
    {
     "name": "stdout",
     "output_type": "stream",
     "text": [
      "(506,)\n",
      "(379,)\n",
      "(127,)\n"
     ]
    }
   ],
   "source": [
    "# Recall that (1,) is a tuple. \n",
    "# The trailing comma distinguishes it as being a tuple, not an integer.\n",
    "\n",
    "# Before splitting\n",
    "print(y.shape)\n",
    "\n",
    "# After splitting\n",
    "print(y_train.shape)\n",
    "print(y_test.shape)"
   ]
  },
  {
   "cell_type": "markdown",
   "metadata": {},
   "source": [
    "![train_test_split](./assets/train_test_split.png)"
   ]
  },
  {
   "cell_type": "markdown",
   "metadata": {
    "collapsed": true
   },
   "source": [
    "#### Understanding the `random_state` Parameter\n",
    "\n",
    "The `random_state` is a pseudo-random number that allows us to reproduce our results every time we run them. However, it makes it impossible to predict what are exact results will be if we chose a new `random_state`.\n",
    "\n",
    "`random_state` is very useful for testing that your model was made correctly since it provides you with the same split each time. However, make sure you remove it if you are testing for model variability!"
   ]
  },
  {
   "cell_type": "code",
   "execution_count": 43,
   "metadata": {},
   "outputs": [
    {
     "name": "stdout",
     "output_type": "stream",
     "text": [
      "       CRIM    ZN  INDUS  CHAS    NOX     RM   AGE     DIS  RAD    TAX  \\\n",
      "189  0.0837  45.0   3.44   0.0  0.437  7.185  38.9  4.5667  5.0  398.0   \n",
      "\n",
      "     PTRATIO      B  LSTAT  \n",
      "189     15.2  396.9   5.39  \n"
     ]
    }
   ],
   "source": [
    "# WITHOUT a random_state parameter:\n",
    "#  (If you run this code several times, you get different results!)\n",
    "X_train, X_test, y_train, y_test = train_test_split(X, y)\n",
    "\n",
    "# Print the first element of each object.\n",
    "print(X_train.head(1))"
   ]
  },
  {
   "cell_type": "code",
   "execution_count": 48,
   "metadata": {},
   "outputs": [
    {
     "name": "stdout",
     "output_type": "stream",
     "text": [
      "        CRIM   ZN  INDUS  CHAS    NOX     RM   AGE    DIS  RAD    TAX  \\\n",
      "312  0.26169  0.0    9.9   0.0  0.544  6.023  90.4  2.834  4.0  304.0   \n",
      "\n",
      "     PTRATIO      B  LSTAT  \n",
      "312     18.4  396.3  11.72  \n",
      "        CRIM   ZN  INDUS  CHAS    NOX     RM   AGE     DIS   RAD    TAX  \\\n",
      "463  5.82115  0.0   18.1   0.0  0.713  6.513  89.9  2.8016  24.0  666.0   \n",
      "\n",
      "     PTRATIO       B  LSTAT  \n",
      "463     20.2  393.82  10.29  \n",
      "312    19.4\n",
      "Name: MEDV, dtype: float64\n",
      "463    20.2\n",
      "Name: MEDV, dtype: float64\n"
     ]
    }
   ],
   "source": [
    "# WITH a random_state parameter:\n",
    "#  (Same split every time! Note you can change the random state to any integer.)\n",
    "X_train, X_test, y_train, y_test = train_test_split(X, y, random_state=2)\n",
    "\n",
    "# Print the first element of each object.\n",
    "print(X_train.head(1))\n",
    "print(X_test.head(1))\n",
    "print(y_train.head(1))\n",
    "print(y_test.head(1))"
   ]
  },
  {
   "cell_type": "markdown",
   "metadata": {},
   "source": [
    "#### Introduce Patsy\n",
    "\n",
    "We will make one more modification. Patsy is a library that allows you to quickly perform simple data transformations in a style similar to R.\n",
    "\n",
    "Rather than manually creating X and y, we will use the `.dmatricies()` function from Patsy to create the matricies and explore the effect of changing features on training and testing error."
   ]
  },
  {
   "cell_type": "code",
   "execution_count": 35,
   "metadata": {},
   "outputs": [],
   "source": [
    "import patsy"
   ]
  },
  {
   "cell_type": "markdown",
   "metadata": {},
   "source": [
    "#### Step 1: Split X and y into training and testing sets (using `random_state` for reproducibility)."
   ]
  },
  {
   "cell_type": "code",
   "execution_count": 36,
   "metadata": {},
   "outputs": [],
   "source": [
    "y, X = patsy.dmatrices(\"MEDV ~ AGE + RM\", data=boston, return_type=\"dataframe\")\n",
    "\n",
    "X_train, X_test, y_train, y_test = train_test_split(X, y, random_state=99)"
   ]
  },
  {
   "cell_type": "markdown",
   "metadata": {},
   "source": [
    "#### Step 2: Train the model on the training set."
   ]
  },
  {
   "cell_type": "code",
   "execution_count": 37,
   "metadata": {},
   "outputs": [
    {
     "data": {
      "text/plain": [
       "LinearRegression(copy_X=True, fit_intercept=True, n_jobs=1, normalize=False)"
      ]
     },
     "execution_count": 37,
     "metadata": {},
     "output_type": "execute_result"
    }
   ],
   "source": [
    "lr = LinearRegression()\n",
    "lr.fit(X_train, y_train)"
   ]
  },
  {
   "cell_type": "markdown",
   "metadata": {},
   "source": [
    "#### Step 3: Test the model on the testing set and check the accuracy."
   ]
  },
  {
   "cell_type": "code",
   "execution_count": 38,
   "metadata": {},
   "outputs": [
    {
     "name": "stdout",
     "output_type": "stream",
     "text": [
      "38.96905578768683\n",
      "42.00175221486844\n"
     ]
    }
   ],
   "source": [
    "y_pred = lr.predict(X_test)\n",
    "\n",
    "print(metrics.mean_squared_error(y_train, lr.predict(X_train)))\n",
    "print(metrics.mean_squared_error(y_test, y_pred))"
   ]
  },
  {
   "cell_type": "markdown",
   "metadata": {},
   "source": [
    "![Bias-variance tradeoff](./assets/bias_variance.png)"
   ]
  },
  {
   "cell_type": "markdown",
   "metadata": {},
   "source": [
    "#### Go back to Step 1 and try adding new variables and transformations."
   ]
  },
  {
   "cell_type": "markdown",
   "metadata": {},
   "source": [
    "- **Training error**: Decreases as model complexity increases (lower value of k).\n",
    "- **Testing error**: Is minimized at the optimum model complexity."
   ]
  },
  {
   "cell_type": "markdown",
   "metadata": {},
   "source": [
    "<a id=\"comparing-test-performance-with-a-null-baseline\"></a>\n",
    "### Comparing Test Performance With a Null Baseline"
   ]
  },
  {
   "cell_type": "markdown",
   "metadata": {
    "collapsed": true
   },
   "source": [
    "When interpreting the predictive power of a model, it's best to compare it to a baseline using a dummy model, sometimes called a ZeroR model or a baseline model. A dummy model is simply using the mean, median, or most common value as the prediction. This forms a benchmark to compare your model against and becomes especially important in classification where your null accuracy might be 95 percent.\n",
    "\n",
    "For example, suppose your dataset is **imbalanced** -- it contains 99% one class and 1% the other class. Then, your baseline accuracy (always guessing the first class) would be 99%. So, if your model is less than 99% accurate, you know it is worse than the baseline. Imbalanced datasets generally must be trained differently (with less of a focus on accuracy) because of this.\n",
    "\n",
    "You can alternatively use simple models to achieve baseline results, for example nearest neighbors or a basic unigram bag of words for text data."
   ]
  },
  {
   "cell_type": "markdown",
   "metadata": {},
   "source": [
    "#### Examine the baseline mean squared error using a null model.\n",
    "How does this compare to what we achieved with linear regression. Is our model making an actual improvement?"
   ]
  },
  {
   "cell_type": "code",
   "execution_count": 39,
   "metadata": {},
   "outputs": [
    {
     "name": "stdout",
     "output_type": "stream",
     "text": [
      "91.72279744559486\n"
     ]
    }
   ],
   "source": [
    "# Use .apply() to broadcast a mean for every prediction.\n",
    "print(metrics.mean_squared_error(y_test, y_test.apply(np.mean, broadcast=True)))"
   ]
  },
  {
   "cell_type": "markdown",
   "metadata": {},
   "source": [
    "<a id=\"k-folds-cross-validation\"></a>\n",
    "## K-Folds Cross-Validation\n",
    "---"
   ]
  },
  {
   "cell_type": "markdown",
   "metadata": {
    "collapsed": true
   },
   "source": [
    "Train/test split provides us with helpful tool, but it's a shame that we are tossing out a large chunk of our data for testing purposes.\n",
    "\n",
    "**How can we use the maximum amount of our data points while still ensuring model integrity?**\n",
    "\n",
    "1. Split our data into a number of different pieces (folds).\n",
    "2. Train using `k-1` folds for training and a different fold for testing.\n",
    "3. Average our model against EACH of those iterations.\n",
    "4. Choose our model and TEST it against the final fold.\n",
    "5. Average all test accuracies to get the estimated out-of-sample accuracy.\n",
    "\n",
    "Although this may sound complicated, we are just training the model on k separate train-test-splits, then taking the average of the resulting test accuracies!"
   ]
  },
  {
   "cell_type": "markdown",
   "metadata": {},
   "source": [
    "![](./assets/cross_validation_diagram.png)"
   ]
  },
  {
   "cell_type": "markdown",
   "metadata": {},
   "source": [
    "<a id=\"leave-one-out-cross-validation\"></a>\n",
    "### Leave-One-Out Cross-Validation"
   ]
  },
  {
   "cell_type": "markdown",
   "metadata": {
    "collapsed": true
   },
   "source": [
    "A special case of k-fold cross-validation is leave-one-out cross-validation. Rather than taking 5–10 folds, we take a fold of size `n-1` and leave one observation to test. \n",
    "\n",
    "Typically, 5–10 fold cross-validaiton is recommended."
   ]
  },
  {
   "cell_type": "markdown",
   "metadata": {},
   "source": [
    "<a id=\"intro-to-cross-validation-with-the-boston-data\"></a>\n",
    "### Intro to Cross-Validation With the Boston Data"
   ]
  },
  {
   "cell_type": "markdown",
   "metadata": {},
   "source": [
    "#### Create a cross-valiation with five folds."
   ]
  },
  {
   "cell_type": "code",
   "execution_count": 52,
   "metadata": {},
   "outputs": [],
   "source": [
    "from sklearn import model_selection"
   ]
  },
  {
   "cell_type": "code",
   "execution_count": 53,
   "metadata": {},
   "outputs": [],
   "source": [
    "kf = model_selection.KFold(n_splits=5, shuffle=True)"
   ]
  },
  {
   "cell_type": "code",
   "execution_count": 54,
   "metadata": {},
   "outputs": [
    {
     "name": "stdout",
     "output_type": "stream",
     "text": [
      "~~~~ CROSS VALIDATION each fold ~~~~\n"
     ]
    },
    {
     "ename": "NameError",
     "evalue": "name 'metrics' is not defined",
     "output_type": "error",
     "traceback": [
      "\u001b[0;31m---------------------------------------------------------------------------\u001b[0m",
      "\u001b[0;31mNameError\u001b[0m                                 Traceback (most recent call last)",
      "\u001b[0;32m<ipython-input-54-1d918bc0a46d>\u001b[0m in \u001b[0;36m<module>\u001b[0;34m()\u001b[0m\n\u001b[1;32m      7\u001b[0m     \u001b[0mlr\u001b[0m \u001b[0;34m=\u001b[0m \u001b[0mLinearRegression\u001b[0m\u001b[0;34m(\u001b[0m\u001b[0;34m)\u001b[0m\u001b[0;34m.\u001b[0m\u001b[0mfit\u001b[0m\u001b[0;34m(\u001b[0m\u001b[0mX\u001b[0m\u001b[0;34m.\u001b[0m\u001b[0miloc\u001b[0m\u001b[0;34m[\u001b[0m\u001b[0mtrain_index\u001b[0m\u001b[0;34m]\u001b[0m\u001b[0;34m,\u001b[0m \u001b[0my\u001b[0m\u001b[0;34m.\u001b[0m\u001b[0miloc\u001b[0m\u001b[0;34m[\u001b[0m\u001b[0mtrain_index\u001b[0m\u001b[0;34m]\u001b[0m\u001b[0;34m)\u001b[0m\u001b[0;34m\u001b[0m\u001b[0m\n\u001b[1;32m      8\u001b[0m \u001b[0;34m\u001b[0m\u001b[0m\n\u001b[0;32m----> 9\u001b[0;31m     \u001b[0mmse_values\u001b[0m\u001b[0;34m.\u001b[0m\u001b[0mappend\u001b[0m\u001b[0;34m(\u001b[0m\u001b[0mmetrics\u001b[0m\u001b[0;34m.\u001b[0m\u001b[0mmean_squared_error\u001b[0m\u001b[0;34m(\u001b[0m\u001b[0my\u001b[0m\u001b[0;34m.\u001b[0m\u001b[0miloc\u001b[0m\u001b[0;34m[\u001b[0m\u001b[0mtest_index\u001b[0m\u001b[0;34m]\u001b[0m\u001b[0;34m,\u001b[0m \u001b[0mlr\u001b[0m\u001b[0;34m.\u001b[0m\u001b[0mpredict\u001b[0m\u001b[0;34m(\u001b[0m\u001b[0mX\u001b[0m\u001b[0;34m.\u001b[0m\u001b[0miloc\u001b[0m\u001b[0;34m[\u001b[0m\u001b[0mtest_index\u001b[0m\u001b[0;34m]\u001b[0m\u001b[0;34m)\u001b[0m\u001b[0;34m)\u001b[0m\u001b[0;34m)\u001b[0m\u001b[0;34m\u001b[0m\u001b[0m\n\u001b[0m\u001b[1;32m     10\u001b[0m     \u001b[0mscores\u001b[0m\u001b[0;34m.\u001b[0m\u001b[0mappend\u001b[0m\u001b[0;34m(\u001b[0m\u001b[0mlr\u001b[0m\u001b[0;34m.\u001b[0m\u001b[0mscore\u001b[0m\u001b[0;34m(\u001b[0m\u001b[0mX\u001b[0m\u001b[0;34m,\u001b[0m \u001b[0my\u001b[0m\u001b[0;34m)\u001b[0m\u001b[0;34m)\u001b[0m\u001b[0;34m\u001b[0m\u001b[0m\n\u001b[1;32m     11\u001b[0m \u001b[0;34m\u001b[0m\u001b[0m\n",
      "\u001b[0;31mNameError\u001b[0m: name 'metrics' is not defined"
     ]
    }
   ],
   "source": [
    "mse_values = []\n",
    "scores = []\n",
    "n = 0\n",
    "\n",
    "print(\"~~~~ CROSS VALIDATION each fold ~~~~\")\n",
    "for train_index, test_index in kf.split(X, y):\n",
    "    lr = LinearRegression().fit(X.iloc[train_index], y.iloc[train_index])\n",
    "    \n",
    "    mse_values.append(metrics.mean_squared_error(y.iloc[test_index], lr.predict(X.iloc[test_index])))\n",
    "    scores.append(lr.score(X, y))\n",
    "    \n",
    "    n += 1\n",
    "    \n",
    "    print('Model {}'.format(n))\n",
    "    print('MSE: {}'.format(mse_values[n-1]))\n",
    "    print('R2: {}\\n'.format(scores[n-1]))\n",
    "\n",
    "\n",
    "print(\"~~~~ SUMMARY OF CROSS VALIDATION ~~~~\")\n",
    "print('Mean of MSE for all folds: {}'.format(np.mean(mse_values)))\n",
    "print('Mean of R2 for all folds: {}'.format(np.mean(scores)))"
   ]
  },
  {
   "cell_type": "code",
   "execution_count": 56,
   "metadata": {},
   "outputs": [
    {
     "name": "stdout",
     "output_type": "stream",
     "text": [
      "23.29279990166426\n",
      "0.7283039363739202\n"
     ]
    }
   ],
   "source": [
    "from sklearn.model_selection import cross_val_score\n",
    "\n",
    "# Note the results will vary each run since we take a different\n",
    "#   subset of the data each time (since shuffle=True)\n",
    "kf = model_selection.KFold(n_splits=5, shuffle=True)\n",
    "\n",
    "print(np.mean(-cross_val_score(lr, X, y, cv=kf, scoring='neg_mean_squared_error')))\n",
    "print(np.mean(cross_val_score(lr, X, y, cv=kf)))"
   ]
  },
  {
   "cell_type": "markdown",
   "metadata": {},
   "source": [
    "While the cross-validated approach here generated more overall error, which of the two approaches would predict new data more accurately — the single model or the cross-validated, averaged one? Why?\n",
    "\n",
    "\n",
    "\n",
    "**Answer**: \n",
    "\n",
    "...."
   ]
  },
  {
   "cell_type": "markdown",
   "metadata": {},
   "source": [
    "<a id=\"three-way-data-split\"></a>\n",
    "## Three-Way Data Split\n",
    "---\n",
    "\n",
    "The most common workflow is actually a combination of train/test split and cross-validation. We take a train/test split on our data right away and try not spend a lot of time using the testing data set. Instead, we take our training data and tune our models using cross-validation. When we think we are done, we do one last test on the testing data to make sure we haven't accidently overfit to our training data.\n",
    "\n",
    "**If you tune hyperparameters via cross-validation, you should never use cross-validation on the same dataset to estimate OOS accuracy!** Using cross-validation in this way, the entire dataset was used to tune hyperparameters. So, this invalidates our condition above -- where we assumed the test set is a pretend \"out-of-sample\" dataset that was not used to train our model! So, we would expect the accuracy on this test set to be artificially inflated as compared to actual \"out-of-sample\" data.\n",
    "\n",
    "Even with good evaluation procedures, it is incredible easy to overfit our models by including features that will not be available during production or leak information about our testing data in other ways."
   ]
  },
  {
   "cell_type": "markdown",
   "metadata": {},
   "source": [
    "![](./assets/Train-Test-Split-CV.png)"
   ]
  },
  {
   "cell_type": "markdown",
   "metadata": {
    "collapsed": true
   },
   "source": [
    "- If model selection and true error estimates are to be computed simultaneously, three disjointed data sets are best.\n",
    "    - **Training set**: A set of examples used for learning – what parameters of the classifier?\n",
    "    - **Validation set**: A set of examples used to tune the parameters of the classifier.\n",
    "    - **Testing set**: A set of examples used ONLY to assess the performance of the fully trained classifier.\n",
    "- Validation and testing must be separate data sets. Once you have the final model set, you cannot do any additional tuning after testing."
   ]
  },
  {
   "cell_type": "markdown",
   "metadata": {
    "collapsed": true
   },
   "source": [
    "1. Divide data into training, validation, and testing sets.\n",
    "2. Select architecture (model type) and training parameters (k).\n",
    "3. Train the model using the training set.\n",
    "4. Evaluate the model using the training set.\n",
    "5. Repeat 2–4 times, selecting different architectures (models) and tuning parameters.\n",
    "6. Select the best model.\n",
    "7. Assess the model with the final testing set."
   ]
  },
  {
   "cell_type": "markdown",
   "metadata": {
    "collapsed": true
   },
   "source": [
    "<a id=\"additional-resources\"></a>\n",
    "<a id=\"additional-resources\"></a>\n",
    "### Additional Resources\n",
    "- [Bias Variance](http://scott.fortmann-roe.com/docs/BiasVariance.html)\n",
    "- University of Washington [slides](https://courses.cs.washington.edu/courses/cse546/12wi/slides/)"
   ]
  },
  {
   "cell_type": "markdown",
   "metadata": {
    "collapsed": true
   },
   "source": [
    "<a id=\"summary\"></a>\n",
    "### Summary\n",
    "\n",
    "In this lab, we compared four methods of estimating model accuracy on out-of-sample data. Throughout your regular data science work, you will likely use all four at some point:\n",
    "\n",
    "1. **Train on the entire dataset**\n",
    "2. **Train-test-split**\n",
    "3. **Cross-validation**\n",
    "4. **Three-way split**"
   ]
  },
  {
   "cell_type": "code",
   "execution_count": null,
   "metadata": {},
   "outputs": [],
   "source": []
  }
 ],
 "metadata": {
  "anaconda-cloud": {},
  "kernelspec": {
   "display_name": "Python 3",
   "language": "python",
   "name": "python3"
  },
  "language_info": {
   "codemirror_mode": {
    "name": "ipython",
    "version": 3
   },
   "file_extension": ".py",
   "mimetype": "text/x-python",
   "name": "python",
   "nbconvert_exporter": "python",
   "pygments_lexer": "ipython3",
   "version": "3.6.5"
  }
 },
 "nbformat": 4,
 "nbformat_minor": 2
}
