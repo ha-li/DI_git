{
 "cells": [
  {
   "cell_type": "code",
   "execution_count": 10,
   "metadata": {},
   "outputs": [
    {
     "data": {
      "text/html": [
       "<div>\n",
       "<style scoped>\n",
       "    .dataframe tbody tr th:only-of-type {\n",
       "        vertical-align: middle;\n",
       "    }\n",
       "\n",
       "    .dataframe tbody tr th {\n",
       "        vertical-align: top;\n",
       "    }\n",
       "\n",
       "    .dataframe thead th {\n",
       "        text-align: right;\n",
       "    }\n",
       "</style>\n",
       "<table border=\"1\" class=\"dataframe\">\n",
       "  <thead>\n",
       "    <tr style=\"text-align: right;\">\n",
       "      <th></th>\n",
       "      <th>name</th>\n",
       "      <th>company</th>\n",
       "    </tr>\n",
       "  </thead>\n",
       "  <tbody>\n",
       "    <tr>\n",
       "      <th>0</th>\n",
       "      <td>vincent</td>\n",
       "      <td>dfdvvvb</td>\n",
       "    </tr>\n",
       "    <tr>\n",
       "      <th>1</th>\n",
       "      <td>gabe</td>\n",
       "      <td>Facebook</td>\n",
       "    </tr>\n",
       "    <tr>\n",
       "      <th>2</th>\n",
       "      <td>kelsey</td>\n",
       "      <td>XYQQ</td>\n",
       "    </tr>\n",
       "    <tr>\n",
       "      <th>3</th>\n",
       "      <td>juliane</td>\n",
       "      <td>udbdj</td>\n",
       "    </tr>\n",
       "  </tbody>\n",
       "</table>\n",
       "</div>"
      ],
      "text/plain": [
       "      name   company\n",
       "0  vincent   dfdvvvb\n",
       "1     gabe  Facebook\n",
       "2   kelsey      XYQQ\n",
       "3  juliane     udbdj"
      ]
     },
     "execution_count": 10,
     "metadata": {},
     "output_type": "execute_result"
    }
   ],
   "source": [
    "import pandas as pd\n",
    "import numpy as np\n",
    "\n",
    "df = pd.read_excel(open('./Neo_temp.xlsx','rb'), sheet_name='Sheet1')\n",
    "df.head()"
   ]
  },
  {
   "cell_type": "code",
   "execution_count": 11,
   "metadata": {},
   "outputs": [
    {
     "data": {
      "text/html": [
       "<div>\n",
       "<style scoped>\n",
       "    .dataframe tbody tr th:only-of-type {\n",
       "        vertical-align: middle;\n",
       "    }\n",
       "\n",
       "    .dataframe tbody tr th {\n",
       "        vertical-align: top;\n",
       "    }\n",
       "\n",
       "    .dataframe thead th {\n",
       "        text-align: right;\n",
       "    }\n",
       "</style>\n",
       "<table border=\"1\" class=\"dataframe\">\n",
       "  <thead>\n",
       "    <tr style=\"text-align: right;\">\n",
       "      <th></th>\n",
       "      <th>name</th>\n",
       "      <th>company</th>\n",
       "      <th>Individual_query</th>\n",
       "      <th>Company_query</th>\n",
       "      <th>Rel_query</th>\n",
       "    </tr>\n",
       "  </thead>\n",
       "  <tbody>\n",
       "    <tr>\n",
       "      <th>0</th>\n",
       "      <td>vincent</td>\n",
       "      <td>dfdvvvb</td>\n",
       "      <td></td>\n",
       "      <td></td>\n",
       "      <td></td>\n",
       "    </tr>\n",
       "    <tr>\n",
       "      <th>1</th>\n",
       "      <td>gabe</td>\n",
       "      <td>Facebook</td>\n",
       "      <td></td>\n",
       "      <td></td>\n",
       "      <td></td>\n",
       "    </tr>\n",
       "    <tr>\n",
       "      <th>2</th>\n",
       "      <td>kelsey</td>\n",
       "      <td>XYQQ</td>\n",
       "      <td></td>\n",
       "      <td></td>\n",
       "      <td></td>\n",
       "    </tr>\n",
       "    <tr>\n",
       "      <th>3</th>\n",
       "      <td>juliane</td>\n",
       "      <td>udbdj</td>\n",
       "      <td></td>\n",
       "      <td></td>\n",
       "      <td></td>\n",
       "    </tr>\n",
       "  </tbody>\n",
       "</table>\n",
       "</div>"
      ],
      "text/plain": [
       "      name   company Individual_query Company_query Rel_query\n",
       "0  vincent   dfdvvvb                                         \n",
       "1     gabe  Facebook                                         \n",
       "2   kelsey      XYQQ                                         \n",
       "3  juliane     udbdj                                         "
      ]
     },
     "execution_count": 11,
     "metadata": {},
     "output_type": "execute_result"
    }
   ],
   "source": [
    "df['Individual_query']=\"\"\n",
    "df['Company_query']=\"\"\n",
    "df['Rel_query']=\"\"\n",
    "df"
   ]
  },
  {
   "cell_type": "code",
   "execution_count": 12,
   "metadata": {},
   "outputs": [
    {
     "name": "stdout",
     "output_type": "stream",
     "text": [
      "0 ------ dfdvvvb\n",
      "1 ------ Facebook\n",
      "2 ------ XYQQ\n",
      "3 ------ udbdj\n"
     ]
    },
    {
     "data": {
      "text/html": [
       "<div>\n",
       "<style scoped>\n",
       "    .dataframe tbody tr th:only-of-type {\n",
       "        vertical-align: middle;\n",
       "    }\n",
       "\n",
       "    .dataframe tbody tr th {\n",
       "        vertical-align: top;\n",
       "    }\n",
       "\n",
       "    .dataframe thead th {\n",
       "        text-align: right;\n",
       "    }\n",
       "</style>\n",
       "<table border=\"1\" class=\"dataframe\">\n",
       "  <thead>\n",
       "    <tr style=\"text-align: right;\">\n",
       "      <th></th>\n",
       "      <th>name</th>\n",
       "      <th>company</th>\n",
       "      <th>Individual_query</th>\n",
       "      <th>Company_query</th>\n",
       "      <th>Rel_query</th>\n",
       "    </tr>\n",
       "  </thead>\n",
       "  <tbody>\n",
       "    <tr>\n",
       "      <th>0</th>\n",
       "      <td>vincent</td>\n",
       "      <td>dfdvvvb</td>\n",
       "      <td>MERGE(n:Individual {name:'vincent'})</td>\n",
       "      <td>MERGE(n:Company {name:'dfdvvvb'})</td>\n",
       "      <td>MATCH (n1:Individual {name:'vincent'}),(n2:Com...</td>\n",
       "    </tr>\n",
       "    <tr>\n",
       "      <th>1</th>\n",
       "      <td>gabe</td>\n",
       "      <td>Facebook</td>\n",
       "      <td>MERGE(n:Individual {name:'gabe'})</td>\n",
       "      <td>MERGE(n:Company {name:'Facebook'})</td>\n",
       "      <td>MATCH (n1:Individual {name:'gabe'}),(n2:Compan...</td>\n",
       "    </tr>\n",
       "    <tr>\n",
       "      <th>2</th>\n",
       "      <td>kelsey</td>\n",
       "      <td>XYQQ</td>\n",
       "      <td>MERGE(n:Individual {name:'kelsey'})</td>\n",
       "      <td>MERGE(n:Company {name:'XYQQ'})</td>\n",
       "      <td>MATCH (n1:Individual {name:'kelsey'}),(n2:Comp...</td>\n",
       "    </tr>\n",
       "    <tr>\n",
       "      <th>3</th>\n",
       "      <td>juliane</td>\n",
       "      <td>udbdj</td>\n",
       "      <td>MERGE(n:Individual {name:'juliane'})</td>\n",
       "      <td>MERGE(n:Company {name:'udbdj'})</td>\n",
       "      <td>MATCH (n1:Individual {name:'juliane'}),(n2:Com...</td>\n",
       "    </tr>\n",
       "  </tbody>\n",
       "</table>\n",
       "</div>"
      ],
      "text/plain": [
       "      name   company                      Individual_query  \\\n",
       "0  vincent   dfdvvvb  MERGE(n:Individual {name:'vincent'})   \n",
       "1     gabe  Facebook     MERGE(n:Individual {name:'gabe'})   \n",
       "2   kelsey      XYQQ   MERGE(n:Individual {name:'kelsey'})   \n",
       "3  juliane     udbdj  MERGE(n:Individual {name:'juliane'})   \n",
       "\n",
       "                        Company_query  \\\n",
       "0   MERGE(n:Company {name:'dfdvvvb'})   \n",
       "1  MERGE(n:Company {name:'Facebook'})   \n",
       "2      MERGE(n:Company {name:'XYQQ'})   \n",
       "3     MERGE(n:Company {name:'udbdj'})   \n",
       "\n",
       "                                           Rel_query  \n",
       "0  MATCH (n1:Individual {name:'vincent'}),(n2:Com...  \n",
       "1  MATCH (n1:Individual {name:'gabe'}),(n2:Compan...  \n",
       "2  MATCH (n1:Individual {name:'kelsey'}),(n2:Comp...  \n",
       "3  MATCH (n1:Individual {name:'juliane'}),(n2:Com...  "
      ]
     },
     "execution_count": 12,
     "metadata": {},
     "output_type": "execute_result"
    }
   ],
   "source": [
    "for index, row in df.iterrows():  \n",
    "    print(index,'------',row['company'])\n",
    "    df['Individual_query'][index]=\"MERGE(n:Individual {name:'%s'})\"%(row['name'])\n",
    "    df['Company_query'][index]=\"MERGE(n:Company {name:'%s'})\"%(row['company'])\n",
    "    df['Rel_query'][index]=\"MATCH (n1:Individual {name:'%s'}),(n2:Company {name:'%s'}) MERGE (n1)-[r:WORKS_IN]->(n2)\"%(row['name'],row['company'])\n",
    "df"
   ]
  },
  {
   "cell_type": "markdown",
   "metadata": {},
   "source": [
    "## Ingest into Graph from here"
   ]
  },
  {
   "cell_type": "code",
   "execution_count": 13,
   "metadata": {},
   "outputs": [],
   "source": [
    "# How to install this package? type this \"pip install neo4j-driver\" in your terminal  ==> then run the rest\n",
    "from neo4j.v1 import GraphDatabase\n",
    "\n",
    "uri = \"bolt://localhost:7687\"\n",
    "driver = GraphDatabase.driver(uri, auth=(\"neo4j\", \"mjgh2765\"))\n"
   ]
  },
  {
   "cell_type": "code",
   "execution_count": 14,
   "metadata": {},
   "outputs": [],
   "source": [
    "for index, row in df.iterrows():\n",
    "    with driver.session() as session:      \n",
    "        result = session.run(row['Individual_query'])\n",
    "        result = session.run(row['Company_query'])\n",
    "        result = session.run(row['Rel_query'])"
   ]
  },
  {
   "cell_type": "code",
   "execution_count": null,
   "metadata": {},
   "outputs": [],
   "source": []
  }
 ],
 "metadata": {
  "kernelspec": {
   "display_name": "Python 3",
   "language": "python",
   "name": "python3"
  },
  "language_info": {
   "codemirror_mode": {
    "name": "ipython",
    "version": 3
   },
   "file_extension": ".py",
   "mimetype": "text/x-python",
   "name": "python",
   "nbconvert_exporter": "python",
   "pygments_lexer": "ipython3",
   "version": "3.6.5"
  }
 },
 "nbformat": 4,
 "nbformat_minor": 2
}
