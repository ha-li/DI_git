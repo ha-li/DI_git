{
 "cells": [
  {
   "cell_type": "markdown",
   "metadata": {},
   "source": [
    "# Reading iris dataset"
   ]
  },
  {
   "cell_type": "code",
   "execution_count": 17,
   "metadata": {},
   "outputs": [
    {
     "name": "stdout",
     "output_type": "stream",
     "text": [
      "     sepal length (cm)  sepal width (cm)  petal length (cm)  petal width (cm)  \\\n",
      "0                  5.1               3.5                1.4               0.2   \n",
      "1                  4.9               3.0                1.4               0.2   \n",
      "2                  4.7               3.2                1.3               0.2   \n",
      "3                  4.6               3.1                1.5               0.2   \n",
      "4                  5.0               3.6                1.4               0.2   \n",
      "5                  5.4               3.9                1.7               0.4   \n",
      "6                  4.6               3.4                1.4               0.3   \n",
      "7                  5.0               3.4                1.5               0.2   \n",
      "8                  4.4               2.9                1.4               0.2   \n",
      "9                  4.9               3.1                1.5               0.1   \n",
      "10                 5.4               3.7                1.5               0.2   \n",
      "11                 4.8               3.4                1.6               0.2   \n",
      "12                 4.8               3.0                1.4               0.1   \n",
      "13                 4.3               3.0                1.1               0.1   \n",
      "14                 5.8               4.0                1.2               0.2   \n",
      "15                 5.7               4.4                1.5               0.4   \n",
      "16                 5.4               3.9                1.3               0.4   \n",
      "17                 5.1               3.5                1.4               0.3   \n",
      "18                 5.7               3.8                1.7               0.3   \n",
      "19                 5.1               3.8                1.5               0.3   \n",
      "20                 5.4               3.4                1.7               0.2   \n",
      "21                 5.1               3.7                1.5               0.4   \n",
      "22                 4.6               3.6                1.0               0.2   \n",
      "23                 5.1               3.3                1.7               0.5   \n",
      "24                 4.8               3.4                1.9               0.2   \n",
      "25                 5.0               3.0                1.6               0.2   \n",
      "26                 5.0               3.4                1.6               0.4   \n",
      "27                 5.2               3.5                1.5               0.2   \n",
      "28                 5.2               3.4                1.4               0.2   \n",
      "29                 4.7               3.2                1.6               0.2   \n",
      "..                 ...               ...                ...               ...   \n",
      "120                6.9               3.2                5.7               2.3   \n",
      "121                5.6               2.8                4.9               2.0   \n",
      "122                7.7               2.8                6.7               2.0   \n",
      "123                6.3               2.7                4.9               1.8   \n",
      "124                6.7               3.3                5.7               2.1   \n",
      "125                7.2               3.2                6.0               1.8   \n",
      "126                6.2               2.8                4.8               1.8   \n",
      "127                6.1               3.0                4.9               1.8   \n",
      "128                6.4               2.8                5.6               2.1   \n",
      "129                7.2               3.0                5.8               1.6   \n",
      "130                7.4               2.8                6.1               1.9   \n",
      "131                7.9               3.8                6.4               2.0   \n",
      "132                6.4               2.8                5.6               2.2   \n",
      "133                6.3               2.8                5.1               1.5   \n",
      "134                6.1               2.6                5.6               1.4   \n",
      "135                7.7               3.0                6.1               2.3   \n",
      "136                6.3               3.4                5.6               2.4   \n",
      "137                6.4               3.1                5.5               1.8   \n",
      "138                6.0               3.0                4.8               1.8   \n",
      "139                6.9               3.1                5.4               2.1   \n",
      "140                6.7               3.1                5.6               2.4   \n",
      "141                6.9               3.1                5.1               2.3   \n",
      "142                5.8               2.7                5.1               1.9   \n",
      "143                6.8               3.2                5.9               2.3   \n",
      "144                6.7               3.3                5.7               2.5   \n",
      "145                6.7               3.0                5.2               2.3   \n",
      "146                6.3               2.5                5.0               1.9   \n",
      "147                6.5               3.0                5.2               2.0   \n",
      "148                6.2               3.4                5.4               2.3   \n",
      "149                5.9               3.0                5.1               1.8   \n",
      "\n",
      "     target  \n",
      "0       0.0  \n",
      "1       0.0  \n",
      "2       0.0  \n",
      "3       0.0  \n",
      "4       0.0  \n",
      "5       0.0  \n",
      "6       0.0  \n",
      "7       0.0  \n",
      "8       0.0  \n",
      "9       0.0  \n",
      "10      0.0  \n",
      "11      0.0  \n",
      "12      0.0  \n",
      "13      0.0  \n",
      "14      0.0  \n",
      "15      0.0  \n",
      "16      0.0  \n",
      "17      0.0  \n",
      "18      0.0  \n",
      "19      0.0  \n",
      "20      0.0  \n",
      "21      0.0  \n",
      "22      0.0  \n",
      "23      0.0  \n",
      "24      0.0  \n",
      "25      0.0  \n",
      "26      0.0  \n",
      "27      0.0  \n",
      "28      0.0  \n",
      "29      0.0  \n",
      "..      ...  \n",
      "120     2.0  \n",
      "121     2.0  \n",
      "122     2.0  \n",
      "123     2.0  \n",
      "124     2.0  \n",
      "125     2.0  \n",
      "126     2.0  \n",
      "127     2.0  \n",
      "128     2.0  \n",
      "129     2.0  \n",
      "130     2.0  \n",
      "131     2.0  \n",
      "132     2.0  \n",
      "133     2.0  \n",
      "134     2.0  \n",
      "135     2.0  \n",
      "136     2.0  \n",
      "137     2.0  \n",
      "138     2.0  \n",
      "139     2.0  \n",
      "140     2.0  \n",
      "141     2.0  \n",
      "142     2.0  \n",
      "143     2.0  \n",
      "144     2.0  \n",
      "145     2.0  \n",
      "146     2.0  \n",
      "147     2.0  \n",
      "148     2.0  \n",
      "149     2.0  \n",
      "\n",
      "[150 rows x 5 columns]\n"
     ]
    }
   ],
   "source": [
    "from sklearn import datasets\n",
    "import pandas as pd\n",
    "import numpy as np\n",
    "\n",
    "from sklearn.tree import export_graphviz\n",
    "import pydotplus\n",
    "\n",
    "data = datasets.load_iris()\n",
    "content = data.data\n",
    "target  = data.target\n",
    "\n",
    "# Display dataset\n",
    "print(pd.DataFrame(data = np.c_[content, target], columns = data.feature_names + ['target']))\n"
   ]
  },
  {
   "cell_type": "markdown",
   "metadata": {},
   "source": [
    "# Reading 'play tennis' dataset  from .csv"
   ]
  },
  {
   "cell_type": "code",
   "execution_count": 18,
   "metadata": {},
   "outputs": [
    {
     "name": "stdout",
     "output_type": "stream",
     "text": [
      "     outlook temperature humidity   wind playtennis\n",
      "0      sunny         hot     high  False         no\n",
      "1      sunny         hot     high   True         no\n",
      "2   overcast         hot     high  False        yes\n",
      "3       rain        mild     high  False        yes\n",
      "4       rain        cool   normal  False        yes\n",
      "5       rain        cool   normal   True         no\n",
      "6   overcast        cool   normal   True        yes\n",
      "7      sunny        mild     high  False         no\n",
      "8      sunny        cool   normal  False        yes\n",
      "9       rain        mild   normal  False        yes\n",
      "10     sunny        mild   normal   True        yes\n",
      "11  overcast        mild     high   True        yes\n",
      "12  overcast         hot   normal  False        yes\n",
      "13      rain        mild     high   True         no\n"
     ]
    }
   ],
   "source": [
    "tennis = pd.read_csv(\"play-tennis.csv\")\n",
    "print(tennis)"
   ]
  },
  {
   "cell_type": "markdown",
   "metadata": {},
   "source": [
    "# Learning iris dataset with full training \n",
    "## NaïveBayes"
   ]
  },
  {
   "cell_type": "code",
   "execution_count": 19,
   "metadata": {
    "scrolled": true
   },
   "outputs": [
    {
     "name": "stdout",
     "output_type": "stream",
     "text": [
      "Probability of each class: \n",
      "['setosa' 'versicolor' 'virginica']\n",
      "[0.33333333 0.33333333 0.33333333]\n",
      "\n",
      "Means of attribute of every class: \n",
      "   sepal length (cm)  sepal width (cm)  petal length (cm)  petal width (cm)\n",
      "0              5.006             3.418              1.464             0.244\n",
      "1              5.936             2.770              4.260             1.326\n",
      "2              6.588             2.974              5.552             2.026\n",
      "\n",
      "Variance of attribute of every class: \n",
      "   sepal length (cm)  sepal width (cm)  petal length (cm)  petal width (cm)\n",
      "0           0.121764          0.142276           0.029504          0.011264\n",
      "1           0.261104          0.096500           0.216400          0.038324\n",
      "2           0.396256          0.101924           0.298496          0.073924\n"
     ]
    }
   ],
   "source": [
    "from sklearn.naive_bayes import GaussianNB\n",
    "gnb = GaussianNB()\n",
    "\n",
    "GNBlearn = gnb.fit(content, target)\n",
    "\n",
    "prob_class = gnb.class_prior_\n",
    "print(\"Probability of each class: \")\n",
    "print(data.target_names)\n",
    "print(prob_class)\n",
    "\n",
    "print()\n",
    "\n",
    "feature_mean = gnb.theta_\n",
    "print(\"Means of attribute of every class: \")\n",
    "print(pd.DataFrame(data = np.c_[feature_mean], columns = data.feature_names))\n",
    "\n",
    "print()\n",
    "\n",
    "feature_variance = gnb.sigma_\n",
    "print(\"Variance of attribute of every class: \")\n",
    "print(pd.DataFrame(data = np.c_[feature_variance], columns = data.feature_names))\n"
   ]
  },
  {
   "cell_type": "markdown",
   "metadata": {},
   "source": [
    "## Decision Tree ID3"
   ]
  },
  {
   "cell_type": "code",
   "execution_count": 22,
   "metadata": {},
   "outputs": [
    {
     "data": {
      "text/plain": [
       "DecisionTreeClassifier(class_weight=None, criterion='entropy', max_depth=None,\n",
       "            max_features=None, max_leaf_nodes=None,\n",
       "            min_impurity_decrease=0.0, min_impurity_split=None,\n",
       "            min_samples_leaf=1, min_samples_split=2,\n",
       "            min_weight_fraction_leaf=0.0, presort=False, random_state=None,\n",
       "            splitter='best')"
      ]
     },
     "execution_count": 22,
     "metadata": {},
     "output_type": "execute_result"
    }
   ],
   "source": [
    "from sklearn import tree\n",
    "\n",
    "\n",
    "ID3learn = tree.DecisionTreeClassifier(criterion=\"entropy\")\n",
    "ID3learn.fit(content, target)\n",
    "\n",
    "# dot_data = tree.export_graphviz(ID3learn, out_file=None, \n",
    "#                          feature_names=data.feature_names,  \n",
    "#                          class_names=data.target_names,  \n",
    "#                          filled=True, rounded=True,  \n",
    "#                          special_characters=True)  \n",
    "# graph = graphviz.Source(dot_data)  \n",
    "# graph"
   ]
  },
  {
   "cell_type": "markdown",
   "metadata": {},
   "source": [
    "## K-Nearest Neighbor"
   ]
  },
  {
   "cell_type": "code",
   "execution_count": 23,
   "metadata": {},
   "outputs": [
    {
     "name": "stdout",
     "output_type": "stream",
     "text": [
      "Automatically created module for IPython interactive environment\n"
     ]
    },
    {
     "data": {
      "image/png": "[encoded data removed]",
      "text/plain": [
       "<Figure size 432x288 with 1 Axes>"
      ]
     },
     "metadata": {},
     "output_type": "display_data"
    }
   ],
   "source": [
    "print(__doc__)\n",
    "\n",
    "import numpy as np\n",
    "import matplotlib.pyplot as plt\n",
    "from matplotlib.colors import ListedColormap\n",
    "from sklearn import neighbors, datasets\n",
    "\n",
    "n_neighbors = 15\n",
    "\n",
    "# Take only the first two features. We could avoid this ugly\n",
    "# slicing by using a two-dim dataset\n",
    "X = content[:, :2]\n",
    "y = target\n",
    "\n",
    "h = .02  # step size in the mesh\n",
    "\n",
    "# Create color maps\n",
    "cmap_light = ListedColormap(['#FFAAAA', '#AAFFAA', '#AAAAFF'])\n",
    "cmap_bold = ListedColormap(['#FF0000', '#00FF00', '#0000FF'])\n",
    "\n",
    "# Create an instance of Neighbours Classifier and fit the data.\n",
    "KNNlearn = neighbors.KNeighborsClassifier(n_neighbors, weights='uniform')\n",
    "KNNlearn.fit(X, y)\n",
    "\n",
    "# Plot the decision boundary. For that, we will assign a color to each\n",
    "# point in the mesh [x_min, x_max]x[y_min, y_max].\n",
    "x_min, x_max = X[:, 0].min() - 1, X[:, 0].max() + 1\n",
    "y_min, y_max = X[:, 1].min() - 1, X[:, 1].max() + 1\n",
    "xx, yy = np.meshgrid(np.arange(x_min, x_max, h),\n",
    "                     np.arange(y_min, y_max, h))\n",
    "Z = KNNlearn.predict(np.c_[xx.ravel(), yy.ravel()])\n",
    "\n",
    "# Put the result into a color plot\n",
    "Z = Z.reshape(xx.shape)\n",
    "plt.figure()\n",
    "plt.pcolormesh(xx, yy, Z, cmap=cmap_light)\n",
    "\n",
    "# Plot also the training points\n",
    "plt.scatter(X[:, 0], X[:, 1], c=y, cmap=cmap_bold,\n",
    "            edgecolor='k', s=20)\n",
    "plt.xlim(xx.min(), xx.max())\n",
    "plt.ylim(yy.min(), yy.max())\n",
    "plt.title(\"3-Class classification (k = %i, weights = '%s')\"\n",
    "          % (n_neighbors, 'uniform'))\n",
    "\n",
    "plt.show()"
   ]
  },
  {
   "cell_type": "markdown",
   "metadata": {},
   "source": [
    "## Multi Layer Perceptron (MLP)"
   ]
  },
  {
   "cell_type": "code",
   "execution_count": 24,
   "metadata": {},
   "outputs": [
    {
     "name": "stdout",
     "output_type": "stream",
     "text": [
      "Weight Matrices: \n",
      "[array([[-0.708528  ,  0.43897675, -0.76305556, -0.62778552, -0.06787067],\n",
      "       [-0.19017801,  0.08088255, -0.33455775,  0.30853217,  0.24644785],\n",
      "       [ 0.43929434,  0.39827729, -0.01153832, -0.73515413, -0.70008283],\n",
      "       [ 0.77761481,  0.05240732,  0.62344451,  0.77638739, -0.02228968]]), array([[-0.85332953,  0.27276523],\n",
      "       [-0.71456297, -0.04868739],\n",
      "       [-0.39187264,  0.22876236],\n",
      "       [-0.51000698, -0.14349352],\n",
      "       [-0.57756415,  0.75778076]]), array([[-0.86718869,  0.61018008,  0.30101134],\n",
      "       [-0.98309191,  0.91288554,  0.26295175]])]\n",
      "\n",
      "Bias Vectors: \n",
      "[array([-0.54566053, -0.06230607, -0.53045617,  0.03756891,  0.24719748]), array([-0.56186675, -0.5274471 ]), array([-0.33052925, -0.33040598, -0.33040089])]\n"
     ]
    }
   ],
   "source": [
    "from sklearn.neural_network import MLPClassifier\n",
    "\n",
    "MLPlearn = MLPClassifier(solver='lbfgs',\n",
    "                hidden_layer_sizes=(5, 2))\n",
    "MLPlearn.fit(content, target)\n",
    "\n",
    "# Element[i,j] represents the weight of element-j on layer i\n",
    "print(\"Weight Matrices: \")\n",
    "print(MLPlearn.coefs_)\n",
    "print()\n",
    "\n",
    "# Element[i,j] represents the bias for element-j on layer i\n",
    "print(\"Bias Vectors: \")\n",
    "print(MLPlearn.intercepts_)"
   ]
  },
  {
   "cell_type": "markdown",
   "metadata": {
    "collapsed": true
   },
   "source": [
    "# Learning iris dataset with split : train 90% & test 10% schema"
   ]
  },
  {
   "cell_type": "code",
   "execution_count": 25,
   "metadata": {},
   "outputs": [],
   "source": [
    "from sklearn.model_selection import train_test_split\n",
    "\n",
    "X_train, X_test, y_train, y_test= train_test_split(content, target, test_size=0.1)"
   ]
  },
  {
   "cell_type": "markdown",
   "metadata": {},
   "source": [
    "## NaïveBayes"
   ]
  },
  {
   "cell_type": "code",
   "execution_count": 26,
   "metadata": {},
   "outputs": [
    {
     "name": "stdout",
     "output_type": "stream",
     "text": [
      "1. Accuracy:  93.33333333333333%\n",
      "\n",
      "2. Precision: \n",
      "setosa: 100.0%\n",
      "versicolor: 85.71428571428571%\n",
      "virginica: 100.0%\n",
      "\n",
      "3. Recall: \n",
      "setosa: 100.0%\n",
      "versicolor: 100.0%\n",
      "virginica: 85.71428571428571%\n",
      "\n",
      "4. Confusion Matrix: \n",
      "[[2 0 0]\n",
      " [0 6 0]\n",
      " [0 1 6]]\n"
     ]
    }
   ],
   "source": [
    "from sklearn import metrics\n",
    "\n",
    "GNBlearn.fit(X_train, y_train)\n",
    "y_pred = GNBlearn.predict(X_test)\n",
    "\n",
    "print(\"1. Accuracy: \", str(metrics.accuracy_score(y_test,y_pred) * 100) + \"%\")\n",
    "print()\n",
    "\n",
    "precision = metrics.precision_score(y_test, y_pred, average=None) * 100\n",
    "print(\"2. Precision: \")\n",
    "for i in range(3):\n",
    "    print(data.target_names[i] + \": \" + str(precision[i]) + \"%\")\n",
    "print()\n",
    "    \n",
    "recall = metrics.recall_score(y_test, y_pred, average=None) * 100\n",
    "print(\"3. Recall: \")\n",
    "for i in range(3):\n",
    "    print(data.target_names[i] + \": \" + str(recall[i]) + \"%\")\n",
    "print()\n",
    "\n",
    "print(\"4. Confusion Matrix: \")\n",
    "print(metrics.confusion_matrix(y_test, y_pred))"
   ]
  },
  {
   "cell_type": "markdown",
   "metadata": {},
   "source": [
    "## Decision Tree ID3"
   ]
  },
  {
   "cell_type": "code",
   "execution_count": 27,
   "metadata": {},
   "outputs": [
    {
     "name": "stdout",
     "output_type": "stream",
     "text": [
      "1. Accuracy:  93.33333333333333%\n",
      "\n",
      "2. Precision: \n",
      "setosa: 100.0%\n",
      "versicolor: 85.71428571428571%\n",
      "virginica: 100.0%\n",
      "\n",
      "3. Recall: \n",
      "setosa: 100.0%\n",
      "versicolor: 100.0%\n",
      "virginica: 85.71428571428571%\n",
      "\n",
      "4. Confusion Matrix: \n",
      "[[2 0 0]\n",
      " [0 6 0]\n",
      " [0 1 6]]\n"
     ]
    }
   ],
   "source": [
    "ID3learn.fit(X_train, y_train)\n",
    "y_pred = ID3learn.predict(X_test)\n",
    "\n",
    "print(\"1. Accuracy: \", str(metrics.accuracy_score(y_test,y_pred) * 100) + \"%\")\n",
    "print()\n",
    "\n",
    "precision = metrics.precision_score(y_test, y_pred, average=None) * 100\n",
    "print(\"2. Precision: \")\n",
    "for i in range(3):\n",
    "    print(data.target_names[i] + \": \" + str(precision[i]) + \"%\")\n",
    "print()\n",
    "    \n",
    "recall = metrics.recall_score(y_test, y_pred, average=None) * 100\n",
    "print(\"3. Recall: \")\n",
    "for i in range(3):\n",
    "    print(data.target_names[i] + \": \" + str(recall[i]) + \"%\")\n",
    "print()\n",
    "\n",
    "print(\"4. Confusion Matrix: \")\n",
    "print(metrics.confusion_matrix(y_test, y_pred))"
   ]
  },
  {
   "cell_type": "markdown",
   "metadata": {},
   "source": [
    "## K-Nearest Neighbor"
   ]
  },
  {
   "cell_type": "code",
   "execution_count": 28,
   "metadata": {},
   "outputs": [
    {
     "name": "stdout",
     "output_type": "stream",
     "text": [
      "1. Accuracy:  93.33333333333333%\n",
      "\n",
      "2. Precision: \n",
      "setosa: 100.0%\n",
      "versicolor: 85.71428571428571%\n",
      "virginica: 100.0%\n",
      "\n",
      "3. Recall: \n",
      "setosa: 100.0%\n",
      "versicolor: 100.0%\n",
      "virginica: 85.71428571428571%\n",
      "\n",
      "4. Confusion Matrix: \n",
      "[[2 0 0]\n",
      " [0 6 0]\n",
      " [0 1 6]]\n"
     ]
    }
   ],
   "source": [
    "KNNlearn.fit(X_train, y_train)\n",
    "y_pred = KNNlearn.predict(X_test)\n",
    "\n",
    "print(\"1. Accuracy: \", str(metrics.accuracy_score(y_test,y_pred) * 100) + \"%\")\n",
    "print()\n",
    "\n",
    "precision = metrics.precision_score(y_test, y_pred, average=None) * 100\n",
    "print(\"2. Precision: \")\n",
    "for i in range(3):\n",
    "    print(data.target_names[i] + \": \" + str(precision[i]) + \"%\")\n",
    "print()\n",
    "    \n",
    "recall = metrics.recall_score(y_test, y_pred, average=None) * 100\n",
    "print(\"3. Recall: \")\n",
    "for i in range(3):\n",
    "    print(data.target_names[i] + \": \" + str(recall[i]) + \"%\")\n",
    "print()\n",
    "\n",
    "print(\"4. Confusion Matrix: \")\n",
    "print(metrics.confusion_matrix(y_test, y_pred))"
   ]
  },
  {
   "cell_type": "markdown",
   "metadata": {},
   "source": [
    "# Learning iris dataset with 10-fold cross validatation schema\n",
    "## NaïveBayes"
   ]
  },
  {
   "cell_type": "code",
   "execution_count": 11,
   "metadata": {},
   "outputs": [
    {
     "name": "stdout",
     "output_type": "stream",
     "text": [
      "\n",
      "Fold-1: 0.93\n",
      "Fold-2: 0.93\n",
      "Fold-3: 1.00\n",
      "Fold-4: 0.93\n",
      "Fold-5: 0.93\n",
      "Fold-6: 0.93\n",
      "Fold-7: 0.87\n",
      "Fold-8: 1.00\n",
      "Fold-9: 1.00\n",
      "Fold-10: 1.00\n",
      "\n",
      "Mean: 0.95\n",
      "Accuration: 0.95 (+/- 0.09)\n"
     ]
    }
   ],
   "source": [
    "from sklearn.model_selection import cross_val_score\n",
    "\n",
    "score = cross_val_score(GNBlearn, content, target, cv=10)\n",
    "\n",
    "print()\n",
    "for i in range(10):\n",
    "    print(\"Fold-\" + str(i + 1) + \":\", \"%0.2f\" % score[i])\n",
    "print()\n",
    "print(\"Mean: %0.2f\" % score.mean())\n",
    "print(\"Accuration: %0.2f (+/- %0.2f)\" % (score.mean(), score.std() * 2))"
   ]
  },
  {
   "cell_type": "markdown",
   "metadata": {},
   "source": [
    "# Saving learning model/hypothesis into external file"
   ]
  },
  {
   "cell_type": "code",
   "execution_count": 31,
   "metadata": {},
   "outputs": [
    {
     "data": {
      "text/plain": [
       "['DT.model']"
      ]
     },
     "execution_count": 31,
     "metadata": {},
     "output_type": "execute_result"
    }
   ],
   "source": [
    "from sklearn.externals import joblib\n",
    "\n",
    "joblib.dump(KNNlearn, 'kNN.model')\n",
    "joblib.dump(MLPlearn, 'MLP.model')\n",
    "joblib.dump(GNBlearn, 'GNB.model')\n",
    "joblib.dump(ID3learn, 'DT.model')"
   ]
  },
  {
   "cell_type": "markdown",
   "metadata": {},
   "source": [
    "# Reading model/hypothesis from external file"
   ]
  },
  {
   "cell_type": "code",
   "execution_count": 32,
   "metadata": {},
   "outputs": [],
   "source": [
    "KNNlearn = joblib.load('kNN.model')\n",
    "MLPlearn = joblib.load('MLP.model')\n",
    "GNBlearn = joblib.load('GNB.model')\n",
    "ID3learn = joblib.load('DT.model')"
   ]
  },
  {
   "cell_type": "markdown",
   "metadata": {},
   "source": [
    "# Making new instances by assigning value to each attributes"
   ]
  },
  {
   "cell_type": "code",
   "execution_count": 33,
   "metadata": {},
   "outputs": [
    {
     "name": "stdout",
     "output_type": "stream",
     "text": [
      "New Instance: \n",
      "sepal length (cm): 3.0\n",
      "sepal width (cm): 3.1\n",
      "petal length (cm): 1.2\n",
      "petal width (cm): 0.3\n"
     ]
    }
   ],
   "source": [
    "newInstance = [3, 3.1, 1.2, 0.3]\n",
    "newInstance  = np.array([newInstance ])\n",
    "                \n",
    "print(\"New Instance: \")\n",
    "for i in range(4):\n",
    "    print(data.feature_names[i] + \":\", newInstance[0][i])"
   ]
  },
  {
   "cell_type": "markdown",
   "metadata": {},
   "source": [
    "# Classifying new instances data using NaïveBayes, DecisionTree, kNN, and MLP model/hypothesis"
   ]
  },
  {
   "cell_type": "markdown",
   "metadata": {},
   "source": [
    "## NaïveBayes"
   ]
  },
  {
   "cell_type": "code",
   "execution_count": 34,
   "metadata": {},
   "outputs": [
    {
     "name": "stdout",
     "output_type": "stream",
     "text": [
      "setosa\n"
     ]
    }
   ],
   "source": [
    "print(data.target_names[GNBlearn.predict(newInstance)][0])"
   ]
  },
  {
   "cell_type": "markdown",
   "metadata": {},
   "source": [
    "## DecisionTree"
   ]
  },
  {
   "cell_type": "code",
   "execution_count": 35,
   "metadata": {},
   "outputs": [
    {
     "name": "stdout",
     "output_type": "stream",
     "text": [
      "setosa\n"
     ]
    }
   ],
   "source": [
    "print(data.target_names[ID3learn.predict(newInstance)][0])"
   ]
  },
  {
   "cell_type": "markdown",
   "metadata": {},
   "source": [
    "## K-Nearest Neighbor"
   ]
  },
  {
   "cell_type": "code",
   "execution_count": 36,
   "metadata": {},
   "outputs": [
    {
     "name": "stdout",
     "output_type": "stream",
     "text": [
      "setosa\n"
     ]
    }
   ],
   "source": [
    "print(data.target_names[KNNlearn.predict(newInstance)][0])"
   ]
  },
  {
   "cell_type": "markdown",
   "metadata": {},
   "source": [
    "## Multi Layer Perceptron (MLP)"
   ]
  },
  {
   "cell_type": "code",
   "execution_count": 37,
   "metadata": {},
   "outputs": [
    {
     "name": "stdout",
     "output_type": "stream",
     "text": [
      "virginica\n"
     ]
    }
   ],
   "source": [
    "print(data.target_names[MLPlearn.predict(newInstance)][0])\n"
   ]
  },
  {
   "cell_type": "code",
   "execution_count": null,
   "metadata": {},
   "outputs": [],
   "source": []
  }
 ],
 "metadata": {
  "kernelspec": {
   "display_name": "Python 3",
   "language": "python",
   "name": "python3"
  },
  "language_info": {
   "codemirror_mode": {
    "name": "ipython",
    "version": 3
   },
   "file_extension": ".py",
   "mimetype": "text/x-python",
   "name": "python",
   "nbconvert_exporter": "python",
   "pygments_lexer": "ipython3",
   "version": "3.6.5"
  }
 },
 "nbformat": 4,
 "nbformat_minor": 2
}
