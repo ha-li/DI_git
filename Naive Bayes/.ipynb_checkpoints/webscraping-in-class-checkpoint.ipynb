{
 "cells": [
  {
   "cell_type": "markdown",
   "metadata": {
    "collapsed": true
   },
   "source": [
    "<img src=\"http://imgur.com/1ZcRyrc.png\" style=\"float: left; margin: 20px; height: 55px\">\n",
    "\n",
    "# Web Scraping\n",
    "\n",
    "\n",
    "---"
   ]
  },
  {
   "cell_type": "markdown",
   "metadata": {},
   "source": [
    "## Before Class\n",
    "\n",
    "#### Install Selenium\n",
    "\n",
    "Selenium is a headless browser. It allows us to render JavaScript just as a human-navigated browser would.\n",
    "\n",
    "To install Selenium, use one of the following:\n",
    "- **Anaconda:** `conda install -c conda-forge selenium`\n",
    "- **pip:** `pip install selenium`\n",
    "\n",
    "\n",
    "#### Install GeckoDriver\n",
    "\n",
    "You will also need GeckoDriver (this assumes you are using Homebrew for Mac): \n",
    "\n",
    "- ```brew install geckodriver```\n",
    "\n",
    "#### Install Firefox\n",
    "\n",
    "Additionally, you will need to have downloaded the [Firefox browser](https://www.mozilla.org/en-US/firefox/new/?utm_source=google&utm_medium=cpc&utm_campaign=Firefox-Brand-US-GGL-Exact&utm_term=firefox&utm_content=A144_A203_A006336&gclid=Cj0KEQjwnPLKBRC-j7nt1b7OlZwBEiQAv8lMLJUyReT6cPzSYdmEA6uD3YDoieuuuusddgAU7XH6smEaAoje8P8HAQ&gclsrc=aw.ds) for the application in this lesson."
   ]
  },
  {
   "cell_type": "markdown",
   "metadata": {},
   "source": [
    "## Learning Objectives\n",
    "- Revisit how to locate elements on a webpage\n",
    "- Aquire unstructure data from the internet using Beautiful soup.\n",
    "- Discuss limitations associated with simple requests and urllib libraries\n",
    "- Introduce Selenium as a solution, and implement a scraper using selenium"
   ]
  },
  {
   "cell_type": "markdown",
   "metadata": {},
   "source": [
    "## Lesson Guide\n",
    "\n",
    "- [Introduction](#intro)\n",
    "- [Building a web scraper](#building-scraper)\n",
    "- [Retrieving data from the HTML page](#retrieving-data)\n",
    "    - [Retrieving the restaurant names](#retrieving-names)\n",
    "    - [Challenge: Retrieving the restaurant locations](#retrieving-locations)\n",
    "    - [Retrieving the restaurant prices](#retrieving-prices)\n",
    "    - [Retrieving the restaurant number of bookings](#retrieving-bookings)\n",
    "\n",
    "\n",
    "- [Introducting Selenium](#selenium)\n",
    "    - [Running JavaScript before scraping](#selenium-js)\n",
    "    - [Using regex to only get digits](#selenium-regex)\n",
    "    - [Challenge: Use Pandas to create a DataFrame of bookings](#challenge-pandas)\n",
    "    - [Auto-typing using Selenium](#selenium-typing)\n",
    "\n",
    "\n",
    "- [Summary](#summary)"
   ]
  },
  {
   "cell_type": "markdown",
   "metadata": {},
   "source": [
    "<a id=\"intro\"></a>\n",
    "## Introduction\n",
    "\n",
    "In this codealong lesson, we'll build a web scraper using requests and BeautifulSoup. We will also explore how to use a headless browser called Selenium.\n",
    "\n",
    "We'll begin by scraping OpenTable's DC listings. We're interested in knowing the restaurant's **name, location, price, and how many people booked it today.**\n",
    "\n",
    "OpenTable provides all of this information on this given page: http://www.opentable.com/washington-dc-restaurant-listings\n",
    "\n",
    "Let's inspect the elements of this page to assure we can find each of the bits of information in which we're interested.\n",
    "\n",
    "---"
   ]
  },
  {
   "cell_type": "markdown",
   "metadata": {},
   "source": [
    "<a id=\"building-scraper\"></a>\n",
    "## Building a web scraper\n",
    "\n",
    "Now, let's build a web scraper for OpenTable using urllib and Beautiful Soup:"
   ]
  },
  {
   "cell_type": "code",
   "execution_count": 1,
   "metadata": {
    "scrolled": false
   },
   "outputs": [],
   "source": [
    "# import our necessary first packages\n",
    "from bs4 import BeautifulSoup\n",
    "import requests"
   ]
  },
  {
   "cell_type": "code",
   "execution_count": 2,
   "metadata": {},
   "outputs": [],
   "source": [
    "# set the url we want to visit\n",
    "url = \"http://www.opentable.com/washington-dc-restaurant-listings\"\n",
    "\n",
    "# visit that url, and grab the html of said page\n",
    "html = requests.get(url)"
   ]
  },
  {
   "cell_type": "markdown",
   "metadata": {},
   "source": [
    "At this point, what is in html?"
   ]
  },
  {
   "cell_type": "code",
   "execution_count": 3,
   "metadata": {},
   "outputs": [
    {
     "data": {
      "text/plain": [
       "'           <!DOCTYPE html><html lang=\"en\"><head><meta charset=\"utf-8\"/><meta http-equiv=\"X-UA-Compatible\" content=\"IE=9; IE=8; IE=7; IE=EDGE\"/> <title>Restaurant Reservation Availability</title>    <meta  name=\"robots\" content=\"noindex\" > </meta><link  rel=\"canonical\" href=\"https://www.opentable.com/washington-dc-restaurant-listings\" > </link>      <link rel=\"shortcut icon\" href=\"//components.otstatic.com/components/favicon/1.0.5/favicon/favicon.ico\" type=\"image/x-icon\"/><link rel=\"icon\" href=\"/'"
      ]
     },
     "execution_count": 3,
     "metadata": {},
     "output_type": "execute_result"
    }
   ],
   "source": [
    "# .text returns the request content in Unicode\n",
    "html.text[:500]"
   ]
  },
  {
   "cell_type": "markdown",
   "metadata": {},
   "source": [
    "We will need to convert this html objct into a soup object so we can parse it using python and BS4"
   ]
  },
  {
   "cell_type": "code",
   "execution_count": 4,
   "metadata": {},
   "outputs": [],
   "source": [
    "# convert this into a soup object\n",
    "soup = BeautifulSoup(html.text, 'html.parser')"
   ]
  },
  {
   "cell_type": "markdown",
   "metadata": {},
   "source": [
    "<a id=\"retrieving-data\"></a>\n",
    "### Retrieving data from the HTML page"
   ]
  },
  {
   "cell_type": "markdown",
   "metadata": {},
   "source": [
    "Let's first find each restaurant name listed on the page we've loaded. How do we find the page location of the restaurant? (Hint: We need to know where in the **HTML** the restaurant element is housed.) In order to find the HTML that renders the restaurant location, we can use Google Chrome's Inspect tool:\n",
    "\n",
    "> http://www.opentable.com/washington-dc-restaurant-listings\n",
    "\n",
    "> 1. Visit the URL above. \n",
    "\n",
    "> 2. Right-click on an element you are interested in, then choose Inspect (in Chrome). \n",
    "\n",
    "> 3. This will open the Developer Tools and show the HTML used to render the selected page element. \n",
    "\n",
    "> Throughout this lesson, we will use this method to find tags associated with elements of the page we want to scrape.\n",
    "\n",
    "See if you can find the restaurant name on the page. Keep in mind there are many restaurants loaded on the page."
   ]
  },
  {
   "cell_type": "code",
   "execution_count": 5,
   "metadata": {
    "scrolled": true
   },
   "outputs": [
    {
     "data": {
      "text/plain": [
       "[<span class=\"rest-row-name-text\">Katelyns</span>,\n",
       " <span class=\"rest-row-name-text\">850 Bartell</span>,\n",
       " <span class=\"rest-row-name-text\">Funk Curve</span>,\n",
       " <span class=\"rest-row-name-text\">Union</span>,\n",
       " <span class=\"rest-row-name-text\">Sit Junction</span>,\n",
       " <span class=\"rest-row-name-text\">916 Labadie</span>,\n",
       " <span class=\"rest-row-name-text\">Sunt</span>,\n",
       " <span class=\"rest-row-name-text\">1191 Reinger</span>,\n",
       " <span class=\"rest-row-name-text\">Corners</span>,\n",
       " <span class=\"rest-row-name-text\">Jeremies</span>,\n",
       " <span class=\"rest-row-name-text\">Reprehenderit</span>,\n",
       " <span class=\"rest-row-name-text\">Hilpert</span>,\n",
       " <span class=\"rest-row-name-text\">Alainas</span>,\n",
       " <span class=\"rest-row-name-text\">Cummerata</span>,\n",
       " <span class=\"rest-row-name-text\">Heaney Valleys</span>,\n",
       " <span class=\"rest-row-name-text\">Burg</span>,\n",
       " <span class=\"rest-row-name-text\">Ut</span>,\n",
       " <span class=\"rest-row-name-text\">Joelles</span>,\n",
       " <span class=\"rest-row-name-text\">Sipes</span>,\n",
       " <span class=\"rest-row-name-text\">Sequi Harbors</span>,\n",
       " <span class=\"rest-row-name-text\">Sit Crossroad</span>,\n",
       " <span class=\"rest-row-name-text\">Non</span>,\n",
       " <span class=\"rest-row-name-text\">1478 Terry</span>,\n",
       " <span class=\"rest-row-name-text\">Consequatur Beahan</span>,\n",
       " <span class=\"rest-row-name-text\">Et Bruen</span>,\n",
       " <span class=\"rest-row-name-text\">Est</span>,\n",
       " <span class=\"rest-row-name-text\">Dameons</span>,\n",
       " <span class=\"rest-row-name-text\">Crossing</span>,\n",
       " <span class=\"rest-row-name-text\">Corporis</span>,\n",
       " <span class=\"rest-row-name-text\">Walsh</span>,\n",
       " <span class=\"rest-row-name-text\">Voluptatem</span>,\n",
       " <span class=\"rest-row-name-text\">Placeat Hills</span>,\n",
       " <span class=\"rest-row-name-text\">Dandre Harber</span>,\n",
       " <span class=\"rest-row-name-text\">Kovacek</span>,\n",
       " <span class=\"rest-row-name-text\">Little</span>,\n",
       " <span class=\"rest-row-name-text\">Nader</span>,\n",
       " <span class=\"rest-row-name-text\">422 Howell</span>,\n",
       " <span class=\"rest-row-name-text\">Modi Vista</span>,\n",
       " <span class=\"rest-row-name-text\">1100 Maggio</span>,\n",
       " <span class=\"rest-row-name-text\">Pike</span>,\n",
       " <span class=\"rest-row-name-text\">Aut</span>,\n",
       " <span class=\"rest-row-name-text\">Natus Jenkins</span>,\n",
       " <span class=\"rest-row-name-text\">Vista</span>,\n",
       " <span class=\"rest-row-name-text\">Hackett Ramp</span>,\n",
       " <span class=\"rest-row-name-text\">Johnathan Christiansen</span>,\n",
       " <span class=\"rest-row-name-text\">788 O'Hara</span>,\n",
       " <span class=\"rest-row-name-text\">Garden</span>,\n",
       " <span class=\"rest-row-name-text\">Tempore</span>,\n",
       " <span class=\"rest-row-name-text\">Fisher</span>,\n",
       " <span class=\"rest-row-name-text\">Quisquam Summit</span>,\n",
       " <span class=\"rest-row-name-text\">1021 Murray</span>,\n",
       " <span class=\"rest-row-name-text\">Incidunt Wehner</span>,\n",
       " <span class=\"rest-row-name-text\">Ports</span>,\n",
       " <span class=\"rest-row-name-text\">813 Boyle</span>,\n",
       " <span class=\"rest-row-name-text\">Et</span>,\n",
       " <span class=\"rest-row-name-text\">Smitham Shoal</span>,\n",
       " <span class=\"rest-row-name-text\">Erdman</span>,\n",
       " <span class=\"rest-row-name-text\">Schmidt Lake</span>,\n",
       " <span class=\"rest-row-name-text\">Hic</span>,\n",
       " <span class=\"rest-row-name-text\">River</span>,\n",
       " <span class=\"rest-row-name-text\">Consequatur Fields</span>,\n",
       " <span class=\"rest-row-name-text\">Agloe Bar &amp; Grill</span>,\n",
       " <span class=\"rest-row-name-text\">Cassies</span>,\n",
       " <span class=\"rest-row-name-text\">Gaylord Cummerata</span>,\n",
       " <span class=\"rest-row-name-text\">Placeat Terry</span>,\n",
       " <span class=\"rest-row-name-text\">Flatley</span>,\n",
       " <span class=\"rest-row-name-text\">Towne</span>,\n",
       " <span class=\"rest-row-name-text\">Motorway</span>,\n",
       " <span class=\"rest-row-name-text\">Anderson</span>,\n",
       " <span class=\"rest-row-name-text\">Suscipit Schimmel</span>,\n",
       " <span class=\"rest-row-name-text\">552 McClure</span>,\n",
       " <span class=\"rest-row-name-text\">Quos</span>,\n",
       " <span class=\"rest-row-name-text\">Saepe Donnelly</span>,\n",
       " <span class=\"rest-row-name-text\">Road</span>,\n",
       " <span class=\"rest-row-name-text\">252 Beahan</span>,\n",
       " <span class=\"rest-row-name-text\">Fall</span>,\n",
       " <span class=\"rest-row-name-text\">Vel Neck</span>,\n",
       " <span class=\"rest-row-name-text\">Lenores</span>,\n",
       " <span class=\"rest-row-name-text\">Mills</span>,\n",
       " <span class=\"rest-row-name-text\">Kassandras</span>,\n",
       " <span class=\"rest-row-name-text\">Cheyennes</span>,\n",
       " <span class=\"rest-row-name-text\">Allie Schowalter</span>,\n",
       " <span class=\"rest-row-name-text\">Keith Mills</span>,\n",
       " <span class=\"rest-row-name-text\">204 Turner</span>,\n",
       " <span class=\"rest-row-name-text\">Kris</span>,\n",
       " <span class=\"rest-row-name-text\">43 Strosin</span>,\n",
       " <span class=\"rest-row-name-text\">Molestiae Manors</span>,\n",
       " <span class=\"rest-row-name-text\">Beatae</span>,\n",
       " <span class=\"rest-row-name-text\">Aut</span>,\n",
       " <span class=\"rest-row-name-text\">Allan Knolls</span>,\n",
       " <span class=\"rest-row-name-text\">Gerhold</span>,\n",
       " <span class=\"rest-row-name-text\">802 Glover</span>,\n",
       " <span class=\"rest-row-name-text\">Laurianes</span>,\n",
       " <span class=\"rest-row-name-text\">621 Mills</span>,\n",
       " <span class=\"rest-row-name-text\">286 Conn</span>,\n",
       " <span class=\"rest-row-name-text\">Qui Kutch</span>,\n",
       " <span class=\"rest-row-name-text\">1080 Glover</span>,\n",
       " <span class=\"rest-row-name-text\">631 Schamberger</span>,\n",
       " <span class=\"rest-row-name-text\">Ut Extensions</span>,\n",
       " <span class=\"rest-row-name-text\">Humberto Waters</span>]"
      ]
     },
     "execution_count": 5,
     "metadata": {},
     "output_type": "execute_result"
    }
   ],
   "source": [
    "# print the restaurant names\n",
    "soup.find_all(name='span', attrs={'class':'rest-row-name-text'})"
   ]
  },
  {
   "cell_type": "markdown",
   "metadata": {},
   "source": [
    "It is important to always keep in mind the data types that were returned. Note this is a `list`, and we know that immediately by observing the outer square brackets and commas separating each tag.\n",
    "\n",
    "Next, note the elements of the list are `Tag` objects, not strings. (If they were strings, they would be surrounded by quotes.) The Beautiful Soup authors chose to display a `Tag` object visually as a text representation of the tag and its contents. However, being an object, it has many methods that we can call on it. For example, next we will use the `encode_contents()` method to return the tag's contents encoded as a Python string.\n",
    "\n",
    "<a id=\"retrieving-names\"></a>\n",
    "#### Retrieving the restaurant names\n",
    "\n",
    "Now that we found a list of tags containing the restaurant names, let's think how we can loop through them all one-by-one. In the following cell, we'll print out the name (and **only** the clean name, not the rest of the html) of each restaurant."
   ]
  },
  {
   "cell_type": "code",
   "execution_count": 6,
   "metadata": {
    "scrolled": true
   },
   "outputs": [
    {
     "name": "stdout",
     "output_type": "stream",
     "text": [
      "Katelyns\n",
      "850 Bartell\n",
      "Funk Curve\n",
      "Union\n",
      "Sit Junction\n",
      "916 Labadie\n",
      "Sunt\n",
      "1191 Reinger\n",
      "Corners\n",
      "Jeremies\n",
      "Reprehenderit\n",
      "Hilpert\n",
      "Alainas\n",
      "Cummerata\n",
      "Heaney Valleys\n",
      "Burg\n",
      "Ut\n",
      "Joelles\n",
      "Sipes\n",
      "Sequi Harbors\n",
      "Sit Crossroad\n",
      "Non\n",
      "1478 Terry\n",
      "Consequatur Beahan\n",
      "Et Bruen\n",
      "Est\n",
      "Dameons\n",
      "Crossing\n",
      "Corporis\n",
      "Walsh\n",
      "Voluptatem\n",
      "Placeat Hills\n",
      "Dandre Harber\n",
      "Kovacek\n",
      "Little\n",
      "Nader\n",
      "422 Howell\n",
      "Modi Vista\n",
      "1100 Maggio\n",
      "Pike\n",
      "Aut\n",
      "Natus Jenkins\n",
      "Vista\n",
      "Hackett Ramp\n",
      "Johnathan Christiansen\n",
      "788 O'Hara\n",
      "Garden\n",
      "Tempore\n",
      "Fisher\n",
      "Quisquam Summit\n",
      "1021 Murray\n",
      "Incidunt Wehner\n",
      "Ports\n",
      "813 Boyle\n",
      "Et\n",
      "Smitham Shoal\n",
      "Erdman\n",
      "Schmidt Lake\n",
      "Hic\n",
      "River\n",
      "Consequatur Fields\n",
      "Agloe Bar & Grill\n",
      "Cassies\n",
      "Gaylord Cummerata\n",
      "Placeat Terry\n",
      "Flatley\n",
      "Towne\n",
      "Motorway\n",
      "Anderson\n",
      "Suscipit Schimmel\n",
      "552 McClure\n",
      "Quos\n",
      "Saepe Donnelly\n",
      "Road\n",
      "252 Beahan\n",
      "Fall\n",
      "Vel Neck\n",
      "Lenores\n",
      "Mills\n",
      "Kassandras\n",
      "Cheyennes\n",
      "Allie Schowalter\n",
      "Keith Mills\n",
      "204 Turner\n",
      "Kris\n",
      "43 Strosin\n",
      "Molestiae Manors\n",
      "Beatae\n",
      "Aut\n",
      "Allan Knolls\n",
      "Gerhold\n",
      "802 Glover\n",
      "Laurianes\n",
      "621 Mills\n",
      "286 Conn\n",
      "Qui Kutch\n",
      "1080 Glover\n",
      "631 Schamberger\n",
      "Ut Extensions\n",
      "Humberto Waters\n"
     ]
    }
   ],
   "source": [
    "# for each element you find, print out the restaurant name\n",
    "for entry in soup.find_all(name='span', attrs={'class':'rest-row-name-text'}):\n",
    "    print(entry.text)"
   ]
  },
  {
   "cell_type": "markdown",
   "metadata": {},
   "source": [
    "Great!\n",
    "\n",
    "<a id=\"retrieving-locations\"></a>\n",
    "#### Challenge: Retrieving the restaurant locations\n",
    "\n",
    "Can you repeat that process for finding the location? For example, barmini by Jose Andres is in the location listed as \"Penn Quarter\" in our search results."
   ]
  },
  {
   "cell_type": "code",
   "execution_count": 7,
   "metadata": {},
   "outputs": [
    {
     "data": {
      "text/plain": [
       "[<span class=\"rest-row-meta--location rest-row-meta-text\">East Earnestine</span>,\n",
       " <span class=\"rest-row-meta--location rest-row-meta-text\">New Augustus</span>,\n",
       " <span class=\"rest-row-meta--location rest-row-meta-text\">Lake Boville</span>,\n",
       " <span class=\"rest-row-meta--location rest-row-meta-text\">North Frederic</span>,\n",
       " <span class=\"rest-row-meta--location rest-row-meta-text\">East Lenoramouth</span>,\n",
       " <span class=\"rest-row-meta--location rest-row-meta-text\">Josephinemouth</span>,\n",
       " <span class=\"rest-row-meta--location rest-row-meta-text\">Port Brycen</span>,\n",
       " <span class=\"rest-row-meta--location rest-row-meta-text\">West Rosella</span>,\n",
       " <span class=\"rest-row-meta--location rest-row-meta-text\">New Minervaside</span>,\n",
       " <span class=\"rest-row-meta--location rest-row-meta-text\">North Vincestad</span>,\n",
       " <span class=\"rest-row-meta--location rest-row-meta-text\">East Alycialand</span>,\n",
       " <span class=\"rest-row-meta--location rest-row-meta-text\">Brennonport</span>,\n",
       " <span class=\"rest-row-meta--location rest-row-meta-text\">Bertatown</span>,\n",
       " <span class=\"rest-row-meta--location rest-row-meta-text\">Vanshire</span>,\n",
       " <span class=\"rest-row-meta--location rest-row-meta-text\">Port Janetberg</span>,\n",
       " <span class=\"rest-row-meta--location rest-row-meta-text\">South Deondrehaven</span>,\n",
       " <span class=\"rest-row-meta--location rest-row-meta-text\">North Dudleyville</span>,\n",
       " <span class=\"rest-row-meta--location rest-row-meta-text\">Magaliside</span>,\n",
       " <span class=\"rest-row-meta--location rest-row-meta-text\">North Caliport</span>,\n",
       " <span class=\"rest-row-meta--location rest-row-meta-text\">Donnellland</span>,\n",
       " <span class=\"rest-row-meta--location rest-row-meta-text\">South Demarcus</span>,\n",
       " <span class=\"rest-row-meta--location rest-row-meta-text\">Romagueraburgh</span>,\n",
       " <span class=\"rest-row-meta--location rest-row-meta-text\">New Kristian</span>,\n",
       " <span class=\"rest-row-meta--location rest-row-meta-text\">Olenfurt</span>,\n",
       " <span class=\"rest-row-meta--location rest-row-meta-text\">New Keith</span>,\n",
       " <span class=\"rest-row-meta--location rest-row-meta-text\">North Liana</span>,\n",
       " <span class=\"rest-row-meta--location rest-row-meta-text\">Port Sonyafort</span>,\n",
       " <span class=\"rest-row-meta--location rest-row-meta-text\">Lake Emmieview</span>,\n",
       " <span class=\"rest-row-meta--location rest-row-meta-text\">South Laylaborough</span>,\n",
       " <span class=\"rest-row-meta--location rest-row-meta-text\">Hillsberg</span>,\n",
       " <span class=\"rest-row-meta--location rest-row-meta-text\">Lake Wendellville</span>,\n",
       " <span class=\"rest-row-meta--location rest-row-meta-text\">Obieton</span>,\n",
       " <span class=\"rest-row-meta--location rest-row-meta-text\">Reidfurt</span>,\n",
       " <span class=\"rest-row-meta--location rest-row-meta-text\">New Mosheberg</span>,\n",
       " <span class=\"rest-row-meta--location rest-row-meta-text\">New Lenny</span>,\n",
       " <span class=\"rest-row-meta--location rest-row-meta-text\">New Manley</span>,\n",
       " <span class=\"rest-row-meta--location rest-row-meta-text\">North Vallieview</span>,\n",
       " <span class=\"rest-row-meta--location rest-row-meta-text\">Port Greenstad</span>,\n",
       " <span class=\"rest-row-meta--location rest-row-meta-text\">Carolynetown</span>,\n",
       " <span class=\"rest-row-meta--location rest-row-meta-text\">Rhettmouth</span>,\n",
       " <span class=\"rest-row-meta--location rest-row-meta-text\">North Delfina</span>,\n",
       " <span class=\"rest-row-meta--location rest-row-meta-text\">Alexannemouth</span>,\n",
       " <span class=\"rest-row-meta--location rest-row-meta-text\">Lake Alvischester</span>,\n",
       " <span class=\"rest-row-meta--location rest-row-meta-text\">Aprilville</span>,\n",
       " <span class=\"rest-row-meta--location rest-row-meta-text\">Shaunport</span>,\n",
       " <span class=\"rest-row-meta--location rest-row-meta-text\">Port Esteban</span>,\n",
       " <span class=\"rest-row-meta--location rest-row-meta-text\">West Keiraland</span>,\n",
       " <span class=\"rest-row-meta--location rest-row-meta-text\">Port Alicia</span>,\n",
       " <span class=\"rest-row-meta--location rest-row-meta-text\">North Orie</span>,\n",
       " <span class=\"rest-row-meta--location rest-row-meta-text\">New Reagan</span>,\n",
       " <span class=\"rest-row-meta--location rest-row-meta-text\">Hudsonport</span>,\n",
       " <span class=\"rest-row-meta--location rest-row-meta-text\">Lake Fidel</span>,\n",
       " <span class=\"rest-row-meta--location rest-row-meta-text\">Lake Olafborough</span>,\n",
       " <span class=\"rest-row-meta--location rest-row-meta-text\">Wittingburgh</span>,\n",
       " <span class=\"rest-row-meta--location rest-row-meta-text\">Funkburgh</span>,\n",
       " <span class=\"rest-row-meta--location rest-row-meta-text\">Rebekahmouth</span>,\n",
       " <span class=\"rest-row-meta--location rest-row-meta-text\">Idellaberg</span>,\n",
       " <span class=\"rest-row-meta--location rest-row-meta-text\">Wisozkshire</span>,\n",
       " <span class=\"rest-row-meta--location rest-row-meta-text\">Lake Ruby</span>,\n",
       " <span class=\"rest-row-meta--location rest-row-meta-text\">West Bettechester</span>,\n",
       " <span class=\"rest-row-meta--location rest-row-meta-text\">North Addison</span>,\n",
       " <span class=\"rest-row-meta--location rest-row-meta-text\">Elwinmouth</span>,\n",
       " <span class=\"rest-row-meta--location rest-row-meta-text\">North Mellie</span>,\n",
       " <span class=\"rest-row-meta--location rest-row-meta-text\">North Arnaldoshire</span>,\n",
       " <span class=\"rest-row-meta--location rest-row-meta-text\">Rolfsonside</span>,\n",
       " <span class=\"rest-row-meta--location rest-row-meta-text\">Port Markton</span>,\n",
       " <span class=\"rest-row-meta--location rest-row-meta-text\">East Mustafa</span>,\n",
       " <span class=\"rest-row-meta--location rest-row-meta-text\">South Russ</span>,\n",
       " <span class=\"rest-row-meta--location rest-row-meta-text\">Jacobsonchester</span>,\n",
       " <span class=\"rest-row-meta--location rest-row-meta-text\">Jaimeborough</span>,\n",
       " <span class=\"rest-row-meta--location rest-row-meta-text\">New Grahamhaven</span>,\n",
       " <span class=\"rest-row-meta--location rest-row-meta-text\">Rosenbaumberg</span>,\n",
       " <span class=\"rest-row-meta--location rest-row-meta-text\">Buddyburgh</span>,\n",
       " <span class=\"rest-row-meta--location rest-row-meta-text\">Port Audie</span>,\n",
       " <span class=\"rest-row-meta--location rest-row-meta-text\">Klockoborough</span>,\n",
       " <span class=\"rest-row-meta--location rest-row-meta-text\">Imogenebury</span>,\n",
       " <span class=\"rest-row-meta--location rest-row-meta-text\">Coramouth</span>,\n",
       " <span class=\"rest-row-meta--location rest-row-meta-text\">North Elton</span>,\n",
       " <span class=\"rest-row-meta--location rest-row-meta-text\">West Carmellaborough</span>,\n",
       " <span class=\"rest-row-meta--location rest-row-meta-text\">North Danial</span>,\n",
       " <span class=\"rest-row-meta--location rest-row-meta-text\">Jermainmouth</span>,\n",
       " <span class=\"rest-row-meta--location rest-row-meta-text\">Lake Estherstad</span>,\n",
       " <span class=\"rest-row-meta--location rest-row-meta-text\">Bartellshire</span>,\n",
       " <span class=\"rest-row-meta--location rest-row-meta-text\">Genehaven</span>,\n",
       " <span class=\"rest-row-meta--location rest-row-meta-text\">Beryltown</span>,\n",
       " <span class=\"rest-row-meta--location rest-row-meta-text\">West Kielfurt</span>,\n",
       " <span class=\"rest-row-meta--location rest-row-meta-text\">Generalburgh</span>,\n",
       " <span class=\"rest-row-meta--location rest-row-meta-text\">Port Tess</span>,\n",
       " <span class=\"rest-row-meta--location rest-row-meta-text\">Schinnerhaven</span>,\n",
       " <span class=\"rest-row-meta--location rest-row-meta-text\">Hermistonfurt</span>,\n",
       " <span class=\"rest-row-meta--location rest-row-meta-text\">Chandlerport</span>,\n",
       " <span class=\"rest-row-meta--location rest-row-meta-text\">East Cleochester</span>,\n",
       " <span class=\"rest-row-meta--location rest-row-meta-text\">Lillaburgh</span>,\n",
       " <span class=\"rest-row-meta--location rest-row-meta-text\">O'Keefefort</span>,\n",
       " <span class=\"rest-row-meta--location rest-row-meta-text\">McLaughlinton</span>,\n",
       " <span class=\"rest-row-meta--location rest-row-meta-text\">Lake Dale</span>,\n",
       " <span class=\"rest-row-meta--location rest-row-meta-text\">Montyberg</span>,\n",
       " <span class=\"rest-row-meta--location rest-row-meta-text\">Okeyfurt</span>,\n",
       " <span class=\"rest-row-meta--location rest-row-meta-text\">Schultzside</span>,\n",
       " <span class=\"rest-row-meta--location rest-row-meta-text\">Cristianview</span>]"
      ]
     },
     "execution_count": 7,
     "metadata": {},
     "output_type": "execute_result"
    }
   ],
   "source": [
    "# first, see if you can identify the location for all elements -- print it out\n",
    "soup.find_all('span', {'class':'rest-row-meta--location rest-row-meta-text'})"
   ]
  },
  {
   "cell_type": "code",
   "execution_count": 8,
   "metadata": {},
   "outputs": [
    {
     "name": "stdout",
     "output_type": "stream",
     "text": [
      "East Earnestine\n",
      "New Augustus\n",
      "Lake Boville\n",
      "North Frederic\n",
      "East Lenoramouth\n",
      "Josephinemouth\n",
      "Port Brycen\n",
      "West Rosella\n",
      "New Minervaside\n",
      "North Vincestad\n",
      "East Alycialand\n",
      "Brennonport\n",
      "Bertatown\n",
      "Vanshire\n",
      "Port Janetberg\n",
      "South Deondrehaven\n",
      "North Dudleyville\n",
      "Magaliside\n",
      "North Caliport\n",
      "Donnellland\n",
      "South Demarcus\n",
      "Romagueraburgh\n",
      "New Kristian\n",
      "Olenfurt\n",
      "New Keith\n",
      "North Liana\n",
      "Port Sonyafort\n",
      "Lake Emmieview\n",
      "South Laylaborough\n",
      "Hillsberg\n",
      "Lake Wendellville\n",
      "Obieton\n",
      "Reidfurt\n",
      "New Mosheberg\n",
      "New Lenny\n",
      "New Manley\n",
      "North Vallieview\n",
      "Port Greenstad\n",
      "Carolynetown\n",
      "Rhettmouth\n",
      "North Delfina\n",
      "Alexannemouth\n",
      "Lake Alvischester\n",
      "Aprilville\n",
      "Shaunport\n",
      "Port Esteban\n",
      "West Keiraland\n",
      "Port Alicia\n",
      "North Orie\n",
      "New Reagan\n",
      "Hudsonport\n",
      "Lake Fidel\n",
      "Lake Olafborough\n",
      "Wittingburgh\n",
      "Funkburgh\n",
      "Rebekahmouth\n",
      "Idellaberg\n",
      "Wisozkshire\n",
      "Lake Ruby\n",
      "West Bettechester\n",
      "North Addison\n",
      "Elwinmouth\n",
      "North Mellie\n",
      "North Arnaldoshire\n",
      "Rolfsonside\n",
      "Port Markton\n",
      "East Mustafa\n",
      "South Russ\n",
      "Jacobsonchester\n",
      "Jaimeborough\n",
      "New Grahamhaven\n",
      "Rosenbaumberg\n",
      "Buddyburgh\n",
      "Port Audie\n",
      "Klockoborough\n",
      "Imogenebury\n",
      "Coramouth\n",
      "North Elton\n",
      "West Carmellaborough\n",
      "North Danial\n",
      "Jermainmouth\n",
      "Lake Estherstad\n",
      "Bartellshire\n",
      "Genehaven\n",
      "Beryltown\n",
      "West Kielfurt\n",
      "Generalburgh\n",
      "Port Tess\n",
      "Schinnerhaven\n",
      "Hermistonfurt\n",
      "Chandlerport\n",
      "East Cleochester\n",
      "Lillaburgh\n",
      "O'Keefefort\n",
      "McLaughlinton\n",
      "Lake Dale\n",
      "Montyberg\n",
      "Okeyfurt\n",
      "Schultzside\n",
      "Cristianview\n"
     ]
    }
   ],
   "source": [
    "# now print out EACH location for the restaurants\n",
    "for entry in soup.find_all('span', {'class':'rest-row-meta--location rest-row-meta-text'}):\n",
    "    print(entry.text)"
   ]
  },
  {
   "cell_type": "markdown",
   "metadata": {},
   "source": [
    "<a id=\"retrieving-prices\"></a>\n",
    "#### Retrieving the restaurant prices"
   ]
  },
  {
   "cell_type": "markdown",
   "metadata": {},
   "source": [
    "Ok, we've figured out the restaurant name and location. Now we need to grab the price (number of dollar signs on a scale of one to four) for each restaurant. We'll follow the same process."
   ]
  },
  {
   "cell_type": "code",
   "execution_count": 9,
   "metadata": {
    "scrolled": true
   },
   "outputs": [
    {
     "data": {
      "text/plain": [
       "[<div class=\"rest-row-pricing\"> <i class=\"pricing--the-price\">  $    $    $    </i> <span class=\"pricing--not-the-price\">  $        </span></div>,\n",
       " <div class=\"rest-row-pricing\"> <i class=\"pricing--the-price\">  $    $      </i> <span class=\"pricing--not-the-price\">  $    $      </span></div>,\n",
       " <div class=\"rest-row-pricing\"> <i class=\"pricing--the-price\">  $    $      </i> <span class=\"pricing--not-the-price\">  $    $      </span></div>,\n",
       " <div class=\"rest-row-pricing\"> <i class=\"pricing--the-price\">  $    $    $    $  </i> <span class=\"pricing--not-the-price\"> </span></div>,\n",
       " <div class=\"rest-row-pricing\"> <i class=\"pricing--the-price\">  $    $      </i> <span class=\"pricing--not-the-price\">  $    $      </span></div>,\n",
       " <div class=\"rest-row-pricing\"> <i class=\"pricing--the-price\">  $    $    $    </i> <span class=\"pricing--not-the-price\">  $        </span></div>,\n",
       " <div class=\"rest-row-pricing\"> <i class=\"pricing--the-price\">  $    $      </i> <span class=\"pricing--not-the-price\">  $    $      </span></div>,\n",
       " <div class=\"rest-row-pricing\"> <i class=\"pricing--the-price\">  $    $      </i> <span class=\"pricing--not-the-price\">  $    $      </span></div>,\n",
       " <div class=\"rest-row-pricing\"> <i class=\"pricing--the-price\">  $    $    $    $  </i> <span class=\"pricing--not-the-price\"> </span></div>,\n",
       " <div class=\"rest-row-pricing\"> <i class=\"pricing--the-price\">  $    $      </i> <span class=\"pricing--not-the-price\">  $    $      </span></div>,\n",
       " <div class=\"rest-row-pricing\"> <i class=\"pricing--the-price\">  $    $      </i> <span class=\"pricing--not-the-price\">  $    $      </span></div>,\n",
       " <div class=\"rest-row-pricing\"> <i class=\"pricing--the-price\">  $    $    $    $  </i> <span class=\"pricing--not-the-price\"> </span></div>,\n",
       " <div class=\"rest-row-pricing\"> <i class=\"pricing--the-price\">  $    $    $    </i> <span class=\"pricing--not-the-price\">  $        </span></div>,\n",
       " <div class=\"rest-row-pricing\"> <i class=\"pricing--the-price\">  $    $    $    </i> <span class=\"pricing--not-the-price\">  $        </span></div>,\n",
       " <div class=\"rest-row-pricing\"> <i class=\"pricing--the-price\">  $    $      </i> <span class=\"pricing--not-the-price\">  $    $      </span></div>,\n",
       " <div class=\"rest-row-pricing\"> <i class=\"pricing--the-price\">  $    $    $    $  </i> <span class=\"pricing--not-the-price\"> </span></div>,\n",
       " <div class=\"rest-row-pricing\"> <i class=\"pricing--the-price\">  $    $      </i> <span class=\"pricing--not-the-price\">  $    $      </span></div>,\n",
       " <div class=\"rest-row-pricing\"> <i class=\"pricing--the-price\">  $    $    $    </i> <span class=\"pricing--not-the-price\">  $        </span></div>,\n",
       " <div class=\"rest-row-pricing\"> <i class=\"pricing--the-price\">  $    $    $    $  </i> <span class=\"pricing--not-the-price\"> </span></div>,\n",
       " <div class=\"rest-row-pricing\"> <i class=\"pricing--the-price\">  $    $    $    </i> <span class=\"pricing--not-the-price\">  $        </span></div>,\n",
       " <div class=\"rest-row-pricing\"> <i class=\"pricing--the-price\">  $    $      </i> <span class=\"pricing--not-the-price\">  $    $      </span></div>,\n",
       " <div class=\"rest-row-pricing\"> <i class=\"pricing--the-price\">  $    $    $    $  </i> <span class=\"pricing--not-the-price\"> </span></div>,\n",
       " <div class=\"rest-row-pricing\"> <i class=\"pricing--the-price\">  $    $    $    $  </i> <span class=\"pricing--not-the-price\"> </span></div>,\n",
       " <div class=\"rest-row-pricing\"> <i class=\"pricing--the-price\">  $    $      </i> <span class=\"pricing--not-the-price\">  $    $      </span></div>,\n",
       " <div class=\"rest-row-pricing\"> <i class=\"pricing--the-price\">  $    $    $    </i> <span class=\"pricing--not-the-price\">  $        </span></div>,\n",
       " <div class=\"rest-row-pricing\"> <i class=\"pricing--the-price\">  $    $    $    $  </i> <span class=\"pricing--not-the-price\"> </span></div>,\n",
       " <div class=\"rest-row-pricing\"> <i class=\"pricing--the-price\">  $    $    $    $  </i> <span class=\"pricing--not-the-price\"> </span></div>,\n",
       " <div class=\"rest-row-pricing\"> <i class=\"pricing--the-price\">  $    $    $    </i> <span class=\"pricing--not-the-price\">  $        </span></div>,\n",
       " <div class=\"rest-row-pricing\"> <i class=\"pricing--the-price\">  $    $    $    </i> <span class=\"pricing--not-the-price\">  $        </span></div>,\n",
       " <div class=\"rest-row-pricing\"> <i class=\"pricing--the-price\">  $    $    $    </i> <span class=\"pricing--not-the-price\">  $        </span></div>,\n",
       " <div class=\"rest-row-pricing\"> <i class=\"pricing--the-price\">  $    $      </i> <span class=\"pricing--not-the-price\">  $    $      </span></div>,\n",
       " <div class=\"rest-row-pricing\"> <i class=\"pricing--the-price\">  $    $    $    </i> <span class=\"pricing--not-the-price\">  $        </span></div>,\n",
       " <div class=\"rest-row-pricing\"> <i class=\"pricing--the-price\">  $    $    $    </i> <span class=\"pricing--not-the-price\">  $        </span></div>,\n",
       " <div class=\"rest-row-pricing\"> <i class=\"pricing--the-price\">  $    $      </i> <span class=\"pricing--not-the-price\">  $    $      </span></div>,\n",
       " <div class=\"rest-row-pricing\"> <i class=\"pricing--the-price\">  $    $    $    </i> <span class=\"pricing--not-the-price\">  $        </span></div>,\n",
       " <div class=\"rest-row-pricing\"> <i class=\"pricing--the-price\">  $    $    $    </i> <span class=\"pricing--not-the-price\">  $        </span></div>,\n",
       " <div class=\"rest-row-pricing\"> <i class=\"pricing--the-price\">  $    $    $    $  </i> <span class=\"pricing--not-the-price\"> </span></div>,\n",
       " <div class=\"rest-row-pricing\"> <i class=\"pricing--the-price\">  $    $    $    </i> <span class=\"pricing--not-the-price\">  $        </span></div>,\n",
       " <div class=\"rest-row-pricing\"> <i class=\"pricing--the-price\">  $    $      </i> <span class=\"pricing--not-the-price\">  $    $      </span></div>,\n",
       " <div class=\"rest-row-pricing\"> <i class=\"pricing--the-price\">  $    $    $    $  </i> <span class=\"pricing--not-the-price\"> </span></div>,\n",
       " <div class=\"rest-row-pricing\"> <i class=\"pricing--the-price\">  $    $    $    </i> <span class=\"pricing--not-the-price\">  $        </span></div>,\n",
       " <div class=\"rest-row-pricing\"> <i class=\"pricing--the-price\">  $    $      </i> <span class=\"pricing--not-the-price\">  $    $      </span></div>,\n",
       " <div class=\"rest-row-pricing\"> <i class=\"pricing--the-price\">  $    $    $    $  </i> <span class=\"pricing--not-the-price\"> </span></div>,\n",
       " <div class=\"rest-row-pricing\"> <i class=\"pricing--the-price\">  $    $    $    $  </i> <span class=\"pricing--not-the-price\"> </span></div>,\n",
       " <div class=\"rest-row-pricing\"> <i class=\"pricing--the-price\">  $    $      </i> <span class=\"pricing--not-the-price\">  $    $      </span></div>,\n",
       " <div class=\"rest-row-pricing\"> <i class=\"pricing--the-price\">  $    $    $    $  </i> <span class=\"pricing--not-the-price\"> </span></div>,\n",
       " <div class=\"rest-row-pricing\"> <i class=\"pricing--the-price\">  $    $    $    $  </i> <span class=\"pricing--not-the-price\"> </span></div>,\n",
       " <div class=\"rest-row-pricing\"> <i class=\"pricing--the-price\">  $    $    $    $  </i> <span class=\"pricing--not-the-price\"> </span></div>,\n",
       " <div class=\"rest-row-pricing\"> <i class=\"pricing--the-price\">  $    $      </i> <span class=\"pricing--not-the-price\">  $    $      </span></div>,\n",
       " <div class=\"rest-row-pricing\"> <i class=\"pricing--the-price\">  $    $    $    $  </i> <span class=\"pricing--not-the-price\"> </span></div>,\n",
       " <div class=\"rest-row-pricing\"> <i class=\"pricing--the-price\">  $    $    $    $  </i> <span class=\"pricing--not-the-price\"> </span></div>,\n",
       " <div class=\"rest-row-pricing\"> <i class=\"pricing--the-price\">  $    $    $    $  </i> <span class=\"pricing--not-the-price\"> </span></div>,\n",
       " <div class=\"rest-row-pricing\"> <i class=\"pricing--the-price\">  $    $    $    $  </i> <span class=\"pricing--not-the-price\"> </span></div>,\n",
       " <div class=\"rest-row-pricing\"> <i class=\"pricing--the-price\">  $    $      </i> <span class=\"pricing--not-the-price\">  $    $      </span></div>,\n",
       " <div class=\"rest-row-pricing\"> <i class=\"pricing--the-price\">  $    $    $    $  </i> <span class=\"pricing--not-the-price\"> </span></div>,\n",
       " <div class=\"rest-row-pricing\"> <i class=\"pricing--the-price\">  $    $    $    </i> <span class=\"pricing--not-the-price\">  $        </span></div>,\n",
       " <div class=\"rest-row-pricing\"> <i class=\"pricing--the-price\">  $    $      </i> <span class=\"pricing--not-the-price\">  $    $      </span></div>,\n",
       " <div class=\"rest-row-pricing\"> <i class=\"pricing--the-price\">  $    $      </i> <span class=\"pricing--not-the-price\">  $    $      </span></div>,\n",
       " <div class=\"rest-row-pricing\"> <i class=\"pricing--the-price\">  $    $    $    $  </i> <span class=\"pricing--not-the-price\"> </span></div>,\n",
       " <div class=\"rest-row-pricing\"> <i class=\"pricing--the-price\">  $    $    $    </i> <span class=\"pricing--not-the-price\">  $        </span></div>,\n",
       " <div class=\"rest-row-pricing\"> <i class=\"pricing--the-price\">  $    $      </i> <span class=\"pricing--not-the-price\">  $    $      </span></div>,\n",
       " <div class=\"rest-row-pricing\"> <i class=\"pricing--the-price\">  $    $      </i> <span class=\"pricing--not-the-price\">  $    $      </span></div>,\n",
       " <div class=\"rest-row-pricing\"> <i class=\"pricing--the-price\">  $    $      </i> <span class=\"pricing--not-the-price\">  $    $      </span></div>,\n",
       " <div class=\"rest-row-pricing\"> <i class=\"pricing--the-price\">  $    $    $    </i> <span class=\"pricing--not-the-price\">  $        </span></div>,\n",
       " <div class=\"rest-row-pricing\"> <i class=\"pricing--the-price\">  $    $    $    $  </i> <span class=\"pricing--not-the-price\"> </span></div>,\n",
       " <div class=\"rest-row-pricing\"> <i class=\"pricing--the-price\">  $    $      </i> <span class=\"pricing--not-the-price\">  $    $      </span></div>,\n",
       " <div class=\"rest-row-pricing\"> <i class=\"pricing--the-price\">  $    $    $    $  </i> <span class=\"pricing--not-the-price\"> </span></div>,\n",
       " <div class=\"rest-row-pricing\"> <i class=\"pricing--the-price\">  $    $      </i> <span class=\"pricing--not-the-price\">  $    $      </span></div>,\n",
       " <div class=\"rest-row-pricing\"> <i class=\"pricing--the-price\">  $    $    $    </i> <span class=\"pricing--not-the-price\">  $        </span></div>,\n",
       " <div class=\"rest-row-pricing\"> <i class=\"pricing--the-price\">  $    $      </i> <span class=\"pricing--not-the-price\">  $    $      </span></div>,\n",
       " <div class=\"rest-row-pricing\"> <i class=\"pricing--the-price\">  $    $      </i> <span class=\"pricing--not-the-price\">  $    $      </span></div>,\n",
       " <div class=\"rest-row-pricing\"> <i class=\"pricing--the-price\">  $    $      </i> <span class=\"pricing--not-the-price\">  $    $      </span></div>,\n",
       " <div class=\"rest-row-pricing\"> <i class=\"pricing--the-price\">  $    $    $    </i> <span class=\"pricing--not-the-price\">  $        </span></div>,\n",
       " <div class=\"rest-row-pricing\"> <i class=\"pricing--the-price\">  $    $      </i> <span class=\"pricing--not-the-price\">  $    $      </span></div>,\n",
       " <div class=\"rest-row-pricing\"> <i class=\"pricing--the-price\">  $    $    $    </i> <span class=\"pricing--not-the-price\">  $        </span></div>,\n",
       " <div class=\"rest-row-pricing\"> <i class=\"pricing--the-price\">  $    $      </i> <span class=\"pricing--not-the-price\">  $    $      </span></div>,\n",
       " <div class=\"rest-row-pricing\"> <i class=\"pricing--the-price\">  $    $      </i> <span class=\"pricing--not-the-price\">  $    $      </span></div>,\n",
       " <div class=\"rest-row-pricing\"> <i class=\"pricing--the-price\">  $    $      </i> <span class=\"pricing--not-the-price\">  $    $      </span></div>,\n",
       " <div class=\"rest-row-pricing\"> <i class=\"pricing--the-price\">  $    $      </i> <span class=\"pricing--not-the-price\">  $    $      </span></div>,\n",
       " <div class=\"rest-row-pricing\"> <i class=\"pricing--the-price\">  $    $      </i> <span class=\"pricing--not-the-price\">  $    $      </span></div>,\n",
       " <div class=\"rest-row-pricing\"> <i class=\"pricing--the-price\">  $    $      </i> <span class=\"pricing--not-the-price\">  $    $      </span></div>,\n",
       " <div class=\"rest-row-pricing\"> <i class=\"pricing--the-price\">  $    $      </i> <span class=\"pricing--not-the-price\">  $    $      </span></div>,\n",
       " <div class=\"rest-row-pricing\"> <i class=\"pricing--the-price\">  $    $    $    </i> <span class=\"pricing--not-the-price\">  $        </span></div>,\n",
       " <div class=\"rest-row-pricing\"> <i class=\"pricing--the-price\">  $    $    $    </i> <span class=\"pricing--not-the-price\">  $        </span></div>,\n",
       " <div class=\"rest-row-pricing\"> <i class=\"pricing--the-price\">  $    $      </i> <span class=\"pricing--not-the-price\">  $    $      </span></div>,\n",
       " <div class=\"rest-row-pricing\"> <i class=\"pricing--the-price\">  $    $    $    </i> <span class=\"pricing--not-the-price\">  $        </span></div>,\n",
       " <div class=\"rest-row-pricing\"> <i class=\"pricing--the-price\">  $    $    $    </i> <span class=\"pricing--not-the-price\">  $        </span></div>,\n",
       " <div class=\"rest-row-pricing\"> <i class=\"pricing--the-price\">  $    $      </i> <span class=\"pricing--not-the-price\">  $    $      </span></div>,\n",
       " <div class=\"rest-row-pricing\"> <i class=\"pricing--the-price\">  $    $    $    </i> <span class=\"pricing--not-the-price\">  $        </span></div>,\n",
       " <div class=\"rest-row-pricing\"> <i class=\"pricing--the-price\">  $    $    $    $  </i> <span class=\"pricing--not-the-price\"> </span></div>,\n",
       " <div class=\"rest-row-pricing\"> <i class=\"pricing--the-price\">  $    $      </i> <span class=\"pricing--not-the-price\">  $    $      </span></div>,\n",
       " <div class=\"rest-row-pricing\"> <i class=\"pricing--the-price\">  $    $    $    $  </i> <span class=\"pricing--not-the-price\"> </span></div>,\n",
       " <div class=\"rest-row-pricing\"> <i class=\"pricing--the-price\">  $    $    $    </i> <span class=\"pricing--not-the-price\">  $        </span></div>,\n",
       " <div class=\"rest-row-pricing\"> <i class=\"pricing--the-price\">  $    $    $    $  </i> <span class=\"pricing--not-the-price\"> </span></div>,\n",
       " <div class=\"rest-row-pricing\"> <i class=\"pricing--the-price\">  $    $      </i> <span class=\"pricing--not-the-price\">  $    $      </span></div>,\n",
       " <div class=\"rest-row-pricing\"> <i class=\"pricing--the-price\">  $    $      </i> <span class=\"pricing--not-the-price\">  $    $      </span></div>,\n",
       " <div class=\"rest-row-pricing\"> <i class=\"pricing--the-price\">  $    $    $    $  </i> <span class=\"pricing--not-the-price\"> </span></div>,\n",
       " <div class=\"rest-row-pricing\"> <i class=\"pricing--the-price\">  $    $    $    </i> <span class=\"pricing--not-the-price\">  $        </span></div>,\n",
       " <div class=\"rest-row-pricing\"> <i class=\"pricing--the-price\">  $    $      </i> <span class=\"pricing--not-the-price\">  $    $      </span></div>,\n",
       " <div class=\"rest-row-pricing\"> <i class=\"pricing--the-price\">  $    $    $    </i> <span class=\"pricing--not-the-price\">  $        </span></div>]"
      ]
     },
     "execution_count": 9,
     "metadata": {},
     "output_type": "execute_result"
    }
   ],
   "source": [
    "# print out all prices\n",
    "soup.find_all('div', {'class':'rest-row-pricing'})"
   ]
  },
  {
   "cell_type": "code",
   "execution_count": 10,
   "metadata": {},
   "outputs": [
    {
     "name": "stdout",
     "output_type": "stream",
     "text": [
      "  $    $    $    \n",
      "  $    $      \n",
      "  $    $      \n",
      "  $    $    $    $  \n",
      "  $    $      \n",
      "  $    $    $    \n",
      "  $    $      \n",
      "  $    $      \n",
      "  $    $    $    $  \n",
      "  $    $      \n",
      "  $    $      \n",
      "  $    $    $    $  \n",
      "  $    $    $    \n",
      "  $    $    $    \n",
      "  $    $      \n",
      "  $    $    $    $  \n",
      "  $    $      \n",
      "  $    $    $    \n",
      "  $    $    $    $  \n",
      "  $    $    $    \n",
      "  $    $      \n",
      "  $    $    $    $  \n",
      "  $    $    $    $  \n",
      "  $    $      \n",
      "  $    $    $    \n",
      "  $    $    $    $  \n",
      "  $    $    $    $  \n",
      "  $    $    $    \n",
      "  $    $    $    \n",
      "  $    $    $    \n",
      "  $    $      \n",
      "  $    $    $    \n",
      "  $    $    $    \n",
      "  $    $      \n",
      "  $    $    $    \n",
      "  $    $    $    \n",
      "  $    $    $    $  \n",
      "  $    $    $    \n",
      "  $    $      \n",
      "  $    $    $    $  \n",
      "  $    $    $    \n",
      "  $    $      \n",
      "  $    $    $    $  \n",
      "  $    $    $    $  \n",
      "  $    $      \n",
      "  $    $    $    $  \n",
      "  $    $    $    $  \n",
      "  $    $    $    $  \n",
      "  $    $      \n",
      "  $    $    $    $  \n",
      "  $    $    $    $  \n",
      "  $    $    $    $  \n",
      "  $    $    $    $  \n",
      "  $    $      \n",
      "  $    $    $    $  \n",
      "  $    $    $    \n",
      "  $    $      \n",
      "  $    $      \n",
      "  $    $    $    $  \n",
      "  $    $    $    \n",
      "  $    $      \n",
      "  $    $      \n",
      "  $    $      \n",
      "  $    $    $    \n",
      "  $    $    $    $  \n",
      "  $    $      \n",
      "  $    $    $    $  \n",
      "  $    $      \n",
      "  $    $    $    \n",
      "  $    $      \n",
      "  $    $      \n",
      "  $    $      \n",
      "  $    $    $    \n",
      "  $    $      \n",
      "  $    $    $    \n",
      "  $    $      \n",
      "  $    $      \n",
      "  $    $      \n",
      "  $    $      \n",
      "  $    $      \n",
      "  $    $      \n",
      "  $    $      \n",
      "  $    $    $    \n",
      "  $    $    $    \n",
      "  $    $      \n",
      "  $    $    $    \n",
      "  $    $    $    \n",
      "  $    $      \n",
      "  $    $    $    \n",
      "  $    $    $    $  \n",
      "  $    $      \n",
      "  $    $    $    $  \n",
      "  $    $    $    \n",
      "  $    $    $    $  \n",
      "  $    $      \n",
      "  $    $      \n",
      "  $    $    $    $  \n",
      "  $    $    $    \n",
      "  $    $      \n",
      "  $    $    $    \n"
     ]
    }
   ],
   "source": [
    "# print out EACH number of dollar signs per restaurant\n",
    "# this one is trickier to eliminate the html. Hint: try a nested find\n",
    "for entry in soup.find_all('div', {'class':'rest-row-pricing'}):\n",
    "    print(entry.find('i').text)"
   ]
  },
  {
   "cell_type": "markdown",
   "metadata": {},
   "source": [
    "That looks great, but what if I wanted just the number of dollar signs per restaurant? Can you figure out a way to simply print out the number of dollar signs per restaurant listed?"
   ]
  },
  {
   "cell_type": "code",
   "execution_count": 11,
   "metadata": {},
   "outputs": [],
   "source": [
    "# print the number of dollars signs per restaurant"
   ]
  },
  {
   "cell_type": "markdown",
   "metadata": {},
   "source": [
    "Phew, nice work. \n",
    "\n",
    "<a id=\"retrieving-bookings\"></a>\n",
    "#### Retrieving the restaurant number of bookings\n",
    "\n",
    "One more, right? We only need to find the number times a restaurant was booked. In the next cell, print out all objects that contain the number of times the restaurant was booked."
   ]
  },
  {
   "cell_type": "code",
   "execution_count": 28,
   "metadata": {},
   "outputs": [
    {
     "data": {
      "text/plain": [
       "[]"
      ]
     },
     "execution_count": 28,
     "metadata": {},
     "output_type": "execute_result"
    }
   ],
   "source": [
    "# print out all objects that contain the number of times the restaurant was booked\n",
    "soup.find_all('div', {'class':'booking'})"
   ]
  },
  {
   "cell_type": "markdown",
   "metadata": {},
   "source": [
    "That's weird -- an empty set. Did we find the wrong element? What's going on here? Discuss.\n",
    "\n",
    "How can we debug this? Any ideas?"
   ]
  },
  {
   "cell_type": "code",
   "execution_count": 30,
   "metadata": {},
   "outputs": [],
   "source": [
    "# let's first try printing out all 'div' objects\n",
    "#  NOTE: This is a too many objects to store in this notebook!\n",
    "#        So, uncomment the code below to run it.\n",
    "\n",
    "# for entry in soup.find_all('div'):\n",
    "#     print(entry)"
   ]
  },
  {
   "cell_type": "markdown",
   "metadata": {},
   "source": [
    "I still don't see it. Let's search our entire soup object:"
   ]
  },
  {
   "cell_type": "code",
   "execution_count": 31,
   "metadata": {
    "collapsed": true
   },
   "outputs": [],
   "source": [
    "# print out soup, do command+f for \"booked \". \n",
    "#   Uncomment the below to run.\n",
    "\n",
    "# soup"
   ]
  },
  {
   "cell_type": "markdown",
   "metadata": {},
   "source": [
    "What do you notice? Why is this happening?"
   ]
  },
  {
   "cell_type": "markdown",
   "metadata": {},
   "source": [
    "<a id=\"selenium\"></a>\n",
    "## Introducing Selenium\n",
    "\n",
    "Selenium is a headless browser. It allows us to render JavaScript just as a human-navigated browser would.\n",
    "\n",
    "To install Selenium, use one of the following:\n",
    "- **Anaconda:** `conda install -c conda-forge selenium`\n",
    "- **pip:** `pip install selenium`\n",
    "\n",
    "You will also need GeckoDriver (this assumes you are using Homebrew for Mac): \n",
    "\n",
    "- ```brew install geckodriver```\n",
    "\n",
    "Additionally, you will need to have downloaded the [Firefox browser](https://www.mozilla.org/en-US/firefox/new/?utm_source=google&utm_medium=cpc&utm_campaign=Firefox-Brand-US-GGL-Exact&utm_term=firefox&utm_content=A144_A203_A006336&gclid=Cj0KEQjwnPLKBRC-j7nt1b7OlZwBEiQAv8lMLJUyReT6cPzSYdmEA6uD3YDoieuuuusddgAU7XH6smEaAoje8P8HAQ&gclsrc=aw.ds) for the application in this lesson."
   ]
  },
  {
   "cell_type": "code",
   "execution_count": 32,
   "metadata": {
    "collapsed": true
   },
   "outputs": [],
   "source": [
    "# import\n",
    "from selenium import webdriver"
   ]
  },
  {
   "cell_type": "markdown",
   "metadata": {},
   "source": [
    "Selenium requires us to determine a default browser to run. I'm going to opt for Firefox, but Chromium is also a very common choice. http://selenium-python.readthedocs.io/faq.html"
   ]
  },
  {
   "cell_type": "code",
   "execution_count": 33,
   "metadata": {
    "collapsed": true
   },
   "outputs": [],
   "source": [
    "# STOP\n",
    "# what is going to happen when I run the next cell?"
   ]
  },
  {
   "cell_type": "code",
   "execution_count": 36,
   "metadata": {
    "collapsed": true
   },
   "outputs": [],
   "source": [
    "# create a driver called Firefox\n",
    "# driver = webdriver.Firefox()"
   ]
  },
  {
   "cell_type": "markdown",
   "metadata": {},
   "source": [
    "Pretty crazy, right? Let's close that driver."
   ]
  },
  {
   "cell_type": "code",
   "execution_count": 37,
   "metadata": {
    "collapsed": true
   },
   "outputs": [],
   "source": [
    "# # close it\n",
    "# driver.close()"
   ]
  },
  {
   "cell_type": "code",
   "execution_count": 38,
   "metadata": {
    "collapsed": true
   },
   "outputs": [],
   "source": [
    "# let's boot it up, and visit a URL of our choice\n",
    "driver = webdriver.Firefox()\n",
    "driver.get(\"http://www.python.org\")"
   ]
  },
  {
   "cell_type": "markdown",
   "metadata": {},
   "source": [
    "Awesome. Now we're getting somewhere: programmatically controlling our browser like a human."
   ]
  },
  {
   "cell_type": "markdown",
   "metadata": {},
   "source": [
    "Let's return to our problem at hand. We need to visit the OpenTable listing for DC. Once there, we need to get the html to load. In the next cell, prove you can programmatically visit the page."
   ]
  },
  {
   "cell_type": "code",
   "execution_count": 40,
   "metadata": {},
   "outputs": [],
   "source": [
    "# visit our OpenTable page\n",
    "driver = webdriver.Firefox()\n",
    "driver.get(\"http://www.opentable.com/washington-dc-restaurant-listings\")\n",
    "\n",
    "# always good to check we've got the page we think we do\n",
    "assert \"OpenTable\" in driver.title"
   ]
  },
  {
   "cell_type": "code",
   "execution_count": 41,
   "metadata": {},
   "outputs": [
    {
     "data": {
      "text/plain": [
       "'Washington, D.C. Area Restaurants List | OpenTable'"
      ]
     },
     "execution_count": 41,
     "metadata": {},
     "output_type": "execute_result"
    }
   ],
   "source": [
    "driver.title"
   ]
  },
  {
   "cell_type": "code",
   "execution_count": 42,
   "metadata": {
    "collapsed": true
   },
   "outputs": [],
   "source": [
    "driver.close()"
   ]
  },
  {
   "cell_type": "markdown",
   "metadata": {},
   "source": [
    "<a id=\"selenium-js\"></a>\n",
    "### Running JavaScript before scraping\n",
    "\n",
    "Now, to resolve our JavaScript problem, there's a few things we can do. What I'll do in this case is request that the page load, wait one second, and then I'm going to grab the source html from the page. Because the page should believe I'm visiting from a live connection on a browser client, the JavaScript should render to be a part of the page source. I can then grab the page source."
   ]
  },
  {
   "cell_type": "code",
   "execution_count": 43,
   "metadata": {
    "collapsed": true
   },
   "outputs": [],
   "source": [
    "# import sleep\n",
    "from time import sleep"
   ]
  },
  {
   "cell_type": "code",
   "execution_count": 48,
   "metadata": {
    "collapsed": true
   },
   "outputs": [],
   "source": [
    "# visit our relevant page\n",
    "driver = webdriver.Firefox()\n",
    "driver.get(\"http://www.opentable.com/washington-dc-restaurant-listings\")\n",
    "\n",
    "# wait one second\n",
    "sleep(1)\n",
    "\n",
    "#grab the page source\n",
    "html = driver.page_source"
   ]
  },
  {
   "cell_type": "markdown",
   "metadata": {},
   "source": [
    "**Pop Quiz:** What do we need to do with this HTML?"
   ]
  },
  {
   "cell_type": "code",
   "execution_count": 49,
   "metadata": {},
   "outputs": [],
   "source": [
    "# BeautifulSoup it!\n",
    "html = BeautifulSoup(html, \"lxml\")"
   ]
  },
  {
   "cell_type": "markdown",
   "metadata": {},
   "source": [
    "Now, let's return to our earlier problem: How do we locate bookings on the page?"
   ]
  },
  {
   "cell_type": "code",
   "execution_count": 50,
   "metadata": {},
   "outputs": [
    {
     "data": {
      "text/plain": [
       "[<div class=\"booking\"><span class=\"tadpole\"></span>Booked 423 times today</div>,\n",
       " <div class=\"booking\"><span class=\"tadpole\"></span>Booked 259 times today</div>,\n",
       " <div class=\"booking\"><span class=\"tadpole\"></span>Booked 208 times today</div>,\n",
       " <div class=\"booking\"><span class=\"tadpole\"></span>Booked 248 times today</div>,\n",
       " <div class=\"booking\"><span class=\"tadpole\"></span>Booked 101 times today</div>,\n",
       " <div class=\"booking\"><span class=\"tadpole\"></span>Booked 73 times today</div>,\n",
       " <div class=\"booking\"><span class=\"tadpole\"></span>Booked 80 times today</div>,\n",
       " <div class=\"booking\"><span class=\"tadpole\"></span>Booked 112 times today</div>,\n",
       " <div class=\"booking\"><span class=\"tadpole\"></span>Booked 44 times today</div>,\n",
       " <div class=\"booking\"><span class=\"tadpole\"></span>Booked 32 times today</div>,\n",
       " <div class=\"booking\"><span class=\"tadpole\"></span>Booked 49 times today</div>,\n",
       " <div class=\"booking\"><span class=\"tadpole\"></span>Booked 43 times today</div>,\n",
       " <div class=\"booking\"><span class=\"tadpole\"></span>Booked 42 times today</div>,\n",
       " <div class=\"booking\"><span class=\"tadpole\"></span>Booked 59 times today</div>,\n",
       " <div class=\"booking\"><span class=\"tadpole\"></span>Booked 26 times today</div>,\n",
       " <div class=\"booking\"><span class=\"tadpole\"></span>Booked 67 times today</div>,\n",
       " <div class=\"booking\"><span class=\"tadpole\"></span>Booked 53 times today</div>,\n",
       " <div class=\"booking\"><span class=\"tadpole\"></span>Booked 55 times today</div>,\n",
       " <div class=\"booking\"><span class=\"tadpole\"></span>Booked 62 times today</div>,\n",
       " <div class=\"booking\"><span class=\"tadpole\"></span>Booked 47 times today</div>,\n",
       " <div class=\"booking\"><span class=\"tadpole\"></span>Booked 60 times today</div>,\n",
       " <div class=\"booking\"><span class=\"tadpole\"></span>Booked 50 times today</div>,\n",
       " <div class=\"booking\"><span class=\"tadpole\"></span>Booked 47 times today</div>,\n",
       " <div class=\"booking\"><span class=\"tadpole\"></span>Booked 42 times today</div>,\n",
       " <div class=\"booking\"><span class=\"tadpole\"></span>Booked 32 times today</div>,\n",
       " <div class=\"booking\"><span class=\"tadpole\"></span>Booked 34 times today</div>,\n",
       " <div class=\"booking\"><span class=\"tadpole\"></span>Booked 46 times today</div>,\n",
       " <div class=\"booking\"><span class=\"tadpole\"></span>Booked 52 times today</div>,\n",
       " <div class=\"booking\"><span class=\"tadpole\"></span>Booked 11 times today</div>,\n",
       " <div class=\"booking\"><span class=\"tadpole\"></span>Booked 12 times today</div>,\n",
       " <div class=\"booking\"><span class=\"tadpole\"></span>Booked 20 times today</div>,\n",
       " <div class=\"booking\"><span class=\"tadpole\"></span>Booked 15 times today</div>,\n",
       " <div class=\"booking\"><span class=\"tadpole\"></span>Booked 26 times today</div>,\n",
       " <div class=\"booking\"><span class=\"tadpole\"></span>Booked 19 times today</div>,\n",
       " <div class=\"booking\"><span class=\"tadpole\"></span>Booked 28 times today</div>,\n",
       " <div class=\"booking\"><span class=\"tadpole\"></span>Booked 39 times today</div>,\n",
       " <div class=\"booking\"><span class=\"tadpole\"></span>Booked 11 times today</div>,\n",
       " <div class=\"booking\"><span class=\"tadpole\"></span>Booked 49 times today</div>,\n",
       " <div class=\"booking\"><span class=\"tadpole\"></span>Booked 21 times today</div>,\n",
       " <div class=\"booking\"><span class=\"tadpole\"></span>Booked 26 times today</div>,\n",
       " <div class=\"booking\"><span class=\"tadpole\"></span>Booked 28 times today</div>,\n",
       " <div class=\"booking\"><span class=\"tadpole\"></span>Booked 13 times today</div>,\n",
       " <div class=\"booking\"><span class=\"tadpole\"></span>Booked 28 times today</div>,\n",
       " <div class=\"booking\"><span class=\"tadpole\"></span>Booked 40 times today</div>,\n",
       " <div class=\"booking\"><span class=\"tadpole\"></span>Booked 38 times today</div>,\n",
       " <div class=\"booking\"><span class=\"tadpole\"></span>Booked 27 times today</div>,\n",
       " <div class=\"booking\"><span class=\"tadpole\"></span>Booked 14 times today</div>,\n",
       " <div class=\"booking\"><span class=\"tadpole\"></span>Booked 16 times today</div>,\n",
       " <div class=\"booking\"><span class=\"tadpole\"></span>Booked 18 times today</div>,\n",
       " <div class=\"booking\"><span class=\"tadpole\"></span>Booked 15 times today</div>,\n",
       " <div class=\"booking\"><span class=\"tadpole\"></span>Booked 52 times today</div>,\n",
       " <div class=\"booking\"><span class=\"tadpole\"></span>Booked 49 times today</div>,\n",
       " <div class=\"booking\"><span class=\"tadpole\"></span>Booked 54 times today</div>,\n",
       " <div class=\"booking\"><span class=\"tadpole\"></span>Booked 13 times today</div>,\n",
       " <div class=\"booking\"><span class=\"tadpole\"></span>Booked 26 times today</div>,\n",
       " <div class=\"booking\"><span class=\"tadpole\"></span>Booked 1 times today</div>,\n",
       " <div class=\"booking\"><span class=\"tadpole\"></span>Booked 12 times today</div>,\n",
       " <div class=\"booking\"><span class=\"tadpole\"></span>Booked 35 times today</div>,\n",
       " <div class=\"booking\"><span class=\"tadpole\"></span>Booked 19 times today</div>,\n",
       " <div class=\"booking\"><span class=\"tadpole\"></span>Booked 24 times today</div>,\n",
       " <div class=\"booking\"><span class=\"tadpole\"></span>Booked 43 times today</div>,\n",
       " <div class=\"booking\"><span class=\"tadpole\"></span>Booked 13 times today</div>,\n",
       " <div class=\"booking\"><span class=\"tadpole\"></span>Booked 14 times today</div>,\n",
       " <div class=\"booking\"><span class=\"tadpole\"></span>Booked 23 times today</div>,\n",
       " <div class=\"booking\"><span class=\"tadpole\"></span>Booked 50 times today</div>,\n",
       " <div class=\"booking\"><span class=\"tadpole\"></span>Booked 19 times today</div>,\n",
       " <div class=\"booking\"><span class=\"tadpole\"></span>Booked 20 times today</div>,\n",
       " <div class=\"booking\"><span class=\"tadpole\"></span>Booked 18 times today</div>,\n",
       " <div class=\"booking\"><span class=\"tadpole\"></span>Booked 18 times today</div>,\n",
       " <div class=\"booking\"><span class=\"tadpole\"></span>Booked 25 times today</div>,\n",
       " <div class=\"booking\"><span class=\"tadpole\"></span>Booked 9 times today</div>,\n",
       " <div class=\"booking\"><span class=\"tadpole\"></span>Booked 27 times today</div>,\n",
       " <div class=\"booking\"><span class=\"tadpole\"></span>Booked 17 times today</div>,\n",
       " <div class=\"booking\"><span class=\"tadpole\"></span>Booked 20 times today</div>,\n",
       " <div class=\"booking\"><span class=\"tadpole\"></span>Booked 7 times today</div>,\n",
       " <div class=\"booking\"><span class=\"tadpole\"></span>Booked 9 times today</div>,\n",
       " <div class=\"booking\"><span class=\"tadpole\"></span>Booked 52 times today</div>,\n",
       " <div class=\"booking\"><span class=\"tadpole\"></span>Booked 23 times today</div>,\n",
       " <div class=\"booking\"><span class=\"tadpole\"></span>Booked 5 times today</div>,\n",
       " <div class=\"booking\"><span class=\"tadpole\"></span>Booked 23 times today</div>,\n",
       " <div class=\"booking\"><span class=\"tadpole\"></span>Booked 30 times today</div>,\n",
       " <div class=\"booking\"><span class=\"tadpole\"></span>Booked 19 times today</div>,\n",
       " <div class=\"booking\"><span class=\"tadpole\"></span>Booked 14 times today</div>,\n",
       " <div class=\"booking\"><span class=\"tadpole\"></span>Booked 99 times today</div>,\n",
       " <div class=\"booking\"><span class=\"tadpole\"></span>Booked 19 times today</div>,\n",
       " <div class=\"booking\"><span class=\"tadpole\"></span>Booked 12 times today</div>,\n",
       " <div class=\"booking\"><span class=\"tadpole\"></span>Booked 14 times today</div>,\n",
       " <div class=\"booking\"><span class=\"tadpole\"></span>Booked 2 times today</div>,\n",
       " <div class=\"booking\"><span class=\"tadpole\"></span>Booked 8 times today</div>,\n",
       " <div class=\"booking\"><span class=\"tadpole\"></span>Booked 18 times today</div>,\n",
       " <div class=\"booking\"><span class=\"tadpole\"></span>Booked 4 times today</div>,\n",
       " <div class=\"booking\"><span class=\"tadpole\"></span>Booked 7 times today</div>,\n",
       " <div class=\"booking\"><span class=\"tadpole\"></span>Booked 6 times today</div>,\n",
       " <div class=\"booking\"><span class=\"tadpole\"></span>Booked 11 times today</div>,\n",
       " <div class=\"booking\"><span class=\"tadpole\"></span>Booked 8 times today</div>,\n",
       " <div class=\"booking\"><span class=\"tadpole\"></span>Booked 25 times today</div>,\n",
       " <div class=\"booking\"><span class=\"tadpole\"></span>Booked 7 times today</div>,\n",
       " <div class=\"booking\"><span class=\"tadpole\"></span>Booked 6 times today</div>]"
      ]
     },
     "execution_count": 50,
     "metadata": {},
     "output_type": "execute_result"
    }
   ],
   "source": [
    "# print out the number bookings for all restaurants\n",
    "html.find_all('div', {'class':'booking'})"
   ]
  },
  {
   "cell_type": "code",
   "execution_count": 51,
   "metadata": {
    "scrolled": true
   },
   "outputs": [
    {
     "name": "stdout",
     "output_type": "stream",
     "text": [
      "<div class=\"booking\"><span class=\"tadpole\"></span>Booked 423 times today</div>\n",
      "<div class=\"booking\"><span class=\"tadpole\"></span>Booked 259 times today</div>\n",
      "<div class=\"booking\"><span class=\"tadpole\"></span>Booked 208 times today</div>\n",
      "<div class=\"booking\"><span class=\"tadpole\"></span>Booked 248 times today</div>\n",
      "<div class=\"booking\"><span class=\"tadpole\"></span>Booked 101 times today</div>\n",
      "<div class=\"booking\"><span class=\"tadpole\"></span>Booked 73 times today</div>\n",
      "<div class=\"booking\"><span class=\"tadpole\"></span>Booked 80 times today</div>\n",
      "<div class=\"booking\"><span class=\"tadpole\"></span>Booked 112 times today</div>\n",
      "<div class=\"booking\"><span class=\"tadpole\"></span>Booked 44 times today</div>\n",
      "<div class=\"booking\"><span class=\"tadpole\"></span>Booked 32 times today</div>\n",
      "<div class=\"booking\"><span class=\"tadpole\"></span>Booked 49 times today</div>\n",
      "<div class=\"booking\"><span class=\"tadpole\"></span>Booked 43 times today</div>\n",
      "<div class=\"booking\"><span class=\"tadpole\"></span>Booked 42 times today</div>\n",
      "<div class=\"booking\"><span class=\"tadpole\"></span>Booked 59 times today</div>\n",
      "<div class=\"booking\"><span class=\"tadpole\"></span>Booked 26 times today</div>\n",
      "<div class=\"booking\"><span class=\"tadpole\"></span>Booked 67 times today</div>\n",
      "<div class=\"booking\"><span class=\"tadpole\"></span>Booked 53 times today</div>\n",
      "<div class=\"booking\"><span class=\"tadpole\"></span>Booked 55 times today</div>\n",
      "<div class=\"booking\"><span class=\"tadpole\"></span>Booked 62 times today</div>\n",
      "<div class=\"booking\"><span class=\"tadpole\"></span>Booked 47 times today</div>\n",
      "<div class=\"booking\"><span class=\"tadpole\"></span>Booked 60 times today</div>\n",
      "<div class=\"booking\"><span class=\"tadpole\"></span>Booked 50 times today</div>\n",
      "<div class=\"booking\"><span class=\"tadpole\"></span>Booked 47 times today</div>\n",
      "<div class=\"booking\"><span class=\"tadpole\"></span>Booked 42 times today</div>\n",
      "<div class=\"booking\"><span class=\"tadpole\"></span>Booked 32 times today</div>\n",
      "<div class=\"booking\"><span class=\"tadpole\"></span>Booked 34 times today</div>\n",
      "<div class=\"booking\"><span class=\"tadpole\"></span>Booked 46 times today</div>\n",
      "<div class=\"booking\"><span class=\"tadpole\"></span>Booked 52 times today</div>\n",
      "<div class=\"booking\"><span class=\"tadpole\"></span>Booked 11 times today</div>\n",
      "<div class=\"booking\"><span class=\"tadpole\"></span>Booked 12 times today</div>\n",
      "<div class=\"booking\"><span class=\"tadpole\"></span>Booked 20 times today</div>\n",
      "<div class=\"booking\"><span class=\"tadpole\"></span>Booked 15 times today</div>\n",
      "<div class=\"booking\"><span class=\"tadpole\"></span>Booked 26 times today</div>\n",
      "<div class=\"booking\"><span class=\"tadpole\"></span>Booked 19 times today</div>\n",
      "<div class=\"booking\"><span class=\"tadpole\"></span>Booked 28 times today</div>\n",
      "<div class=\"booking\"><span class=\"tadpole\"></span>Booked 39 times today</div>\n",
      "<div class=\"booking\"><span class=\"tadpole\"></span>Booked 11 times today</div>\n",
      "<div class=\"booking\"><span class=\"tadpole\"></span>Booked 49 times today</div>\n",
      "<div class=\"booking\"><span class=\"tadpole\"></span>Booked 21 times today</div>\n",
      "<div class=\"booking\"><span class=\"tadpole\"></span>Booked 26 times today</div>\n",
      "<div class=\"booking\"><span class=\"tadpole\"></span>Booked 28 times today</div>\n",
      "<div class=\"booking\"><span class=\"tadpole\"></span>Booked 13 times today</div>\n",
      "<div class=\"booking\"><span class=\"tadpole\"></span>Booked 28 times today</div>\n",
      "<div class=\"booking\"><span class=\"tadpole\"></span>Booked 40 times today</div>\n",
      "<div class=\"booking\"><span class=\"tadpole\"></span>Booked 38 times today</div>\n",
      "<div class=\"booking\"><span class=\"tadpole\"></span>Booked 27 times today</div>\n",
      "<div class=\"booking\"><span class=\"tadpole\"></span>Booked 14 times today</div>\n",
      "<div class=\"booking\"><span class=\"tadpole\"></span>Booked 16 times today</div>\n",
      "<div class=\"booking\"><span class=\"tadpole\"></span>Booked 18 times today</div>\n",
      "<div class=\"booking\"><span class=\"tadpole\"></span>Booked 15 times today</div>\n",
      "<div class=\"booking\"><span class=\"tadpole\"></span>Booked 52 times today</div>\n",
      "<div class=\"booking\"><span class=\"tadpole\"></span>Booked 49 times today</div>\n",
      "<div class=\"booking\"><span class=\"tadpole\"></span>Booked 54 times today</div>\n",
      "<div class=\"booking\"><span class=\"tadpole\"></span>Booked 13 times today</div>\n",
      "<div class=\"booking\"><span class=\"tadpole\"></span>Booked 26 times today</div>\n",
      "<div class=\"booking\"><span class=\"tadpole\"></span>Booked 1 times today</div>\n",
      "<div class=\"booking\"><span class=\"tadpole\"></span>Booked 12 times today</div>\n",
      "<div class=\"booking\"><span class=\"tadpole\"></span>Booked 35 times today</div>\n",
      "<div class=\"booking\"><span class=\"tadpole\"></span>Booked 19 times today</div>\n",
      "<div class=\"booking\"><span class=\"tadpole\"></span>Booked 24 times today</div>\n",
      "<div class=\"booking\"><span class=\"tadpole\"></span>Booked 43 times today</div>\n",
      "<div class=\"booking\"><span class=\"tadpole\"></span>Booked 13 times today</div>\n",
      "<div class=\"booking\"><span class=\"tadpole\"></span>Booked 14 times today</div>\n",
      "<div class=\"booking\"><span class=\"tadpole\"></span>Booked 23 times today</div>\n",
      "<div class=\"booking\"><span class=\"tadpole\"></span>Booked 50 times today</div>\n",
      "<div class=\"booking\"><span class=\"tadpole\"></span>Booked 19 times today</div>\n",
      "<div class=\"booking\"><span class=\"tadpole\"></span>Booked 20 times today</div>\n",
      "<div class=\"booking\"><span class=\"tadpole\"></span>Booked 18 times today</div>\n",
      "<div class=\"booking\"><span class=\"tadpole\"></span>Booked 18 times today</div>\n",
      "<div class=\"booking\"><span class=\"tadpole\"></span>Booked 25 times today</div>\n",
      "<div class=\"booking\"><span class=\"tadpole\"></span>Booked 9 times today</div>\n",
      "<div class=\"booking\"><span class=\"tadpole\"></span>Booked 27 times today</div>\n",
      "<div class=\"booking\"><span class=\"tadpole\"></span>Booked 17 times today</div>\n",
      "<div class=\"booking\"><span class=\"tadpole\"></span>Booked 20 times today</div>\n",
      "<div class=\"booking\"><span class=\"tadpole\"></span>Booked 7 times today</div>\n",
      "<div class=\"booking\"><span class=\"tadpole\"></span>Booked 9 times today</div>\n",
      "<div class=\"booking\"><span class=\"tadpole\"></span>Booked 52 times today</div>\n",
      "<div class=\"booking\"><span class=\"tadpole\"></span>Booked 23 times today</div>\n",
      "<div class=\"booking\"><span class=\"tadpole\"></span>Booked 5 times today</div>\n",
      "<div class=\"booking\"><span class=\"tadpole\"></span>Booked 23 times today</div>\n",
      "<div class=\"booking\"><span class=\"tadpole\"></span>Booked 30 times today</div>\n",
      "<div class=\"booking\"><span class=\"tadpole\"></span>Booked 19 times today</div>\n",
      "<div class=\"booking\"><span class=\"tadpole\"></span>Booked 14 times today</div>\n",
      "<div class=\"booking\"><span class=\"tadpole\"></span>Booked 99 times today</div>\n",
      "<div class=\"booking\"><span class=\"tadpole\"></span>Booked 19 times today</div>\n",
      "<div class=\"booking\"><span class=\"tadpole\"></span>Booked 12 times today</div>\n",
      "<div class=\"booking\"><span class=\"tadpole\"></span>Booked 14 times today</div>\n",
      "<div class=\"booking\"><span class=\"tadpole\"></span>Booked 2 times today</div>\n",
      "<div class=\"booking\"><span class=\"tadpole\"></span>Booked 8 times today</div>\n",
      "<div class=\"booking\"><span class=\"tadpole\"></span>Booked 18 times today</div>\n",
      "<div class=\"booking\"><span class=\"tadpole\"></span>Booked 4 times today</div>\n",
      "<div class=\"booking\"><span class=\"tadpole\"></span>Booked 7 times today</div>\n",
      "<div class=\"booking\"><span class=\"tadpole\"></span>Booked 6 times today</div>\n",
      "<div class=\"booking\"><span class=\"tadpole\"></span>Booked 11 times today</div>\n",
      "<div class=\"booking\"><span class=\"tadpole\"></span>Booked 8 times today</div>\n",
      "<div class=\"booking\"><span class=\"tadpole\"></span>Booked 25 times today</div>\n",
      "<div class=\"booking\"><span class=\"tadpole\"></span>Booked 7 times today</div>\n",
      "<div class=\"booking\"><span class=\"tadpole\"></span>Booked 6 times today</div>\n"
     ]
    }
   ],
   "source": [
    "# now print out each booking for the listings using a loop\n",
    "for entry in html.find_all('div', {'class':'booking'}):\n",
    "    print(entry)"
   ]
  },
  {
   "cell_type": "markdown",
   "metadata": {},
   "source": [
    "Let's grab just the text of each of these entries."
   ]
  },
  {
   "cell_type": "code",
   "execution_count": 52,
   "metadata": {},
   "outputs": [
    {
     "name": "stdout",
     "output_type": "stream",
     "text": [
      "Booked 423 times today\n",
      "Booked 259 times today\n",
      "Booked 208 times today\n",
      "Booked 248 times today\n",
      "Booked 101 times today\n",
      "Booked 73 times today\n",
      "Booked 80 times today\n",
      "Booked 112 times today\n",
      "Booked 44 times today\n",
      "Booked 32 times today\n",
      "Booked 49 times today\n",
      "Booked 43 times today\n",
      "Booked 42 times today\n",
      "Booked 59 times today\n",
      "Booked 26 times today\n",
      "Booked 67 times today\n",
      "Booked 53 times today\n",
      "Booked 55 times today\n",
      "Booked 62 times today\n",
      "Booked 47 times today\n",
      "Booked 60 times today\n",
      "Booked 50 times today\n",
      "Booked 47 times today\n",
      "Booked 42 times today\n",
      "Booked 32 times today\n",
      "Booked 34 times today\n",
      "Booked 46 times today\n",
      "Booked 52 times today\n",
      "Booked 11 times today\n",
      "Booked 12 times today\n",
      "Booked 20 times today\n",
      "Booked 15 times today\n",
      "Booked 26 times today\n",
      "Booked 19 times today\n",
      "Booked 28 times today\n",
      "Booked 39 times today\n",
      "Booked 11 times today\n",
      "Booked 49 times today\n",
      "Booked 21 times today\n",
      "Booked 26 times today\n",
      "Booked 28 times today\n",
      "Booked 13 times today\n",
      "Booked 28 times today\n",
      "Booked 40 times today\n",
      "Booked 38 times today\n",
      "Booked 27 times today\n",
      "Booked 14 times today\n",
      "Booked 16 times today\n",
      "Booked 18 times today\n",
      "Booked 15 times today\n",
      "Booked 52 times today\n",
      "Booked 49 times today\n",
      "Booked 54 times today\n",
      "Booked 13 times today\n",
      "Booked 26 times today\n",
      "Booked 1 times today\n",
      "Booked 12 times today\n",
      "Booked 35 times today\n",
      "Booked 19 times today\n",
      "Booked 24 times today\n",
      "Booked 43 times today\n",
      "Booked 13 times today\n",
      "Booked 14 times today\n",
      "Booked 23 times today\n",
      "Booked 50 times today\n",
      "Booked 19 times today\n",
      "Booked 20 times today\n",
      "Booked 18 times today\n",
      "Booked 18 times today\n",
      "Booked 25 times today\n",
      "Booked 9 times today\n",
      "Booked 27 times today\n",
      "Booked 17 times today\n",
      "Booked 20 times today\n",
      "Booked 7 times today\n",
      "Booked 9 times today\n",
      "Booked 52 times today\n",
      "Booked 23 times today\n",
      "Booked 5 times today\n",
      "Booked 23 times today\n",
      "Booked 30 times today\n",
      "Booked 19 times today\n",
      "Booked 14 times today\n",
      "Booked 99 times today\n",
      "Booked 19 times today\n",
      "Booked 12 times today\n",
      "Booked 14 times today\n",
      "Booked 2 times today\n",
      "Booked 8 times today\n",
      "Booked 18 times today\n",
      "Booked 4 times today\n",
      "Booked 7 times today\n",
      "Booked 6 times today\n",
      "Booked 11 times today\n",
      "Booked 8 times today\n",
      "Booked 25 times today\n",
      "Booked 7 times today\n",
      "Booked 6 times today\n"
     ]
    }
   ],
   "source": [
    "# do the same as above, but grabbing only the text content\n",
    "for entry in html.find_all('div', {'class':'booking'}):\n",
    "    print(entry.text)"
   ]
  },
  {
   "cell_type": "code",
   "execution_count": 53,
   "metadata": {
    "collapsed": true
   },
   "outputs": [],
   "source": [
    "driver.close()"
   ]
  },
  {
   "cell_type": "markdown",
   "metadata": {},
   "source": [
    "We've succeeded!\n",
    "\n",
    "<a id=\"selenium-regex\"></a>\n",
    "### Using regex to only get digits\n",
    "\n",
    "But we can clean this up a little bit. We're going to use regular expressions (regex) to grab only the digits that are available in each of the text.\n",
    "\n",
    "The best way to get good at regex is to, well, just keep trying and testing: http://pythex.org/"
   ]
  },
  {
   "cell_type": "code",
   "execution_count": 54,
   "metadata": {
    "collapsed": true
   },
   "outputs": [],
   "source": [
    "# import regex\n",
    "import re"
   ]
  },
  {
   "cell_type": "markdown",
   "metadata": {},
   "source": [
    "Given we haven't covered regex, I'll show you how to use the search function to match any given digit."
   ]
  },
  {
   "cell_type": "code",
   "execution_count": 55,
   "metadata": {},
   "outputs": [
    {
     "name": "stdout",
     "output_type": "stream",
     "text": [
      "423\n",
      "259\n",
      "208\n",
      "248\n",
      "101\n",
      "73\n",
      "80\n",
      "112\n",
      "44\n",
      "32\n",
      "49\n",
      "43\n",
      "42\n",
      "59\n",
      "26\n",
      "67\n",
      "53\n",
      "55\n",
      "62\n",
      "47\n",
      "60\n",
      "50\n",
      "47\n",
      "42\n",
      "32\n",
      "34\n",
      "46\n",
      "52\n",
      "11\n",
      "12\n",
      "20\n",
      "15\n",
      "26\n",
      "19\n",
      "28\n",
      "39\n",
      "11\n",
      "49\n",
      "21\n",
      "26\n",
      "28\n",
      "13\n",
      "28\n",
      "40\n",
      "38\n",
      "27\n",
      "14\n",
      "16\n",
      "18\n",
      "15\n",
      "52\n",
      "49\n",
      "54\n",
      "13\n",
      "26\n",
      "1\n",
      "12\n",
      "35\n",
      "19\n",
      "24\n",
      "43\n",
      "13\n",
      "14\n",
      "23\n",
      "50\n",
      "19\n",
      "20\n",
      "18\n",
      "18\n",
      "25\n",
      "9\n",
      "27\n",
      "17\n",
      "20\n",
      "7\n",
      "9\n",
      "52\n",
      "23\n",
      "5\n",
      "23\n",
      "30\n",
      "19\n",
      "14\n",
      "99\n",
      "19\n",
      "12\n",
      "14\n",
      "2\n",
      "8\n",
      "18\n",
      "4\n",
      "7\n",
      "6\n",
      "11\n",
      "8\n",
      "25\n",
      "7\n",
      "6\n"
     ]
    }
   ],
   "source": [
    "# for each entry, grab the text\n",
    "for booking in html.find_all('div', {'class':'booking'}):\n",
    "    # match all digits\n",
    "    match = re.search('\\d+', booking.text)\n",
    "    \n",
    "    if match:\n",
    "        # print if found\n",
    "        print(match.group())\n",
    "    else:\n",
    "        # otherwise pass\n",
    "        pass"
   ]
  },
  {
   "cell_type": "markdown",
   "metadata": {},
   "source": [
    "Before we demonstrate all the other amazing things about headless browsers, let's finish up collecting the data we want from this current example. Do you suppose the html parsing we wrote above will still work on the page source we've grabbed from our headless browser?"
   ]
  },
  {
   "cell_type": "markdown",
   "metadata": {},
   "source": [
    "To be most efficient, we want to only do a single loop for each entry on the page. That means we want to find what element all of other other elements (name, location, price, bookings) is housed within. Where on the page is each entry located?"
   ]
  },
  {
   "cell_type": "code",
   "execution_count": 55,
   "metadata": {
    "collapsed": true
   },
   "outputs": [],
   "source": [
    "# print out all entries\n",
    "#   NOTE: Has many entries. Uncomment the below code to run it!\n",
    "\n",
    "# soup.find_all('div', {'class':'result content-section-list-row cf with-times'})"
   ]
  },
  {
   "cell_type": "markdown",
   "metadata": {},
   "source": [
    "Look over the page. Does every single entry have each element we're seeking?\n",
    "> I did this previously. I know for a fact that not every element has a number of recent bookings. That's probably exactly why OpenTable houses this in JavaScript: they want to continously update the number of bookings with the most relevant number of values."
   ]
  },
  {
   "cell_type": "code",
   "execution_count": 56,
   "metadata": {
    "scrolled": true
   },
   "outputs": [
    {
     "name": "stdout",
     "output_type": "stream",
     "text": [
      "None\n",
      "None\n",
      "<div class=\"booking\"><span class=\"tadpole\"></span>Booked 423 times today</div>\n",
      "<div class=\"booking\"><span class=\"tadpole\"></span>Booked 259 times today</div>\n",
      "<div class=\"booking\"><span class=\"tadpole\"></span>Booked 208 times today</div>\n",
      "<div class=\"booking\"><span class=\"tadpole\"></span>Booked 248 times today</div>\n",
      "<div class=\"booking\"><span class=\"tadpole\"></span>Booked 101 times today</div>\n",
      "<div class=\"booking\"><span class=\"tadpole\"></span>Booked 73 times today</div>\n",
      "<div class=\"booking\"><span class=\"tadpole\"></span>Booked 80 times today</div>\n",
      "<div class=\"booking\"><span class=\"tadpole\"></span>Booked 112 times today</div>\n",
      "<div class=\"booking\"><span class=\"tadpole\"></span>Booked 44 times today</div>\n",
      "<div class=\"booking\"><span class=\"tadpole\"></span>Booked 32 times today</div>\n",
      "<div class=\"booking\"><span class=\"tadpole\"></span>Booked 49 times today</div>\n",
      "<div class=\"booking\"><span class=\"tadpole\"></span>Booked 43 times today</div>\n",
      "<div class=\"booking\"><span class=\"tadpole\"></span>Booked 42 times today</div>\n",
      "<div class=\"booking\"><span class=\"tadpole\"></span>Booked 59 times today</div>\n",
      "<div class=\"booking\"><span class=\"tadpole\"></span>Booked 26 times today</div>\n",
      "<div class=\"booking\"><span class=\"tadpole\"></span>Booked 67 times today</div>\n",
      "<div class=\"booking\"><span class=\"tadpole\"></span>Booked 53 times today</div>\n",
      "<div class=\"booking\"><span class=\"tadpole\"></span>Booked 55 times today</div>\n",
      "<div class=\"booking\"><span class=\"tadpole\"></span>Booked 62 times today</div>\n",
      "<div class=\"booking\"><span class=\"tadpole\"></span>Booked 47 times today</div>\n",
      "<div class=\"booking\"><span class=\"tadpole\"></span>Booked 60 times today</div>\n",
      "<div class=\"booking\"><span class=\"tadpole\"></span>Booked 50 times today</div>\n",
      "<div class=\"booking\"><span class=\"tadpole\"></span>Booked 47 times today</div>\n",
      "<div class=\"booking\"><span class=\"tadpole\"></span>Booked 42 times today</div>\n",
      "<div class=\"booking\"><span class=\"tadpole\"></span>Booked 32 times today</div>\n",
      "<div class=\"booking\"><span class=\"tadpole\"></span>Booked 34 times today</div>\n",
      "<div class=\"booking\"><span class=\"tadpole\"></span>Booked 46 times today</div>\n",
      "<div class=\"booking\"><span class=\"tadpole\"></span>Booked 52 times today</div>\n",
      "<div class=\"booking\"><span class=\"tadpole\"></span>Booked 11 times today</div>\n",
      "<div class=\"booking\"><span class=\"tadpole\"></span>Booked 12 times today</div>\n",
      "<div class=\"booking\"><span class=\"tadpole\"></span>Booked 20 times today</div>\n",
      "<div class=\"booking\"><span class=\"tadpole\"></span>Booked 15 times today</div>\n",
      "<div class=\"booking\"><span class=\"tadpole\"></span>Booked 26 times today</div>\n",
      "<div class=\"booking\"><span class=\"tadpole\"></span>Booked 19 times today</div>\n",
      "<div class=\"booking\"><span class=\"tadpole\"></span>Booked 28 times today</div>\n",
      "<div class=\"booking\"><span class=\"tadpole\"></span>Booked 39 times today</div>\n",
      "<div class=\"booking\"><span class=\"tadpole\"></span>Booked 11 times today</div>\n",
      "<div class=\"booking\"><span class=\"tadpole\"></span>Booked 49 times today</div>\n",
      "<div class=\"booking\"><span class=\"tadpole\"></span>Booked 21 times today</div>\n",
      "<div class=\"booking\"><span class=\"tadpole\"></span>Booked 26 times today</div>\n",
      "<div class=\"booking\"><span class=\"tadpole\"></span>Booked 28 times today</div>\n",
      "<div class=\"booking\"><span class=\"tadpole\"></span>Booked 13 times today</div>\n",
      "<div class=\"booking\"><span class=\"tadpole\"></span>Booked 28 times today</div>\n",
      "<div class=\"booking\"><span class=\"tadpole\"></span>Booked 40 times today</div>\n",
      "<div class=\"booking\"><span class=\"tadpole\"></span>Booked 38 times today</div>\n",
      "<div class=\"booking\"><span class=\"tadpole\"></span>Booked 27 times today</div>\n",
      "<div class=\"booking\"><span class=\"tadpole\"></span>Booked 14 times today</div>\n",
      "<div class=\"booking\"><span class=\"tadpole\"></span>Booked 16 times today</div>\n",
      "<div class=\"booking\"><span class=\"tadpole\"></span>Booked 18 times today</div>\n",
      "<div class=\"booking\"><span class=\"tadpole\"></span>Booked 15 times today</div>\n",
      "<div class=\"booking\"><span class=\"tadpole\"></span>Booked 52 times today</div>\n",
      "<div class=\"booking\"><span class=\"tadpole\"></span>Booked 49 times today</div>\n",
      "<div class=\"booking\"><span class=\"tadpole\"></span>Booked 54 times today</div>\n",
      "<div class=\"booking\"><span class=\"tadpole\"></span>Booked 13 times today</div>\n",
      "<div class=\"booking\"><span class=\"tadpole\"></span>Booked 26 times today</div>\n",
      "<div class=\"booking\"><span class=\"tadpole\"></span>Booked 1 times today</div>\n",
      "<div class=\"booking\"><span class=\"tadpole\"></span>Booked 12 times today</div>\n",
      "<div class=\"booking\"><span class=\"tadpole\"></span>Booked 35 times today</div>\n",
      "<div class=\"booking\"><span class=\"tadpole\"></span>Booked 19 times today</div>\n",
      "<div class=\"booking\"><span class=\"tadpole\"></span>Booked 24 times today</div>\n",
      "<div class=\"booking\"><span class=\"tadpole\"></span>Booked 43 times today</div>\n",
      "<div class=\"booking\"><span class=\"tadpole\"></span>Booked 13 times today</div>\n",
      "<div class=\"booking\"><span class=\"tadpole\"></span>Booked 14 times today</div>\n",
      "<div class=\"booking\"><span class=\"tadpole\"></span>Booked 23 times today</div>\n",
      "<div class=\"booking\"><span class=\"tadpole\"></span>Booked 50 times today</div>\n",
      "<div class=\"booking\"><span class=\"tadpole\"></span>Booked 19 times today</div>\n",
      "<div class=\"booking\"><span class=\"tadpole\"></span>Booked 20 times today</div>\n",
      "<div class=\"booking\"><span class=\"tadpole\"></span>Booked 18 times today</div>\n",
      "<div class=\"booking\"><span class=\"tadpole\"></span>Booked 18 times today</div>\n",
      "<div class=\"booking\"><span class=\"tadpole\"></span>Booked 25 times today</div>\n",
      "<div class=\"booking\"><span class=\"tadpole\"></span>Booked 9 times today</div>\n",
      "<div class=\"booking\"><span class=\"tadpole\"></span>Booked 27 times today</div>\n",
      "<div class=\"booking\"><span class=\"tadpole\"></span>Booked 17 times today</div>\n",
      "<div class=\"booking\"><span class=\"tadpole\"></span>Booked 20 times today</div>\n",
      "<div class=\"booking\"><span class=\"tadpole\"></span>Booked 7 times today</div>\n",
      "<div class=\"booking\"><span class=\"tadpole\"></span>Booked 9 times today</div>\n",
      "<div class=\"booking\"><span class=\"tadpole\"></span>Booked 52 times today</div>\n",
      "<div class=\"booking\"><span class=\"tadpole\"></span>Booked 23 times today</div>\n",
      "<div class=\"booking\"><span class=\"tadpole\"></span>Booked 5 times today</div>\n",
      "<div class=\"booking\"><span class=\"tadpole\"></span>Booked 23 times today</div>\n",
      "<div class=\"booking\"><span class=\"tadpole\"></span>Booked 30 times today</div>\n",
      "<div class=\"booking\"><span class=\"tadpole\"></span>Booked 19 times today</div>\n",
      "<div class=\"booking\"><span class=\"tadpole\"></span>Booked 14 times today</div>\n",
      "<div class=\"booking\"><span class=\"tadpole\"></span>Booked 99 times today</div>\n",
      "<div class=\"booking\"><span class=\"tadpole\"></span>Booked 19 times today</div>\n",
      "<div class=\"booking\"><span class=\"tadpole\"></span>Booked 12 times today</div>\n",
      "<div class=\"booking\"><span class=\"tadpole\"></span>Booked 14 times today</div>\n",
      "<div class=\"booking\"><span class=\"tadpole\"></span>Booked 2 times today</div>\n",
      "<div class=\"booking\"><span class=\"tadpole\"></span>Booked 8 times today</div>\n",
      "<div class=\"booking\"><span class=\"tadpole\"></span>Booked 18 times today</div>\n",
      "<div class=\"booking\"><span class=\"tadpole\"></span>Booked 4 times today</div>\n",
      "<div class=\"booking\"><span class=\"tadpole\"></span>Booked 7 times today</div>\n",
      "<div class=\"booking\"><span class=\"tadpole\"></span>Booked 6 times today</div>\n",
      "<div class=\"booking\"><span class=\"tadpole\"></span>Booked 11 times today</div>\n",
      "<div class=\"booking\"><span class=\"tadpole\"></span>Booked 8 times today</div>\n",
      "<div class=\"booking\"><span class=\"tadpole\"></span>Booked 25 times today</div>\n",
      "<div class=\"booking\"><span class=\"tadpole\"></span>Booked 7 times today</div>\n",
      "<div class=\"booking\"><span class=\"tadpole\"></span>Booked 6 times today</div>\n"
     ]
    }
   ],
   "source": [
    "# What happens when a booking is not available?\n",
    "# Print out each booking entry, using the identification code we wrote above\n",
    "\n",
    "for entry in html.find_all('div', {'class':'result content-section-list-row cf with-times'}):\n",
    "    print(entry.find('div', {'class':'booking'}))"
   ]
  },
  {
   "cell_type": "code",
   "execution_count": 60,
   "metadata": {},
   "outputs": [
    {
     "name": "stdout",
     "output_type": "stream",
     "text": [
      "None\n",
      "None\n",
      "<div class=\"booking\"><span class=\"tadpole\"></span>Booked 423 times today</div>\n",
      "<div class=\"booking\"><span class=\"tadpole\"></span>Booked 259 times today</div>\n",
      "<div class=\"booking\"><span class=\"tadpole\"></span>Booked 208 times today</div>\n",
      "<div class=\"booking\"><span class=\"tadpole\"></span>Booked 248 times today</div>\n",
      "<div class=\"booking\"><span class=\"tadpole\"></span>Booked 101 times today</div>\n",
      "<div class=\"booking\"><span class=\"tadpole\"></span>Booked 73 times today</div>\n",
      "<div class=\"booking\"><span class=\"tadpole\"></span>Booked 80 times today</div>\n",
      "<div class=\"booking\"><span class=\"tadpole\"></span>Booked 112 times today</div>\n",
      "<div class=\"booking\"><span class=\"tadpole\"></span>Booked 44 times today</div>\n",
      "<div class=\"booking\"><span class=\"tadpole\"></span>Booked 32 times today</div>\n",
      "<div class=\"booking\"><span class=\"tadpole\"></span>Booked 49 times today</div>\n",
      "<div class=\"booking\"><span class=\"tadpole\"></span>Booked 43 times today</div>\n",
      "<div class=\"booking\"><span class=\"tadpole\"></span>Booked 42 times today</div>\n",
      "<div class=\"booking\"><span class=\"tadpole\"></span>Booked 59 times today</div>\n",
      "<div class=\"booking\"><span class=\"tadpole\"></span>Booked 26 times today</div>\n",
      "<div class=\"booking\"><span class=\"tadpole\"></span>Booked 67 times today</div>\n",
      "<div class=\"booking\"><span class=\"tadpole\"></span>Booked 53 times today</div>\n",
      "<div class=\"booking\"><span class=\"tadpole\"></span>Booked 55 times today</div>\n",
      "<div class=\"booking\"><span class=\"tadpole\"></span>Booked 62 times today</div>\n",
      "<div class=\"booking\"><span class=\"tadpole\"></span>Booked 47 times today</div>\n",
      "<div class=\"booking\"><span class=\"tadpole\"></span>Booked 60 times today</div>\n",
      "<div class=\"booking\"><span class=\"tadpole\"></span>Booked 50 times today</div>\n",
      "<div class=\"booking\"><span class=\"tadpole\"></span>Booked 47 times today</div>\n",
      "<div class=\"booking\"><span class=\"tadpole\"></span>Booked 42 times today</div>\n",
      "<div class=\"booking\"><span class=\"tadpole\"></span>Booked 32 times today</div>\n",
      "<div class=\"booking\"><span class=\"tadpole\"></span>Booked 34 times today</div>\n",
      "<div class=\"booking\"><span class=\"tadpole\"></span>Booked 46 times today</div>\n",
      "<div class=\"booking\"><span class=\"tadpole\"></span>Booked 52 times today</div>\n",
      "<div class=\"booking\"><span class=\"tadpole\"></span>Booked 11 times today</div>\n",
      "<div class=\"booking\"><span class=\"tadpole\"></span>Booked 12 times today</div>\n",
      "<div class=\"booking\"><span class=\"tadpole\"></span>Booked 20 times today</div>\n",
      "<div class=\"booking\"><span class=\"tadpole\"></span>Booked 15 times today</div>\n",
      "<div class=\"booking\"><span class=\"tadpole\"></span>Booked 26 times today</div>\n",
      "<div class=\"booking\"><span class=\"tadpole\"></span>Booked 19 times today</div>\n",
      "<div class=\"booking\"><span class=\"tadpole\"></span>Booked 28 times today</div>\n",
      "<div class=\"booking\"><span class=\"tadpole\"></span>Booked 39 times today</div>\n",
      "<div class=\"booking\"><span class=\"tadpole\"></span>Booked 11 times today</div>\n",
      "<div class=\"booking\"><span class=\"tadpole\"></span>Booked 49 times today</div>\n",
      "<div class=\"booking\"><span class=\"tadpole\"></span>Booked 21 times today</div>\n",
      "<div class=\"booking\"><span class=\"tadpole\"></span>Booked 26 times today</div>\n",
      "<div class=\"booking\"><span class=\"tadpole\"></span>Booked 28 times today</div>\n",
      "<div class=\"booking\"><span class=\"tadpole\"></span>Booked 13 times today</div>\n",
      "<div class=\"booking\"><span class=\"tadpole\"></span>Booked 28 times today</div>\n",
      "<div class=\"booking\"><span class=\"tadpole\"></span>Booked 40 times today</div>\n",
      "<div class=\"booking\"><span class=\"tadpole\"></span>Booked 38 times today</div>\n",
      "<div class=\"booking\"><span class=\"tadpole\"></span>Booked 27 times today</div>\n",
      "<div class=\"booking\"><span class=\"tadpole\"></span>Booked 14 times today</div>\n",
      "<div class=\"booking\"><span class=\"tadpole\"></span>Booked 16 times today</div>\n",
      "<div class=\"booking\"><span class=\"tadpole\"></span>Booked 18 times today</div>\n",
      "<div class=\"booking\"><span class=\"tadpole\"></span>Booked 15 times today</div>\n",
      "<div class=\"booking\"><span class=\"tadpole\"></span>Booked 52 times today</div>\n",
      "<div class=\"booking\"><span class=\"tadpole\"></span>Booked 49 times today</div>\n",
      "<div class=\"booking\"><span class=\"tadpole\"></span>Booked 54 times today</div>\n",
      "<div class=\"booking\"><span class=\"tadpole\"></span>Booked 13 times today</div>\n",
      "<div class=\"booking\"><span class=\"tadpole\"></span>Booked 26 times today</div>\n",
      "<div class=\"booking\"><span class=\"tadpole\"></span>Booked 1 times today</div>\n",
      "<div class=\"booking\"><span class=\"tadpole\"></span>Booked 12 times today</div>\n",
      "<div class=\"booking\"><span class=\"tadpole\"></span>Booked 35 times today</div>\n",
      "<div class=\"booking\"><span class=\"tadpole\"></span>Booked 19 times today</div>\n",
      "<div class=\"booking\"><span class=\"tadpole\"></span>Booked 24 times today</div>\n",
      "<div class=\"booking\"><span class=\"tadpole\"></span>Booked 43 times today</div>\n",
      "<div class=\"booking\"><span class=\"tadpole\"></span>Booked 13 times today</div>\n",
      "<div class=\"booking\"><span class=\"tadpole\"></span>Booked 14 times today</div>\n",
      "<div class=\"booking\"><span class=\"tadpole\"></span>Booked 23 times today</div>\n",
      "<div class=\"booking\"><span class=\"tadpole\"></span>Booked 50 times today</div>\n",
      "<div class=\"booking\"><span class=\"tadpole\"></span>Booked 19 times today</div>\n",
      "<div class=\"booking\"><span class=\"tadpole\"></span>Booked 20 times today</div>\n",
      "<div class=\"booking\"><span class=\"tadpole\"></span>Booked 18 times today</div>\n",
      "<div class=\"booking\"><span class=\"tadpole\"></span>Booked 18 times today</div>\n",
      "<div class=\"booking\"><span class=\"tadpole\"></span>Booked 25 times today</div>\n",
      "<div class=\"booking\"><span class=\"tadpole\"></span>Booked 9 times today</div>\n",
      "<div class=\"booking\"><span class=\"tadpole\"></span>Booked 27 times today</div>\n",
      "<div class=\"booking\"><span class=\"tadpole\"></span>Booked 17 times today</div>\n",
      "<div class=\"booking\"><span class=\"tadpole\"></span>Booked 20 times today</div>\n",
      "<div class=\"booking\"><span class=\"tadpole\"></span>Booked 7 times today</div>\n",
      "<div class=\"booking\"><span class=\"tadpole\"></span>Booked 9 times today</div>\n",
      "<div class=\"booking\"><span class=\"tadpole\"></span>Booked 52 times today</div>\n",
      "<div class=\"booking\"><span class=\"tadpole\"></span>Booked 23 times today</div>\n",
      "<div class=\"booking\"><span class=\"tadpole\"></span>Booked 5 times today</div>\n",
      "<div class=\"booking\"><span class=\"tadpole\"></span>Booked 23 times today</div>\n",
      "<div class=\"booking\"><span class=\"tadpole\"></span>Booked 30 times today</div>\n",
      "<div class=\"booking\"><span class=\"tadpole\"></span>Booked 19 times today</div>\n",
      "<div class=\"booking\"><span class=\"tadpole\"></span>Booked 14 times today</div>\n",
      "<div class=\"booking\"><span class=\"tadpole\"></span>Booked 99 times today</div>\n",
      "<div class=\"booking\"><span class=\"tadpole\"></span>Booked 19 times today</div>\n",
      "<div class=\"booking\"><span class=\"tadpole\"></span>Booked 12 times today</div>\n",
      "<div class=\"booking\"><span class=\"tadpole\"></span>Booked 14 times today</div>\n",
      "<div class=\"booking\"><span class=\"tadpole\"></span>Booked 2 times today</div>\n",
      "<div class=\"booking\"><span class=\"tadpole\"></span>Booked 8 times today</div>\n",
      "<div class=\"booking\"><span class=\"tadpole\"></span>Booked 18 times today</div>\n",
      "<div class=\"booking\"><span class=\"tadpole\"></span>Booked 4 times today</div>\n",
      "<div class=\"booking\"><span class=\"tadpole\"></span>Booked 7 times today</div>\n",
      "<div class=\"booking\"><span class=\"tadpole\"></span>Booked 6 times today</div>\n",
      "<div class=\"booking\"><span class=\"tadpole\"></span>Booked 11 times today</div>\n",
      "<div class=\"booking\"><span class=\"tadpole\"></span>Booked 8 times today</div>\n",
      "<div class=\"booking\"><span class=\"tadpole\"></span>Booked 25 times today</div>\n",
      "<div class=\"booking\"><span class=\"tadpole\"></span>Booked 7 times today</div>\n",
      "<div class=\"booking\"><span class=\"tadpole\"></span>Booked 6 times today</div>\n"
     ]
    }
   ],
   "source": [
    "# We want to only retrieve the text of the bookings.\n",
    "# But what would happen if we just naively print the text of each node?\n",
    "for entry in html.find_all('div', {'class':'result content-section-list-row cf with-times'}):\n",
    "    print(entry.find('div', {'class':'booking'}))   # try adding .text"
   ]
  },
  {
   "cell_type": "markdown",
   "metadata": {},
   "source": [
    "What do you notice takes the place when booking is not found?\n",
    "\n",
    "We could use exception handling (`try`/`except` blocks) to resolve this. However, exceptions should only be used to handle rare or unexpected errors -- never for normal program flow.\n",
    "\n",
    "In this case, we expect that some entries will be zero. So, we can just use an `if` statement that tests whether there are any `divs` present; if not, display `'ZERO'`. Here's a demo:"
   ]
  },
  {
   "cell_type": "code",
   "execution_count": 62,
   "metadata": {},
   "outputs": [
    {
     "name": "stdout",
     "output_type": "stream",
     "text": [
      "ZERO\n",
      "ZERO\n",
      "Booked 423 times today\n",
      "Booked 259 times today\n",
      "Booked 208 times today\n",
      "Booked 248 times today\n",
      "Booked 101 times today\n",
      "Booked 73 times today\n",
      "Booked 80 times today\n",
      "Booked 112 times today\n",
      "Booked 44 times today\n",
      "Booked 32 times today\n",
      "Booked 49 times today\n",
      "Booked 43 times today\n",
      "Booked 42 times today\n",
      "Booked 59 times today\n",
      "Booked 26 times today\n",
      "Booked 67 times today\n",
      "Booked 53 times today\n",
      "Booked 55 times today\n",
      "Booked 62 times today\n",
      "Booked 47 times today\n",
      "Booked 60 times today\n",
      "Booked 50 times today\n",
      "Booked 47 times today\n",
      "Booked 42 times today\n",
      "Booked 32 times today\n",
      "Booked 34 times today\n",
      "Booked 46 times today\n",
      "Booked 52 times today\n",
      "Booked 11 times today\n",
      "Booked 12 times today\n",
      "Booked 20 times today\n",
      "Booked 15 times today\n",
      "Booked 26 times today\n",
      "Booked 19 times today\n",
      "Booked 28 times today\n",
      "Booked 39 times today\n",
      "Booked 11 times today\n",
      "Booked 49 times today\n",
      "Booked 21 times today\n",
      "Booked 26 times today\n",
      "Booked 28 times today\n",
      "Booked 13 times today\n",
      "Booked 28 times today\n",
      "Booked 40 times today\n",
      "Booked 38 times today\n",
      "Booked 27 times today\n",
      "Booked 14 times today\n",
      "Booked 16 times today\n",
      "Booked 18 times today\n",
      "Booked 15 times today\n",
      "Booked 52 times today\n",
      "Booked 49 times today\n",
      "Booked 54 times today\n",
      "Booked 13 times today\n",
      "Booked 26 times today\n",
      "Booked 1 times today\n",
      "Booked 12 times today\n",
      "Booked 35 times today\n",
      "Booked 19 times today\n",
      "Booked 24 times today\n",
      "Booked 43 times today\n",
      "Booked 13 times today\n",
      "Booked 14 times today\n",
      "Booked 23 times today\n",
      "Booked 50 times today\n",
      "Booked 19 times today\n",
      "Booked 20 times today\n",
      "Booked 18 times today\n",
      "Booked 18 times today\n",
      "Booked 25 times today\n",
      "Booked 9 times today\n",
      "Booked 27 times today\n",
      "Booked 17 times today\n",
      "Booked 20 times today\n",
      "Booked 7 times today\n",
      "Booked 9 times today\n",
      "Booked 52 times today\n",
      "Booked 23 times today\n",
      "Booked 5 times today\n",
      "Booked 23 times today\n",
      "Booked 30 times today\n",
      "Booked 19 times today\n",
      "Booked 14 times today\n",
      "Booked 99 times today\n",
      "Booked 19 times today\n",
      "Booked 12 times today\n",
      "Booked 14 times today\n",
      "Booked 2 times today\n",
      "Booked 8 times today\n",
      "Booked 18 times today\n",
      "Booked 4 times today\n",
      "Booked 7 times today\n",
      "Booked 6 times today\n",
      "Booked 11 times today\n",
      "Booked 8 times today\n",
      "Booked 25 times today\n",
      "Booked 7 times today\n",
      "Booked 6 times today\n"
     ]
    }
   ],
   "source": [
    "# if we find the element we want, we print it. Otherwise, we print 'ZERO'\n",
    "for entry in html.find_all('div', {'class':'result content-section-list-row cf with-times'}):\n",
    "    booking_tag = entry.find('div', {'class':'booking'})\n",
    "    \n",
    "    if booking_tag:\n",
    "        print(booking_tag.text)\n",
    "    else:\n",
    "        print('ZERO')"
   ]
  },
  {
   "cell_type": "markdown",
   "metadata": {},
   "source": [
    "After previously completing this, we observed that all other elements WILL be returned. This means we do not have to always handle these cases.\n",
    "\n",
    "<a id=\"challenge-pandas\"></a>\n",
    "### Challenge: Use Pandas to create a DataFrame of bookings\n",
    "\n",
    "However, the onus is on you to now put all the pieces together.\n",
    "\n",
    "Loop through each entry. For each entry, grab the relevant information we want (name, location, price, bookings). Produce a dataframe with the columns \"name\",\"location\",\"price\",\"bookings\" that contains the 100 entries we would like."
   ]
  },
  {
   "cell_type": "code",
   "execution_count": 63,
   "metadata": {
    "collapsed": true
   },
   "outputs": [],
   "source": [
    "import pandas as pd"
   ]
  },
  {
   "cell_type": "code",
   "execution_count": 64,
   "metadata": {
    "collapsed": true
   },
   "outputs": [],
   "source": [
    "# I'm going to create my empty df first\n",
    "dc_eats = pd.DataFrame(columns=[\"name\",\"location\",\"price\",\"bookings\"])"
   ]
  },
  {
   "cell_type": "code",
   "execution_count": 65,
   "metadata": {
    "collapsed": true
   },
   "outputs": [],
   "source": [
    "# Put code here that populates the DataFrame using Selenium and BeautifulSoup!"
   ]
  },
  {
   "cell_type": "code",
   "execution_count": 66,
   "metadata": {},
   "outputs": [
    {
     "data": {
      "text/html": [
       "<div>\n",
       "<style>\n",
       "    .dataframe thead tr:only-child th {\n",
       "        text-align: right;\n",
       "    }\n",
       "\n",
       "    .dataframe thead th {\n",
       "        text-align: left;\n",
       "    }\n",
       "\n",
       "    .dataframe tbody tr th {\n",
       "        vertical-align: top;\n",
       "    }\n",
       "</style>\n",
       "<table border=\"1\" class=\"dataframe\">\n",
       "  <thead>\n",
       "    <tr style=\"text-align: right;\">\n",
       "      <th></th>\n",
       "      <th>name</th>\n",
       "      <th>location</th>\n",
       "      <th>price</th>\n",
       "      <th>bookings</th>\n",
       "    </tr>\n",
       "  </thead>\n",
       "  <tbody>\n",
       "  </tbody>\n",
       "</table>\n",
       "</div>"
      ],
      "text/plain": [
       "Empty DataFrame\n",
       "Columns: [name, location, price, bookings]\n",
       "Index: []"
      ]
     },
     "execution_count": 66,
     "metadata": {},
     "output_type": "execute_result"
    }
   ],
   "source": [
    "# check out our work\n",
    "dc_eats.head()"
   ]
  },
  {
   "cell_type": "markdown",
   "metadata": {},
   "source": [
    "Awesome! We succeeded.\n",
    "\n",
    "<a id=\"selenium-typing\"></a>\n",
    "### Auto-typing using Selenium\n",
    "\n",
    "Now, let's explore some of the other functionality of a webdriver. We've barely scratched the surface."
   ]
  },
  {
   "cell_type": "code",
   "execution_count": 67,
   "metadata": {
    "collapsed": true
   },
   "outputs": [],
   "source": [
    "# we can send keys as well\n",
    "\n",
    "from selenium.webdriver.common.keys import Keys"
   ]
  },
  {
   "cell_type": "code",
   "execution_count": 68,
   "metadata": {
    "collapsed": true
   },
   "outputs": [],
   "source": [
    "# open Firefox\n",
    "driver = webdriver.Firefox()\n",
    "\n",
    "# visit Python\n",
    "driver.get(\"http://www.python.org\")\n",
    "\n",
    "# verify we're in the right place\n",
    "assert \"Python\" in driver.title"
   ]
  },
  {
   "cell_type": "markdown",
   "metadata": {},
   "source": [
    "Let's try automatedly typing `pycon` in the search box and hitting the return key:"
   ]
  },
  {
   "cell_type": "code",
   "execution_count": 69,
   "metadata": {
    "collapsed": true
   },
   "outputs": [],
   "source": [
    "# find the search position\n",
    "elem = driver.find_element_by_name(\"q\")\n",
    "\n",
    "# clear it\n",
    "elem.clear()\n",
    "\n",
    "# type in pycon\n",
    "elem.send_keys(\"pycon\")\n",
    "\n",
    "# send those keys\n",
    "elem.send_keys(Keys.RETURN)"
   ]
  },
  {
   "cell_type": "code",
   "execution_count": 70,
   "metadata": {
    "collapsed": true
   },
   "outputs": [],
   "source": [
    "# close\n",
    "driver.close()"
   ]
  },
  {
   "cell_type": "code",
   "execution_count": 71,
   "metadata": {
    "collapsed": true
   },
   "outputs": [],
   "source": [
    "# all at once:\n",
    "driver = webdriver.Firefox()\n",
    "driver.get(\"http://www.python.org\")\n",
    "assert \"Python\" in driver.title\n",
    "\n",
    "elem = driver.find_element_by_name(\"q\")\n",
    "elem.clear()\n",
    "elem.send_keys(\"pycon\")\n",
    "elem.send_keys(Keys.RETURN)\n",
    "#assert \"No results found.\" not in driver.page_source\n",
    "driver.close()"
   ]
  },
  {
   "cell_type": "markdown",
   "metadata": {},
   "source": [
    "The above example (and many others) are available in the Selenium docs: http://selenium-python.readthedocs.io/getting-started.html\n",
    "\n",
    "What is especially important is exploring functionality like locating elements: http://selenium-python.readthedocs.io/locating-elements.html#locating-elements\n",
    "\n",
    "FAQ:\n",
    "http://selenium-python.readthedocs.io/faq.html"
   ]
  },
  {
   "cell_type": "markdown",
   "metadata": {},
   "source": [
    "### Summary\n",
    "\n",
    "In this lesson, we used the Beautiful Soup library to locate elements on a website then scrape their text. We also used the Selenium headless browser to run JavaScript first before retrieving the page contents."
   ]
  },
  {
   "cell_type": "code",
   "execution_count": null,
   "metadata": {
    "collapsed": true
   },
   "outputs": [],
   "source": []
  }
 ],
 "metadata": {
  "anaconda-cloud": {},
  "kernelspec": {
   "display_name": "Python 3",
   "language": "python",
   "name": "python3"
  },
  "language_info": {
   "codemirror_mode": {
    "name": "ipython",
    "version": 3
   },
   "file_extension": ".py",
   "mimetype": "text/x-python",
   "name": "python",
   "nbconvert_exporter": "python",
   "pygments_lexer": "ipython3",
   "version": "3.6.5"
  }
 },
 "nbformat": 4,
 "nbformat_minor": 1
}
